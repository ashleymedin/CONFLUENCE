{
 "cells": [
  {
   "cell_type": "markdown",
   "metadata": {},
   "source": [
    "# Initializing a New Project with CONFLUENCE\n",
    "\n",
    "## Introduction to CONFLUENCE\n",
    "\n",
    "CONFLUENCE (Community Optimization and Numerical Framework for Large-domain Understanding of Environmental Networks and Computational Exploration) is a hydrological modeling platform designed to facilitate comprehensive analysis and simulation of water systems across various scales and regions. It integrates multiple components for e.g. data management, model setup, optimization, visualization, and workflow management.\n",
    "\n",
    "CONFLUENCE is intended to be useful for researchers, water resource managers, and environmental scientists who need to model hydrological systems, assess water availability, predict flooding events, or study the impacts of climate change on water resources. Its modular architecture allows for flexibility in model choice and parameter optimization, making it adaptable to a wide range of hydrological scenarios and research questions."
   ]
  },
  {
   "cell_type": "markdown",
   "metadata": {},
   "source": [
    "## Key Configuration Settings\n",
    "\n",
    "All configuration settings for the CONFLUENCE workflow are stored in the `config_active.yaml` file. Let's review the key parts of the file that are essential for initializing a new project and will be used throughout the workflow:\n",
    "\n",
    "1. `CONFLUENCE_DATA_DIR`: The root directory where all CONFLUENCE data will be stored.\n",
    "2. `CONFLUENCE_CODE_DIR`: The directory containing the CONFLUENCE code.\n",
    "3. `DOMAIN_NAME`: The name of your study area or project domain.\n",
    "4. `EXPERIMENT_ID`: The name of the experimental instantiation\n",
    "4. `MPI_PROCESSES`: The number of parallel processes allowed, based on your system's capabilities"
   ]
  },
  {
   "cell_type": "markdown",
   "metadata": {},
   "source": [
    "## First we import the libraries and functions we need"
   ]
  },
  {
   "cell_type": "code",
   "execution_count": 1,
   "metadata": {},
   "outputs": [
    {
     "name": "stdout",
     "output_type": "stream",
     "text": [
      "All modules imported successfully\n"
     ]
    }
   ],
   "source": [
    "import sys\n",
    "from pathlib import Path\n",
    "import yaml # type: ignore\n",
    "import logging\n",
    "\n",
    "# Get the current working directory\n",
    "current_dir = Path.cwd()\n",
    "\n",
    "# Add the parent directory to sys.path\n",
    "base_dir = current_dir.parent.parent\n",
    "sys.path.append(str(base_dir))\n",
    "\n",
    "# Import from CONFLUENCE utils\\n\",\n",
    "from utils.dataHandling_utils.data_utils import ProjectInitialisation # type: ignore\n",
    "\n",
    "print(\"All modules imported successfully\")"
   ]
  },
  {
   "cell_type": "markdown",
   "metadata": {},
   "source": [
    "## Review configurations\n",
    "\n",
    "Now we should print our configuration settings and make sure that we have defined all the settings we need at this stage of the workflow. "
   ]
  },
  {
   "cell_type": "code",
   "execution_count": 2,
   "metadata": {},
   "outputs": [
    {
     "name": "stdout",
     "output_type": "stream",
     "text": [
      "CONFLUENCE_DATA_DIR: /Users/amedin/Research/Confluence/CONFLUENCE_data\n",
      "CONFLUENCE_CODE_DIR: /Users/amedin/Research/Confluence/CONFLUENCE\n",
      "DOMAIN_NAME: Wolverine\n",
      "EXPERIMENT_ID: run_1\n",
      "MPI_PROCESSES: 0\n"
     ]
    }
   ],
   "source": [
    "config_path = Path('../../0_config_files/config_active.yaml')\n",
    "with open(config_path, 'r') as config_file:\n",
    "    config = yaml.safe_load(config_file)\n",
    "    \n",
    "    # Display key configuration settings\\n\",\n",
    "    print(f\"CONFLUENCE_DATA_DIR: {config['CONFLUENCE_DATA_DIR']}\")\n",
    "    print(f\"CONFLUENCE_CODE_DIR: {config['CONFLUENCE_CODE_DIR']}\")\n",
    "    print(f\"DOMAIN_NAME: {config['DOMAIN_NAME']}\")\n",
    "    print(f\"EXPERIMENT_ID: {config['EXPERIMENT_ID']}\")\n",
    "    print(f\"MPI_PROCESSES: {config['MPI_PROCESSES']}\")"
   ]
  },
  {
   "cell_type": "markdown",
   "metadata": {},
   "source": [
    "## Setting Up a New Project\n",
    "Now that we have our configuration loaded, let's set up a new project. This process involves creating the necessary directory structure for our CONFLUENCE project."
   ]
  },
  {
   "cell_type": "code",
   "execution_count": 3,
   "metadata": {},
   "outputs": [
    {
     "name": "stderr",
     "output_type": "stream",
     "text": [
      "2025-03-13 15:23:58,536 - INFO - Project directory created at: /Users/amedin/Research/Confluence/CONFLUENCE_data/domain_Wolverine\n",
      "2025-03-13 15:23:58,537 - INFO - Shapefiles directories created\n"
     ]
    },
    {
     "name": "stdout",
     "output_type": "stream",
     "text": [
      ".DS_Store\n",
      "attributes\n",
      "attributes/.DS_Store\n",
      "attributes/elevation\n",
      "attributes/elevation/.DS_Store\n",
      "attributes/elevation/dem\n",
      "attributes/elevation/dem/domain_Wolverine_elv.tif\n",
      "attributes/glaciers\n",
      "attributes/landclass\n",
      "attributes/landclass/MCD12Q1.006\n",
      "attributes/landclass/MCD12Q1.006/domain_Wolverine_2001.tif\n",
      "attributes/landclass/MCD12Q1.006/domain_Wolverine_2002.tif\n",
      "attributes/landclass/MCD12Q1.006/domain_Wolverine_2003.tif\n",
      "attributes/landclass/MCD12Q1.006/domain_Wolverine_2004.tif\n",
      "attributes/landclass/MCD12Q1.006/domain_Wolverine_2005.tif\n",
      "attributes/landclass/MCD12Q1.006/domain_Wolverine_2006.tif\n",
      "attributes/landclass/MCD12Q1.006/domain_Wolverine_2007.tif\n",
      "attributes/landclass/MCD12Q1.006/domain_Wolverine_2008.tif\n",
      "attributes/landclass/MCD12Q1.006/domain_Wolverine_2009.tif\n",
      "attributes/landclass/MCD12Q1.006/domain_Wolverine_2010.tif\n",
      "attributes/landclass/MCD12Q1.006/domain_Wolverine_2011.tif\n",
      "attributes/landclass/MCD12Q1.006/domain_Wolverine_2012.tif\n",
      "attributes/landclass/MCD12Q1.006/domain_Wolverine_2013.tif\n",
      "attributes/landclass/MCD12Q1.006/domain_Wolverine_2014.tif\n",
      "attributes/landclass/MCD12Q1.006/domain_Wolverine_2015.tif\n",
      "attributes/landclass/MCD12Q1.006/domain_Wolverine_2016.tif\n",
      "attributes/landclass/MCD12Q1.006/domain_Wolverine_2017.tif\n",
      "attributes/landclass/MCD12Q1.006/domain_Wolverine_2018.tif\n",
      "attributes/landclass/MCD12Q1.006/domain_Wolverine_2019.tif\n",
      "attributes/landclass/MCD12Q1.006/domain_Wolverine_2020.tif\n",
      "attributes/landclass/domain_Wolverine_land_classes.tif\n",
      "attributes/soilclass\n",
      "attributes/soilclass/domain_Wolverine_soil_classes.tif\n",
      "documentation\n",
      "observations\n",
      "observations/streamflow\n",
      "observations/streamflow/raw_data\n",
      "shapefiles\n",
      "shapefiles/catchment\n",
      "shapefiles/pour_point\n",
      "shapefiles/river_basins\n",
      "shapefiles/river_network\n"
     ]
    }
   ],
   "source": [
    "# Set up \n",
    "logging.basicConfig(level=logging.INFO, format='%(asctime)s - %(levelname)s - %(message)s')\n",
    "logger = logging.getLogger(__name__)\n",
    "\n",
    "# Initialize ProjectInitialisation class\n",
    "project_init = ProjectInitialisation(config, logger)\n",
    "\n",
    "# Set up the project\n",
    "project_dir = project_init.setup_project()\n",
    "logger.info(f\"Project directory created at: {project_dir}\")\n",
    "logger.info(\"Shapefiles directories created\")\n",
    "\n",
    "# Display the created directory structure\n",
    "for path in sorted(project_dir.rglob('*')):\n",
    "    print(path.relative_to(project_dir))"
   ]
  },
  {
   "cell_type": "markdown",
   "metadata": {},
   "source": [
    "## Conclusion\n",
    "Congratulations! You have successfully initialized a new CONFLUENCE project. Here's a summary of what we've accomplished:\n",
    "\n",
    "1. Loaded and reviewed key configuration settings\n",
    "2. Set up the project directory structure\n",
    "\n",
    "Your CONFLUENCE project is now ready for the next steps, such as geospatial definitions, data acquisition, model setup, and running simulations. In the following notebooks, we'll explore these advanced features of CONFLUENCE to build a comprehensive hydrological model for your domain, starting with defining the spatial domain of your project. "
   ]
  }
 ],
 "metadata": {
  "kernelspec": {
   "display_name": "confluence",
   "language": "python",
   "name": "python3"
  },
  "language_info": {
   "codemirror_mode": {
    "name": "ipython",
    "version": 3
   },
   "file_extension": ".py",
   "mimetype": "text/x-python",
   "name": "python",
   "nbconvert_exporter": "python",
   "pygments_lexer": "ipython3",
   "version": "3.13.2"
  }
 },
 "nbformat": 4,
 "nbformat_minor": 4
}
