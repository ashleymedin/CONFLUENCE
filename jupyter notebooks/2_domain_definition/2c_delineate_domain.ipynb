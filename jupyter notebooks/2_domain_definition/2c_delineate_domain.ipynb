{
 "cells": [
  {
   "cell_type": "markdown",
   "metadata": {},
   "source": [
    "# Defining the Spatial Domain in CONFLUENCE\n",
    "## Introduction\n",
    "In this notebook, we'll explore the different methods for defining the spatial domain in CONFLUENCE. The spatial domain is crucial as it determines the area of interest for our hydrological modeling. CONFLUENCE offers several options for domain definition, each suited to different needs and data availability."
   ]
  },
  {
   "cell_type": "markdown",
   "metadata": {},
   "source": [
    "## Setup\n",
    "First, let's set up our environment and import the necessary modules:"
   ]
  },
  {
   "cell_type": "code",
   "execution_count": 1,
   "metadata": {},
   "outputs": [
    {
     "name": "stderr",
     "output_type": "stream",
     "text": [
      "OMP: Info #276: omp_set_nested routine deprecated, please use omp_set_max_active_levels instead.\n"
     ]
    }
   ],
   "source": [
    "import sys\n",
    "from pathlib import Path\n",
    "\n",
    "# Add the parent directory to sys.path\n",
    "current_dir = Path.cwd()\n",
    "parent_dir = current_dir.parent.parent\n",
    "sys.path.append(str(parent_dir))\n",
    "\n",
    "import yaml # type: ignore\n",
    "from utils.geospatial_utils.geofabric_utils import GeofabricSubsetter, GeofabricDelineator, LumpedWatershedDelineator # type: ignore\n",
    "import logging\n",
    "\n",
    "# Load configuration\n",
    "config_file = 'config_active.yaml'\n",
    "config_path = parent_dir / '0_config_files' / config_file\n",
    "with open(config_path, 'r') as config_file:\n",
    "    config = yaml.safe_load(config_file)\n",
    "\n",
    "# Set up logging\n",
    "logging.basicConfig(level=logging.INFO, format='%(asctime)s - %(levelname)s - %(message)s')\n",
    "logger = logging.getLogger(__name__)"
   ]
  },
  {
   "cell_type": "markdown",
   "metadata": {},
   "source": [
    "# Domain Definition Methods\n",
    "## CONFLUENCE supports three main methods for defining the spatial domain:\n",
    "\n",
    "1. Subsetting an existing geofabric\n",
    "2. Delineating a lumped watershed\n",
    "3. Delineating a new geofabric\n",
    "\n",
    "Let's explore each of these methods.\n",
    "\n",
    "# 1. Subsetting an Existing Geofabric\n",
    "\n",
    "This method is useful when you have an existing geofabric and want to extract a portion of it for your study area. Confluence will subset the model domain upstream of the pour point we defined in notebook 0_initializeProject. CONFLUENCE currently supports the MERIT, TDX and NWS hydrofabrics\n",
    "\n",
    "To use this method, set in config:\n",
    "\n",
    "- DOMAIN_DEFINITION_METHOD: subset\n",
    "- GEOFABRIC_TYPE: \"Merit\", \"TDX\" or \"NWS\"\n",
    "- SOURCE_GEOFABRIC_BASINS_PATH: /path/to/source/geofabric_basins/geofabric_basins.shp\n",
    "- SOURCE_GEOFABRIC_RIVERS_PATH: /path/to/source/geofabric_rivers/geofabric_rivers.shp\n",
    "- OUTPUT_BASINS_PATH: /path/to/output/geofabric_basins/model_basins.shp\n",
    "- OUTPUT_RIVERS_PATH: /path/to/output/geofabric_rivers/model_rivers.shp\n",
    "\n",
    "Then call:\n",
    "subset_geofabric()"
   ]
  },
  {
   "cell_type": "code",
   "execution_count": 2,
   "metadata": {},
   "outputs": [],
   "source": [
    "def subset_geofabric():\n",
    "    subsetter = GeofabricSubsetter(config, logger)\n",
    "    subset_basins, subset_rivers = subsetter.subset_geofabric()\n",
    "    \n",
    "    if subset_basins is not None and subset_rivers is not None:\n",
    "        logger.info(\"Geofabric subsetting completed successfully\")\n",
    "    else:\n",
    "        logger.error(\"Geofabric subsetting failed\")"
   ]
  },
  {
   "cell_type": "markdown",
   "metadata": {},
   "source": [
    "## 2. Delineating a Lumped Watershed\n",
    "\n",
    "This method creates a simple, single-unit watershed based on a pour point and DEM. CONFLUENCE allows for a choice whether to use the PySHEDS library or TauDEM for watershed delineation. \n",
    "\n",
    "To use this method, set in config:\n",
    "\n",
    "- DOMAIN_DEFINITION_METHOD: lumped\n",
    "- DEM_PATH: path/to/your/dem\n",
    "- LUMPED_WATERSHED_METHOD: \"pysheds\" or \"taudem\"\n",
    "\n",
    "Note, if you use numpy>2.0, you will need to `pip install git+https://github.com/ashleymedin/pysheds.git` instead of the standard pysheds, or you will get an error \"TypeError: 'nodata' value not representable in dytype of array\"\n",
    "\n",
    "Then call: \n",
    "delineate_lumped_watershed()"
   ]
  },
  {
   "cell_type": "code",
   "execution_count": 3,
   "metadata": {},
   "outputs": [],
   "source": [
    "def delineate_lumped_watershed():\n",
    "    delineator = LumpedWatershedDelineator(config, logger)\n",
    "    watershed_shapefile = delineator.delineate_lumped_watershed()\n",
    "    \n",
    "    if watershed_shapefile:\n",
    "        logger.info(f\"Lumped watershed delineation completed. Shapefile: {watershed_shapefile}\")\n",
    "    else:\n",
    "        logger.error(\"Lumped watershed delineation failed\")"
   ]
  },
  {
   "cell_type": "markdown",
   "metadata": {},
   "source": [
    "## 3. Delineating a New Geofabric\n",
    "\n",
    "This method creates a new, detailed geofabric for your study area using a DEM and pour point. This method uses the TauDEM (Terrain Analysis Using Digital Elevation Models) tools for watershed delineation which are available at https://github.com/dtarb/TauDEM. To use this functionality the TauDEM binaries need to be compiled and made available in the system PATH\n",
    "\n",
    "To use this method, set in config:\n",
    "\n",
    "- DOMAIN_DEFINITION_METHOD: delineate\n",
    "- DEM_PATH: path/to/your/dem\n",
    "- STREAM_THRESHOLD: Threshold flow accumulation for stream vectorisation\n",
    "- TAUDEM_DIR: path/to/TauDEM/binaries\n",
    "\n",
    "Then call: delineate_geofabric()"
   ]
  },
  {
   "cell_type": "code",
   "execution_count": 4,
   "metadata": {},
   "outputs": [],
   "source": [
    "def delineate_geofabric():\n",
    "    delineator = GeofabricDelineator(config, logger)\n",
    "    river_network_path, river_basins_path = delineator.delineate_geofabric()\n",
    "    \n",
    "    if river_network_path and river_basins_path:\n",
    "        logger.info(f\"Geofabric delineation completed.\")\n",
    "        logger.info(f\"River network: {river_network_path}\")\n",
    "        logger.info(f\"River basins: {river_basins_path}\")\n",
    "    else:\n",
    "        logger.error(\"Geofabric delineation failed\")       "
   ]
  },
  {
   "cell_type": "markdown",
   "metadata": {},
   "source": [
    "## Choosing the Right Method\n",
    "The choice of domain definition method depends on your specific needs:\n",
    "\n",
    "- Use subset_geofabric if you have an existing geofabric and want to focus on a specific area within it.\n",
    "- Use delineate_lumped_watershed for simple, single-unit watershed studies or as a quick approximation.\n",
    "- Use delineate_geofabric when you need a detailed, custom geofabric for your study area.\n",
    "\n",
    "Remember to set the appropriate method in your configuration file before running the domain definition.\n",
    "\n",
    "## Running the Domain Definition\n",
    "\n",
    "Here's how you can run the domain definition based on the configuration:"
   ]
  },
  {
   "cell_type": "code",
   "execution_count": 5,
   "metadata": {},
   "outputs": [
    {
     "name": "stderr",
     "output_type": "stream",
     "text": [
      "2025-03-28 09:22:24,342 - INFO - Function source code:\n",
      "    @get_function_logger\n",
      "    def delineate_lumped_watershed(self) -> Optional[Path]:\n",
      "        \"\"\"\n",
      "        Delineate a lumped watershed using either TauDEM or pysheds.\n",
      "\n",
      "        Returns:\n",
      "            Optional[Path]: Path to the delineated watershed shapefile, or None if delineation fails.\n",
      "        \"\"\"\n",
      "        self.logger.info(f\"Starting lumped watershed delineation for {self.domain_name}\")\n",
      "\n",
      "        if self.delineation_method.lower() == 'pysheds':\n",
      "            return self.delineate_with_pysheds()\n",
      "        else:  # default to TauDEM\n",
      "            return self.delineate_with_taudem()\n",
      "\n",
      "==================================================\n",
      "\n",
      "2025-03-28 09:22:24,343 - INFO - Starting lumped watershed delineation for Wolverine\n",
      "2025-03-28 09:22:24,343 - INFO - Starting lumped watershed delineation for Wolverine\n",
      "2025-03-28 09:22:24,825 - INFO - Created 1 records\n",
      "2025-03-28 09:22:24,826 - INFO - Lumped watershed delineation completed using pysheds for Wolverine\n",
      "2025-03-28 09:22:24,827 - INFO - Lumped watershed delineation completed. Shapefile: /Users/amedin/Research/Confluence/CONFLUENCE_data/domain_Wolverine/shapefiles/river_basins/Wolverine_riverBasins_lumped.shp\n"
     ]
    }
   ],
   "source": [
    "def define_domain():\n",
    "    domain_method = config.get('DOMAIN_DEFINITION_METHOD')\n",
    "    \n",
    "    if domain_method == 'subset':\n",
    "        subset_geofabric()\n",
    "    elif domain_method == 'lumped':\n",
    "        delineate_lumped_watershed()\n",
    "    elif domain_method == 'delineate':\n",
    "        delineate_geofabric()\n",
    "    else:\n",
    "        logger.error(f\"Unknown domain definition method: {domain_method}\")\n",
    "\n",
    "# Run the domain definition\n",
    "define_domain()"
   ]
  },
  {
   "cell_type": "markdown",
   "metadata": {},
   "source": [
    "### Glacier Domains\n",
    "Here we need to delineate off the bedrock topography, since glacier surfaces are convex (and thus will make incorrect catchments)."
   ]
  },
  {
   "cell_type": "code",
   "execution_count": 6,
   "metadata": {},
   "outputs": [],
   "source": [
    "# import libraries\n",
    "from pysheds.grid import Grid # type: ignore\n",
    "import geopandas as gpd # type: ignore\n",
    "import numpy as np\n",
    "import matplotlib.pyplot as plt\n",
    "import rasterio\n",
    "from shapely.geometry import Polygon"
   ]
  },
  {
   "cell_type": "code",
   "execution_count": 7,
   "metadata": {},
   "outputs": [],
   "source": [
    "# Set up paths\n",
    "data_dir = config['CONFLUENCE_DATA_DIR']\n",
    "domain_name = config['DOMAIN_NAME']\n",
    "project_dir = Path(data_dir) / f\"domain_{config['DOMAIN_NAME']}\"\n",
    "dem_path = project_dir / 'attributes' / 'elevation' / 'dem' / f\"domain_{config['DOMAIN_NAME']}_bedrock_elv.tif\"\n",
    "\n",
    "pour_point_path = config.get('POUR_POINT_SHP_PATH')\n",
    "if pour_point_path == 'default':\n",
    "     pour_point_path = project_dir / \"shapefiles\" / \"pour_point\"\n",
    "else:\n",
    "     pour_point_path = Path(pour_point_path)\n",
    "if config['POUR_POINT_SHP_NAME'] == \"default\":\n",
    "     pour_point_path = pour_point_path / f\"{domain_name}_pourPoint.shp\"\n",
    "\n",
    "# get the delineation method\n",
    "domain_method = config.get('DOMAIN_DEFINITION_METHOD')"
   ]
  },
  {
   "cell_type": "code",
   "execution_count": 8,
   "metadata": {},
   "outputs": [
    {
     "name": "stderr",
     "output_type": "stream",
     "text": [
      "2025-03-28 09:22:25,334 - INFO - Created 1 records\n"
     ]
    },
    {
     "name": "stdout",
     "output_type": "stream",
     "text": [
      "Lumped watershed delineation completed using pysheds for Wolverine\n"
     ]
    }
   ],
   "source": [
    "# Only using pysheds at the moment\n",
    "if domain_method == 'lumped':\n",
    "    # Initialize grid from raster\n",
    "    grid = Grid.from_raster(str(dem_path))\n",
    "\n",
    "    # Read the (bottom) DEM\n",
    "    dem = grid.read_raster(str(dem_path))\n",
    "\n",
    "    # Read the pour point\n",
    "    pour_point = gpd.read_file(pour_point_path)\n",
    "    pour_point = pour_point.to_crs(grid.crs)\n",
    "    x, y = pour_point.geometry.iloc[0].coords[0]\n",
    "\n",
    "    # Condition DEM\n",
    "    pit_filled_dem = grid.fill_pits(dem)\n",
    "    flooded_dem = grid.fill_depressions(pit_filled_dem)\n",
    "    inflated_dem = grid.resolve_flats(flooded_dem)\n",
    "\n",
    "    # Compute flow direction\n",
    "    fdir = grid.flowdir(inflated_dem)\n",
    "\n",
    "    # Compute flow accumulation\n",
    "    acc = grid.accumulation(fdir)\n",
    "\n",
    "    # Snap pour point to high accumulation cell\n",
    "    x_snap, y_snap = grid.snap_to_mask(acc > 1000, (x, y))\n",
    "\n",
    "    # Delineate the catchment\n",
    "    catch = grid.catchment(x=x_snap, y=y_snap, fdir=fdir, xytype='coordinate')\n",
    "\n",
    "    # Create a binary mask of the catchment\n",
    "    mask = np.where(catch, 1, 0).astype(np.uint8)\n",
    "    \n",
    "    # Convert the mask to a polygon\n",
    "    shapes = rasterio.features.shapes(mask, transform=grid.affine)\n",
    "    polygons = [Polygon(shape[0]['coordinates'][0]) for shape in shapes if shape[1] == 1]\n",
    "    \n",
    "    if not polygons:\n",
    "        print(\"No watershed polygon generated.\")\n",
    "    \n",
    "    # Create a GeoDataFrame\n",
    "    gdf = gpd.GeoDataFrame({'geometry': polygons}, crs=grid.crs)\n",
    "    gdf = gdf.dissolve()  # Merge all polygons into one\n",
    "    gdf['GRU_ID'] = 1\n",
    "    gdf['gru_to_seg'] = 1\n",
    "    gdf = gdf.to_crs('epsg:3763')\n",
    "    gdf['GRU_area'] = gdf.geometry.area \n",
    "    gdf = gdf.to_crs('epsg:4326')\n",
    "    \n",
    "    # Save the watershed shapefile\n",
    "    watershed_shp_path = project_dir / \"shapefiles/river_basins\" / f\"{domain_name}_riverBasins_lumped.shp\"\n",
    "    gdf.to_file(watershed_shp_path)\n",
    "    print(f\"Lumped watershed delineation completed using pysheds for {domain_name}\")\n",
    "else:\n",
    "    print(f\"Domain definition method {domain_method} for glaciers not yet supported by this script.\")"
   ]
  },
  {
   "cell_type": "code",
   "execution_count": 9,
   "metadata": {},
   "outputs": [
    {
     "data": {
      "image/png": "[encoded data removed]",
      "text/plain": [
       "<Figure size 800x600 with 1 Axes>"
      ]
     },
     "metadata": {
      "needs_background": "light"
     },
     "output_type": "display_data"
    }
   ],
   "source": [
    "# Plot the catchment\n",
    "catch_view = grid.view(catch)\n",
    "fig, ax = plt.subplots(figsize=(8,6))\n",
    "fig.patch.set_alpha(0)\n",
    "plt.imshow(catch_view, cmap='Greys_r', zorder=1)\n",
    "plt.title('Catchment', size=14)\n",
    "plt.tight_layout()"
   ]
  },
  {
   "cell_type": "code",
   "execution_count": 10,
   "metadata": {},
   "outputs": [],
   "source": [
    "def inundate_cells(dem_surf,dem,origxy, id, glacier_id, cellxy, glac_extPossible, hand, glacier_height, this_extend, ncell, cell_added):\n",
    "    \"\"\"\n",
    "    Recursively inundate cells around the current cell if conditions are met.\n",
    "\n",
    "    Parameters:\n",
    "    - cellxy: Tuple of the current cell coordinates (x, y).\n",
    "    - glac_extPossible: Array indicating the glacier extent.\n",
    "    - hand: HAND raster (Height Above Nearest Drainage).\n",
    "    - glacier_height: Height of the glacier.\n",
    "    - this_extend: Array tracking the extended glacier area.\n",
    "    - ncell: Maximum number of cells to add.\n",
    "    - cell_added: Current count of added cells.\n",
    "\n",
    "    Returns:\n",
    "    - Updated this_extend and cell_added.\n",
    "    \"\"\"\n",
    "    surround = {0: (0, -1), 1: (1, -1), 2: (1, 0), 3: (1, 1),\n",
    "                4: (0, 1), 5: (-1, 1), 6: (-1, 0), 7: (-1, -1)}\n",
    "\n",
    "    # Iterate over the 8 surrounding cells\n",
    "    for i in range(8):\n",
    "        surround_cell = surround[i]\n",
    "        new_x, new_y = cellxy[0] + surround_cell[0], cellxy[1] + surround_cell[1]\n",
    "\n",
    "        # Check if the new cell is within bounds\n",
    "        if 0 <= new_y < glac_extPossible.shape[0] and 0 <= new_x < glac_extPossible.shape[1]:\n",
    "            # Check if the cell can be inundated\n",
    "            if glac_extPossible[new_y, new_x] == 1 and hand[new_y, new_x] < glacier_height and this_extend[new_y, new_x] == 0 and dem[new_y, new_x] <= dem_surf[origxy[1], origxy[0]]:\n",
    "                this_extend[new_y, new_x] = 1\n",
    "                if id[new_y, new_x] != glacier_id: cell_added += 1\n",
    "\n",
    "                # Stop if the maximum number of cells has been added\n",
    "                if cell_added >= ncell:\n",
    "                    return this_extend, cell_added\n",
    "\n",
    "                # Recursively inundate from the new cell\n",
    "                this_extend, cell_added = inundate_cells(dem_surf, dem, origxy,id, glacier_id,\n",
    "                    (new_x, new_y), glac_extPossible, hand, glacier_height, this_extend, ncell, cell_added\n",
    "                )\n",
    "\n",
    "                # Stop if the maximum number of cells has been added\n",
    "                if cell_added >= ncell:\n",
    "                    return this_extend, cell_added\n",
    "\n",
    "    return this_extend, cell_added"
   ]
  },
  {
   "cell_type": "code",
   "execution_count": 11,
   "metadata": {},
   "outputs": [],
   "source": [
    "# read in glacier id raster and extend glacier id downstream to the catchment boundary (unless runs into another glacier)\n",
    "glacier_dir = project_dir / 'attributes' / 'glaciers'\n",
    "id_path = glacier_dir / f\"domain_{config['DOMAIN_NAME']}_glacier_id.tif\" # only for glacier cells, not glacierets\n",
    "id = rasterio.open(id_path).read(1)\n",
    "meta = rasterio.open(id_path).meta.copy()\n",
    "type_path = glacier_dir / f\"domain_{config['DOMAIN_NAME']}_domain_type.tif\" # glacier or glacieret\n",
    "type = rasterio.open(type_path).read(1)\n",
    "dem_surf_path = project_dir / 'attributes' / 'elevation' / 'dem' / f\"domain_{config['DOMAIN_NAME']}_elv.tif\"\n",
    "dem_surf = rasterio.open(dem_surf_path).read(1)\n",
    "\n",
    "# get possible glacier extend\n",
    "glac_extPossible = np.zeros_like(id)\n",
    "glac_extPossible[catch == 1] = 1\n",
    "glac_extPossible[(id>0) | type!=1]=0 # only expand to land and not into other glaciers\n",
    "thresh_expand = 0.1 # threshold (area fraction) for expanding glacier extent\n",
    "hand = grid.compute_hand(fdir, dem, acc > 100) # compute height above nearest drainage\n",
    "\n",
    "# remove glaciers that are not mostly in the catchment\n",
    "unique_glaciers = np.unique(id)\n",
    "unique_glaciers = unique_glaciers[unique_glaciers != 0] # remove 0 from list\n",
    "threshold = 0.8 # threshold for glacier cells that must be in gru to be included (should be 1.0 but DEMs are not perfect)\n",
    "filtered_glaciers = []\n",
    "for glacier_id in unique_glaciers:\n",
    "    glacier_all_count = np.sum(id == glacier_id)\n",
    "    glacier_catch_count = np.sum((id == glacier_id) & catch)\n",
    "    if glacier_catch_count >= threshold * glacier_all_count:\n",
    "        filtered_glaciers.append(glacier_id)\n",
    "unique_glaciers = np.array(filtered_glaciers)\n",
    "\n",
    "# Do by unique glacier ID, starting with the largest glacier\n",
    "order = np.argsort(np.bincount(id.flatten())[unique_glaciers])[::-1]\n",
    "unique_glaciers = unique_glaciers[order]\n",
    "extension_method = 'drag' # 'drag' or 'fill'"
   ]
  },
  {
   "cell_type": "code",
   "execution_count": 12,
   "metadata": {},
   "outputs": [
    {
     "name": "stdout",
     "output_type": "stream",
     "text": [
      "Glacier 109162 expanded by 68 cells with shape 17, 247 cells requested\n"
     ]
    }
   ],
   "source": [
    "# loop through glaciers\n",
    "# method 1: drag glacier downstream\n",
    "if extension_method == 'drag':\n",
    "    for glacier_id in unique_glaciers:\n",
    "\n",
    "        # find location of glacier terminus\n",
    "        acc_glacier = acc.copy()\n",
    "        acc_glacier[id != glacier_id] = 0\n",
    "        y, x = np.where(acc_glacier>=np.percentile(acc_glacier[acc_glacier>0], 100))\n",
    "        gridyx = (y[0],x[0])\n",
    "        ext_shape0 = np.zeros_like(id)\n",
    "        ext_shape0[gridyx[0],gridyx[1]] = 1\n",
    "        ext_shape0 = grid.catchment(x=gridyx[1], y=gridyx[0], fdir=fdir, xytype='index')\n",
    "        ext_shape0 = np.where(ext_shape0, 1, 0).astype(np.uint8) # Create a binary mask of the catchment\n",
    "        ext_shape0[id!=glacier_id] = 0 # only keep glacier cells\n",
    "\n",
    "        # find location a bit upstream of the glacier terminus\n",
    "        percentile = 100\n",
    "        y1, x1 = y, x\n",
    "        n=0\n",
    "        ext_shape1 = ext_shape0.copy()\n",
    "        while (y1[n] == y[0] and x1[n] == x[0]) or (ext_shape0 - ext_shape1).sum() < 2:\n",
    "            percentile = percentile - 0.1\n",
    "            y1, x1 = np.where(acc_glacier>=np.percentile(acc_glacier[acc_glacier>0], percentile))\n",
    "            n=acc_glacier[y1,x1].argmin() # find location of minimum accumulation, most upstream\n",
    "            gridyx = (y1[n],x1[n])\n",
    "            ext_shape1 = grid.catchment(x=gridyx[1], y=gridyx[0], fdir=fdir, xytype='index')\n",
    "            ext_shape1 = np.where(ext_shape1, 1, 0).astype(np.uint8) # Create a binary mask of the catchment\n",
    "            ext_shape1[id!=glacier_id] = 0 # only keep glacier cells\n",
    "\n",
    "        # cut out small bit of terminus\n",
    "        ext_shape = ext_shape0 - ext_shape1\n",
    "        # if extent shape is only 1 cell thick, expand to 2 cells thick\n",
    "        surround = {0: (0, -1), 1: (1, -1), 2: (1, 0), 3: (1, 1),\n",
    "                    4: (0, 1), 5: (-1, 1), 6: (-1, 0), 7: (-1, -1)}\n",
    "        y,x = np.where(ext_shape==1)\n",
    "        for i in range(x.size):\n",
    "            if np.sum(ext_shape[y[i]-1:y[i]+2,x[i]-1:x[i]+2]) <=4:\n",
    "                # Iterate over the 8 surrounding cells\n",
    "                for j in range(8):\n",
    "                    surround_cell = surround[j]\n",
    "                    new_x, new_y = x[i] + surround_cell[0], y[i] + surround_cell[1]\n",
    "                    if 0 <= new_y < ext_shape.shape[0] and 0 <= new_x < ext_shape.shape[1]:\n",
    "                        if ext_shape0[new_y,new_x] == 1: ext_shape[new_y,new_x] = 1\n",
    "        size_ext_shape = ext_shape.sum()\n",
    "\n",
    "        # expand the glacier extent from the glacier pour point over glac_extPossible by dragging downstream till hit threshold\n",
    "        ncell = int((acc_glacier[acc_glacier>0].size)**(2./3.)) #*thresh_expand)\n",
    "        this_extend = ext_shape\n",
    "        cell_added = 0 # still in current glacier\n",
    "        cellxy = gridyx[1], gridyx[0]\n",
    "        nextcells = {64: (0, -1), 128: (1, -1), 1: (1, 0), 2: (1, 1), 4: (0, 1), 8: (-1, 1), 16: (-1, 0), 32: (-1, -1)}\n",
    "        glac_extPossible0 = glac_extPossible.copy()\n",
    "        glac_extPossible0[id == glacier_id] = 1 # add glacier cells to possible glacier extent so can expand to side of glacier\n",
    "\n",
    "        # Expand the glacier extent\n",
    "        while cell_added < ncell:\n",
    "            # Get the next cell touching from fdir\n",
    "            nextcell = nextcells[fdir[cellxy[1], cellxy[0]]]\n",
    "            new_x, new_y = cellxy[0] + nextcell[0], cellxy[1] + nextcell[1]\n",
    "            if 0 <= new_y < glac_extPossible.shape[0] and 0 <= new_x < glac_extPossible.shape[1]:\n",
    "                if glac_extPossible0[new_y, new_x] == 1:\n",
    "                    # shift all of shape if possible\n",
    "                    new_shape = np.zeros_like(ext_shape)\n",
    "                    y,x = np.where(ext_shape==1)\n",
    "                    for i in range(x.size):\n",
    "                        x0, y0 = x[i] + nextcell[0], y[i] + nextcell[1]\n",
    "                        if 0 <= y0 < glac_extPossible.shape[0] and 0 <= x0 < glac_extPossible.shape[1]:\n",
    "                            new_shape[y0,x0] = 1\n",
    "                            \n",
    "                    new_shape[glac_extPossible0==0] == 0\n",
    "                    this_extend[new_shape == 1] = 1\n",
    "                    cell_added = cell_added + new_shape[glac_extPossible==1].sum() # only count if not already glacier cell\n",
    "                    glac_extPossible[this_extend == 1] = 0\n",
    "                    ext_shape = new_shape\n",
    "                    cellxy = (new_x, new_y)\n",
    "                else: # stop if cannot expand further\n",
    "                    break\n",
    "            else: # stop if cannot expand further\n",
    "                break\n",
    "        # check this_extend for holes between glacier cells and fill\n",
    "        y,x = np.where(this_extend==0)\n",
    "        for i in range(x.size):\n",
    "            # not out of bounds\n",
    "            if y[i]>0 and y[i]<this_extend.shape[0]-1 and x[i]>0 and x[i]<this_extend.shape[1]-1:\n",
    "                if np.sum(this_extend[y[i]-1:y[i]+2,x[i]-1:x[i]+2]) == 8:\n",
    "                    if glac_extPossible[y[i],x[i]] == 1:\n",
    "                        this_extend[y[i],x[i]] = 1\n",
    "                        cell_added = cell_added + 1\n",
    "        \n",
    "        print(f\"Glacier {glacier_id} expanded by {cell_added} cells with shape {size_ext_shape}, {ncell} cells requested\")\n",
    "\n",
    "        # add the expanded glacier extent to the glacier id raster\n",
    "        id[this_extend == 1] = glacier_id\n",
    "\n",
    "        # make glac_extPossible 0 where the glacier was already expanded\n",
    "        glac_extPossible[this_extend == 1] = 0"
   ]
  },
  {
   "cell_type": "code",
   "execution_count": 13,
   "metadata": {},
   "outputs": [],
   "source": [
    "# loop through glaciers\n",
    "# method 2: fill from end of glacier up surrounding cells if downstream and HAND is lower than a resprentative glacier terminus height\n",
    "if extension_method == 'fill':\n",
    "    for glacier_id in unique_glaciers:\n",
    "    \n",
    "        # find location of glacier terminus\n",
    "        acc_glacier = acc.copy()\n",
    "        acc_glacier[id != glacier_id] = 0\n",
    "        y, x = np.where(acc_glacier>=np.percentile(acc_glacier[acc_glacier>0], 100))\n",
    "        gridyx = (y[0],x[0])\n",
    "        ext_shape0 = np.zeros_like(id)\n",
    "        ext_shape0[gridyx[0],gridyx[1]] = 1\n",
    "        ext_shape0 = grid.catchment(x=gridyx[1], y=gridyx[0], fdir=fdir, xytype='index')\n",
    "        ext_shape0 = np.where(ext_shape0, 1, 0).astype(np.uint8) # Create a binary mask of the catchment\n",
    "        ext_shape0[id!=glacier_id] = 0 # only keep glacier cells\n",
    "\n",
    "        # find location a bit upstream of the glacier terminus\n",
    "        percentile = 100\n",
    "        y1, x1 = y, x\n",
    "        n=0\n",
    "        ext_shape1 = ext_shape0.copy()\n",
    "        while (y1[n] == y[0] and x1[n] == x[0]) or (ext_shape0 - ext_shape1).sum() < 2:\n",
    "            percentile = percentile - 0.1\n",
    "            y1, x1 = np.where(acc_glacier>=np.percentile(acc_glacier[acc_glacier>0], percentile))\n",
    "            n=acc_glacier[y1,x1].argmin() # find location of minimum accumulation, most upstream\n",
    "            gridyx = (y1[n],x1[n])\n",
    "            ext_shape1 = grid.catchment(x=gridyx[1], y=gridyx[0], fdir=fdir, xytype='index')\n",
    "            ext_shape1 = np.where(ext_shape1, 1, 0).astype(np.uint8) # Create a binary mask of the catchment\n",
    "            ext_shape1[id!=glacier_id] = 0 # only keep glacier cells\n",
    "    \n",
    "        # expand the glacier extent from the glacier pour point over glac_extPossible by using the hand raster until thresh_expand is reached\n",
    "        ncell = int((acc_glacier[acc_glacier>0].size)**(2./3.)) #*thresh_expand)\n",
    "        this_extend = np.zeros_like(id)\n",
    "        cell_added = 0\n",
    "        cellxy = gridyx[1], gridyx[0]\n",
    "        nextcells = {64: (0, -1), 128: (1, -1), 1: (1, 0), 2: (1, 1), 4: (0, 1), 8: (-1, 1), 16: (-1, 0), 32: (-1, -1)}\n",
    "        thickness_height = dem_surf[cellxy[1], cellxy[0]] - dem[cellxy[1], cellxy[0]] # thickness of glacier at starting point\n",
    "        hand_height = hand[cellxy[1], cellxy[0]]\n",
    "        glacier_height = max(hand_height, thickness_height,50.0) # minimum glacier height\n",
    "        glac_extPossible0 = glac_extPossible.copy()\n",
    "        glac_extPossible0[id == glacier_id] = 1 # add glacier cells to possible glacier extent so can expand to side of glacier\n",
    "        \n",
    "        # Expand the glacier extent\n",
    "        while cell_added < ncell:\n",
    "            # Get the next cell touching from fdir\n",
    "            nextcell = nextcells[fdir[cellxy[1], cellxy[0]]]\n",
    "            new_x, new_y = cellxy[0] + nextcell[0], cellxy[1] + nextcell[1]\n",
    "            if 0 <= new_y < glac_extPossible.shape[0] and 0 <= new_x < glac_extPossible.shape[1]:\n",
    "                if glac_extPossible0[new_y, new_x] == 1:\n",
    "                    this_extend[new_y, new_x] = 1\n",
    "                    if id[new_y, new_x] != glacier_id: cell_added += 1 # only count if not already glacier cell\n",
    "                    cellxy = (new_x, new_y)\n",
    "    \n",
    "                    # Recursively inundate surrounding cells\n",
    "                    this_extend, cell_added = inundate_cells(dem_surf,dem, (gridyx[1], gridyx[0]), id, glacier_id, \n",
    "                        cellxy, glac_extPossible0, hand, glacier_height, this_extend, ncell, cell_added\n",
    "                    )\n",
    "                else: # stop if cannot expand further\n",
    "                    break\n",
    "            else: # stop if cannot expand further\n",
    "                break\n",
    "        print(f\"Glacier {glacier_id} expanded by {cell_added} cells to height {int(glacier_height)} m, {ncell} cells requested\")\n",
    "        \n",
    "        # add the expanded glacier extent to the glacier id raster\n",
    "        id[this_extend == 1] = glacier_id\n",
    "    \n",
    "        # make glac_extPossible 0 where the glacier was already expanded\n",
    "        glac_extPossible[this_extend == 1] = 0"
   ]
  },
  {
   "cell_type": "code",
   "execution_count": 14,
   "metadata": {},
   "outputs": [],
   "source": [
    "# Save the glacier id raster\n",
    "output_file = glacier_dir / f\"domain_{config['DOMAIN_NAME']}_glacier_id_extend.tif\"\n",
    "with rasterio.open(output_file, 'w', **meta) as dst:\n",
    "    dst.write(id, 1)"
   ]
  },
  {
   "cell_type": "code",
   "execution_count": 15,
   "metadata": {},
   "outputs": [
    {
     "data": {
      "image/png": "[encoded data removed]",
      "text/plain": [
       "<Figure size 800x600 with 1 Axes>"
      ]
     },
     "metadata": {
      "needs_background": "light"
     },
     "output_type": "display_data"
    }
   ],
   "source": [
    "# plot new glacier extent in catchment only\n",
    "catch_view = grid.view(catch)\n",
    "fig, ax = plt.subplots(figsize=(8,6))\n",
    "fig.patch.set_alpha(0)\n",
    "plt.imshow(id, cmap='Reds', alpha=0.5, zorder=2)\n",
    "plt.imshow(type, cmap='tab20', alpha=0.5, zorder=2)\n",
    "plt.imshow(catch_view, cmap='Greys_r', zorder=1)\n",
    "plt.title('Catchment with extension', size=14)\n",
    "plt.tight_layout()"
   ]
  },
  {
   "cell_type": "markdown",
   "metadata": {},
   "source": [
    "# Conclusion\n",
    "\n",
    "We've explored the three methods for defining the spatial domain in CONFLUENCE: subsetting an existing geofabric, delineating a lumped watershed, and delineating a new geofabric. Each method has its advantages and is suited to different scenarios. By choosing the appropriate method and configuring it correctly, you can define the spatial domain that best fits your hydrological modeling needs.\n",
    "\n",
    "In the next notebook, we'll look at how to process finalise the process of preparing your spatial domain representation, including optional domain discretisation by dominant geospatial attributes."
   ]
  }
 ],
 "metadata": {
  "kernelspec": {
   "display_name": "confluence",
   "language": "python",
   "name": "python3"
  },
  "language_info": {
   "codemirror_mode": {
    "name": "ipython",
    "version": 3
   },
   "file_extension": ".py",
   "mimetype": "text/x-python",
   "name": "python",
   "nbconvert_exporter": "python",
   "pygments_lexer": "ipython3",
   "version": "3.13.2"
  }
 },
 "nbformat": 4,
 "nbformat_minor": 4
}
