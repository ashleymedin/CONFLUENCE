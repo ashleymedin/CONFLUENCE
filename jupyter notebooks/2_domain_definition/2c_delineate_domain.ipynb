{
 "cells": [
  {
   "cell_type": "markdown",
   "metadata": {},
   "source": [
    "# Defining the Spatial Domain in CONFLUENCE\n",
    "## Introduction\n",
    "In this notebook, we'll explore the different methods for defining the spatial domain in CONFLUENCE. The spatial domain is crucial as it determines the area of interest for our hydrological modeling. CONFLUENCE offers several options for domain definition, each suited to different needs and data availability."
   ]
  },
  {
   "cell_type": "markdown",
   "metadata": {},
   "source": [
    "## Setup\n",
    "First, let's set up our environment and import the necessary modules:"
   ]
  },
  {
   "cell_type": "code",
   "execution_count": 28,
   "metadata": {},
   "outputs": [],
   "source": [
    "import sys\n",
    "from pathlib import Path\n",
    "\n",
    "# Add the parent directory to sys.path\n",
    "current_dir = Path.cwd()\n",
    "parent_dir = current_dir.parent.parent\n",
    "sys.path.append(str(parent_dir))\n",
    "\n",
    "import yaml # type: ignore\n",
    "from utils.geospatial_utils.geofabric_utils import GeofabricSubsetter, GeofabricDelineator, LumpedWatershedDelineator # type: ignore\n",
    "import logging\n",
    "\n",
    "# Load configuration\n",
    "config_file = 'config_active.yaml'\n",
    "config_path = parent_dir / '0_config_files' / config_file\n",
    "with open(config_path, 'r') as config_file:\n",
    "    config = yaml.safe_load(config_file)\n",
    "\n",
    "# Set up logging\n",
    "logging.basicConfig(level=logging.INFO, format='%(asctime)s - %(levelname)s - %(message)s')\n",
    "logger = logging.getLogger(__name__)"
   ]
  },
  {
   "cell_type": "markdown",
   "metadata": {},
   "source": [
    "# Domain Definition Methods\n",
    "## CONFLUENCE supports three main methods for defining the spatial domain:\n",
    "\n",
    "1. Subsetting an existing geofabric\n",
    "2. Delineating a lumped watershed\n",
    "3. Delineating a new geofabric\n",
    "\n",
    "Let's explore each of these methods.\n",
    "\n",
    "# 1. Subsetting an Existing Geofabric\n",
    "\n",
    "This method is useful when you have an existing geofabric and want to extract a portion of it for your study area. Confluence will subset the model domain upstream of the pour point we defined in notebook 0_initializeProject. CONFLUENCE currently supports the MERIT, TDX and NWS hydrofabrics\n",
    "\n",
    "To use this method, set in config:\n",
    "\n",
    "- DOMAIN_DEFINITION_METHOD: subset\n",
    "- GEOFABRIC_TYPE: \"Merit\", \"TDX\" or \"NWS\"\n",
    "- SOURCE_GEOFABRIC_BASINS_PATH: /path/to/source/geofabric_basins/geofabric_basins.shp\n",
    "- SOURCE_GEOFABRIC_RIVERS_PATH: /path/to/source/geofabric_rivers/geofabric_rivers.shp\n",
    "- OUTPUT_BASINS_PATH: /path/to/output/geofabric_basins/model_basins.shp\n",
    "- OUTPUT_RIVERS_PATH: /path/to/output/geofabric_rivers/model_rivers.shp\n",
    "\n",
    "Then call:\n",
    "subset_geofabric()"
   ]
  },
  {
   "cell_type": "code",
   "execution_count": 2,
   "metadata": {},
   "outputs": [],
   "source": [
    "def subset_geofabric():\n",
    "    subsetter = GeofabricSubsetter(config, logger)\n",
    "    subset_basins, subset_rivers = subsetter.subset_geofabric()\n",
    "    \n",
    "    if subset_basins is not None and subset_rivers is not None:\n",
    "        logger.info(\"Geofabric subsetting completed successfully\")\n",
    "    else:\n",
    "        logger.error(\"Geofabric subsetting failed\")"
   ]
  },
  {
   "cell_type": "markdown",
   "metadata": {},
   "source": [
    "## 2. Delineating a Lumped Watershed\n",
    "\n",
    "This method creates a simple, single-unit watershed based on a pour point and DEM. CONFLUENCE allows for a choice whether to use the PySHEDS library or TauDEM for watershed delineation. \n",
    "\n",
    "To use this method, set in config:\n",
    "\n",
    "- DOMAIN_DEFINITION_METHOD: lumped\n",
    "- DEM_PATH: path/to/your/dem\n",
    "- LUMPED_WATERSHED_METHOD: \"pysheds\" or \"taudem\"\n",
    "\n",
    "Note, if you use numpy>2.0, you will need to `pip install git+https://github.com/ashleymedin/pysheds.git` instead of the standard pysheds, or you will get an error \"TypeError: 'nodata' value not representable in dytype of array\"\n",
    "\n",
    "Then call: \n",
    "delineate_lumped_watershed()"
   ]
  },
  {
   "cell_type": "code",
   "execution_count": 3,
   "metadata": {},
   "outputs": [],
   "source": [
    "def delineate_lumped_watershed():\n",
    "    delineator = LumpedWatershedDelineator(config, logger)\n",
    "    watershed_shapefile = delineator.delineate_lumped_watershed()\n",
    "    \n",
    "    if watershed_shapefile:\n",
    "        logger.info(f\"Lumped watershed delineation completed. Shapefile: {watershed_shapefile}\")\n",
    "    else:\n",
    "        logger.error(\"Lumped watershed delineation failed\")"
   ]
  },
  {
   "cell_type": "markdown",
   "metadata": {},
   "source": [
    "## 3. Delineating a New Geofabric\n",
    "\n",
    "This method creates a new, detailed geofabric for your study area using a DEM and pour point. This method uses the TauDEM (Terrain Analysis Using Digital Elevation Models) tools for watershed delineation which are available at https://github.com/dtarb/TauDEM. To use this functionality the TauDEM binaries need to be compiled and made available in the system PATH\n",
    "\n",
    "To use this method, set in config:\n",
    "\n",
    "- DOMAIN_DEFINITION_METHOD: delineate\n",
    "- DEM_PATH: path/to/your/dem\n",
    "- STREAM_THRESHOLD: Threshold flow accumulation for stream vectorisation\n",
    "- TAUDEM_DIR: path/to/TauDEM/binaries\n",
    "\n",
    "Then call: delineate_geofabric()"
   ]
  },
  {
   "cell_type": "code",
   "execution_count": 4,
   "metadata": {},
   "outputs": [],
   "source": [
    "def delineate_geofabric():\n",
    "    delineator = GeofabricDelineator(config, logger)\n",
    "    river_network_path, river_basins_path = delineator.delineate_geofabric()\n",
    "    \n",
    "    if river_network_path and river_basins_path:\n",
    "        logger.info(f\"Geofabric delineation completed.\")\n",
    "        logger.info(f\"River network: {river_network_path}\")\n",
    "        logger.info(f\"River basins: {river_basins_path}\")\n",
    "    else:\n",
    "        logger.error(\"Geofabric delineation failed\")\n",
    "        "
   ]
  },
  {
   "cell_type": "markdown",
   "metadata": {},
   "source": [
    "## Choosing the Right Method\n",
    "The choice of domain definition method depends on your specific needs:\n",
    "\n",
    "- Use subset_geofabric if you have an existing geofabric and want to focus on a specific area within it.\n",
    "- Use delineate_lumped_watershed for simple, single-unit watershed studies or as a quick approximation.\n",
    "- Use delineate_geofabric when you need a detailed, custom geofabric for your study area.\n",
    "\n",
    "Remember to set the appropriate method in your configuration file before running the domain definition.\n",
    "\n",
    "## Running the Domain Definition\n",
    "\n",
    "Here's how you can run the domain definition based on the configuration:"
   ]
  },
  {
   "cell_type": "code",
   "execution_count": 5,
   "metadata": {},
   "outputs": [
    {
     "name": "stderr",
     "output_type": "stream",
     "text": [
      "2025-03-13 20:36:34,444 - INFO - Function source code:\n",
      "    @get_function_logger\n",
      "    def delineate_lumped_watershed(self) -> Optional[Path]:\n",
      "        \"\"\"\n",
      "        Delineate a lumped watershed using either TauDEM or pysheds.\n",
      "\n",
      "        Returns:\n",
      "            Optional[Path]: Path to the delineated watershed shapefile, or None if delineation fails.\n",
      "        \"\"\"\n",
      "        self.logger.info(f\"Starting lumped watershed delineation for {self.domain_name}\")\n",
      "\n",
      "        if self.delineation_method.lower() == 'pysheds':\n",
      "            return self.delineate_with_pysheds()\n",
      "        else:  # default to TauDEM\n",
      "            return self.delineate_with_taudem()\n",
      "\n",
      "==================================================\n",
      "\n",
      "2025-03-13 20:36:34,447 - INFO - Starting lumped watershed delineation for Gulkana\n",
      "2025-03-13 20:36:34,447 - INFO - Starting lumped watershed delineation for Gulkana\n",
      "2025-03-13 20:36:38,113 - INFO - Created 1 records\n",
      "2025-03-13 20:36:38,114 - INFO - Lumped watershed delineation completed using pysheds for Gulkana\n",
      "2025-03-13 20:36:38,114 - INFO - Lumped watershed delineation completed. Shapefile: /Users/amedin/Research/Confluence/CONFLUENCE_data/domain_Gulkana/shapefiles/river_basins/Gulkana_riverBasins_lumped.shp\n"
     ]
    }
   ],
   "source": [
    "def define_domain():\n",
    "    domain_method = config.get('DOMAIN_DEFINITION_METHOD')\n",
    "    \n",
    "    if domain_method == 'subset':\n",
    "        subset_geofabric()\n",
    "    elif domain_method == 'lumped':\n",
    "        delineate_lumped_watershed()\n",
    "    elif domain_method == 'delineate':\n",
    "        delineate_geofabric()\n",
    "    else:\n",
    "        logger.error(f\"Unknown domain definition method: {domain_method}\")\n",
    "\n",
    "# Run the domain definition\n",
    "define_domain()"
   ]
  },
  {
   "cell_type": "markdown",
   "metadata": {},
   "source": [
    "### Glacier Domains\n",
    "Here we need to delineate off the bedrock topography, since glacier surfaces are convex (and thus will make incorrect catchments)."
   ]
  },
  {
   "cell_type": "code",
   "execution_count": 29,
   "metadata": {},
   "outputs": [],
   "source": [
    "# import libraries\n",
    "from pysheds.grid import Grid # type: ignore\n",
    "import geopandas as gpd # type: ignore\n",
    "import numpy as np\n",
    "import matplotlib.pyplot as plt\n",
    "import rasterio\n",
    "from shapely.geometry import Polygon"
   ]
  },
  {
   "cell_type": "code",
   "execution_count": 30,
   "metadata": {},
   "outputs": [],
   "source": [
    "# Set up paths\n",
    "data_dir = config['CONFLUENCE_DATA_DIR']\n",
    "domain_name = config['DOMAIN_NAME']\n",
    "project_dir = Path(data_dir) / f\"domain_{config['DOMAIN_NAME']}\"\n",
    "dem_path = project_dir / 'attributes' / 'elevation' / 'dem' / f\"domain_{config['DOMAIN_NAME']}_bedrock_elv.tif\"\n",
    "\n",
    "pour_point_path = config.get('POUR_POINT_SHP_PATH')\n",
    "if pour_point_path == 'default':\n",
    "     pour_point_path = project_dir / \"shapefiles\" / \"pour_point\"\n",
    "else:\n",
    "     pour_point_path = Path(pour_point_path)\n",
    "if config['POUR_POINT_SHP_NAME'] == \"default\":\n",
    "     pour_point_path = pour_point_path / f\"{domain_name}_pourPoint.shp\"\n",
    "\n",
    "# get the delineation method\n",
    "domain_method = config.get('DOMAIN_DEFINITION_METHOD')"
   ]
  },
  {
   "cell_type": "code",
   "execution_count": null,
   "metadata": {},
   "outputs": [
    {
     "name": "stderr",
     "output_type": "stream",
     "text": [
      "2025-03-13 21:25:54,840 - INFO - Created 1 records\n"
     ]
    },
    {
     "name": "stdout",
     "output_type": "stream",
     "text": [
      "Lumped watershed delineation completed using pysheds for Wolverine\n"
     ]
    }
   ],
   "source": [
    "# Only using pysheds at the moment\n",
    "if domain_method == 'lumped':\n",
    "    # Initialize grid from raster\n",
    "    grid = Grid.from_raster(str(dem_path))\n",
    "\n",
    "    # Read the (bottom) DEM\n",
    "    dem = grid.read_raster(str(dem_path))\n",
    "\n",
    "    # Read the pour point\n",
    "    pour_point = gpd.read_file(pour_point_path)\n",
    "    pour_point = pour_point.to_crs(grid.crs)\n",
    "    x, y = pour_point.geometry.iloc[0].coords[0]\n",
    "\n",
    "    # Condition DEM\n",
    "    pit_filled_dem = grid.fill_pits(dem)\n",
    "    flooded_dem = grid.fill_depressions(pit_filled_dem)\n",
    "    inflated_dem = grid.resolve_flats(flooded_dem)\n",
    "\n",
    "    # Compute flow direction\n",
    "    fdir = grid.flowdir(inflated_dem)\n",
    "\n",
    "    #grid.viewfinder = fdir.viewfinder\n",
    "\n",
    "    # Compute flow accumulation\n",
    "    acc = grid.accumulation(fdir)\n",
    "\n",
    "    # Snap pour point to high accumulation cell\n",
    "    x_snap, y_snap = grid.snap_to_mask(acc > 1000, (x, y))\n",
    "\n",
    "    # Delineate the catchment\n",
    "    catch = grid.catchment(x=x_snap, y=y_snap, fdir=fdir, xytype='coordinate')\n",
    "\n",
    "    # Create a binary mask of the catchment\n",
    "    mask = np.where(catch, 1, 0).astype(np.uint8)\n",
    "    \n",
    "    # Convert the mask to a polygon\n",
    "    shapes = rasterio.features.shapes(mask, transform=grid.affine)\n",
    "    polygons = [Polygon(shape[0]['coordinates'][0]) for shape in shapes if shape[1] == 1]\n",
    "    \n",
    "    if not polygons:\n",
    "        print(\"No watershed polygon generated.\")\n",
    "    \n",
    "    # Create a GeoDataFrame\n",
    "    gdf = gpd.GeoDataFrame({'geometry': polygons}, crs=grid.crs)\n",
    "    gdf = gdf.dissolve()  # Merge all polygons into one\n",
    "    gdf['GRU_ID'] = 1\n",
    "    gdf['gru_to_seg'] = 1\n",
    "    gdf = gdf.to_crs('epsg:3763')\n",
    "    gdf['GRU_area'] = gdf.geometry.area \n",
    "    gdf = gdf.to_crs('epsg:4326')\n",
    "    \n",
    "    # Save the watershed shapefile\n",
    "    watershed_shp_path = project_dir / \"shapefiles/river_basins\" / f\"{domain_name}_riverBasins_lumped.shp\"\n",
    "    gdf.to_file(watershed_shp_path)\n",
    "    print(f\"Lumped watershed delineation completed using pysheds for {domain_name}\")\n",
    "else:\n",
    "    print(f\"Domain definition method {domain_method} for glaicers not yet supported by this script.\")"
   ]
  },
  {
   "cell_type": "code",
   "execution_count": 32,
   "metadata": {},
   "outputs": [
    {
     "data": {
      "image/png": "[encoded data removed]",
      "text/plain": [
       "<Figure size 800x600 with 1 Axes>"
      ]
     },
     "metadata": {
      "needs_background": "light"
     },
     "output_type": "display_data"
    }
   ],
   "source": [
    "# Plot the catchment\n",
    "catch_view = grid.view(catch)\n",
    "fig, ax = plt.subplots(figsize=(8,6))\n",
    "fig.patch.set_alpha(0)\n",
    "plt.imshow(catch_view, cmap='Greys_r', zorder=1)\n",
    "plt.title('Catchment', size=14)\n",
    "plt.tight_layout()"
   ]
  },
  {
   "cell_type": "markdown",
   "metadata": {},
   "source": [
    "# Conclusion\n",
    "\n",
    "We've explored the three methods for defining the spatial domain in CONFLUENCE: subsetting an existing geofabric, delineating a lumped watershed, and delineating a new geofabric. Each method has its advantages and is suited to different scenarios. By choosing the appropriate method and configuring it correctly, you can define the spatial domain that best fits your hydrological modeling needs.\n",
    "\n",
    "In the next notebook, we'll look at how to process finalise the process of preparing your spatial domain representation, including optional domain discretisation by dominant geospatial attributes."
   ]
  }
 ],
 "metadata": {
  "kernelspec": {
   "display_name": "confluence",
   "language": "python",
   "name": "python3"
  },
  "language_info": {
   "codemirror_mode": {
    "name": "ipython",
    "version": 3
   },
   "file_extension": ".py",
   "mimetype": "text/x-python",
   "name": "python",
   "nbconvert_exporter": "python",
   "pygments_lexer": "ipython3",
   "version": "3.13.2"
  }
 },
 "nbformat": 4,
 "nbformat_minor": 4
}
