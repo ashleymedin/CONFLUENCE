{
 "cells": [
  {
   "cell_type": "markdown",
   "metadata": {},
   "source": [
    "# Domain Discretization in CONFLUENCE\n",
    "\n",
    "## Introduction\n",
    "\n",
    "Domain discretization is a crucial step in processed based hydrological modeling, where we divide our study area into smaller, more geophysically representative units. In CONFLUENCE, this process involves creating Hydrologic Response Units (HRUs) based on various geospatial characteristics. This notebook will guide you through the different discretization methods available in CONFLUENCE.\n",
    "\n",
    "## Setup\n",
    "\n",
    "First, let's set up our environment and import the necessary modules:"
   ]
  },
  {
   "cell_type": "code",
   "execution_count": 59,
   "metadata": {},
   "outputs": [],
   "source": [
    "import sys\n",
    "from pathlib import Path\n",
    "\n",
    "# Add the parent directory to sys.path\n",
    "current_dir = Path.cwd()\n",
    "parent_dir = current_dir.parent.parent\n",
    "sys.path.append(str(parent_dir))\n",
    "\n",
    "import yaml\n",
    "from utils.geospatial_utils.discretization_utils import DomainDiscretizer # type: ignore\n",
    "import logging\n",
    "\n",
    "# Load configuration\n",
    "config_path = parent_dir / '0_config_files' / 'config_active.yaml'\n",
    "with open(config_path, 'r') as config_file:\n",
    "    config = yaml.safe_load(config_file)\n",
    "\n",
    "# Set up logging\n",
    "logging.basicConfig(level=logging.INFO, format='%(asctime)s - %(levelname)s - %(message)s')\n",
    "logger = logging.getLogger(__name__)\n",
    "\n",
    "# Initialize DomainDiscretizer\n",
    "discretizer = DomainDiscretizer(config, logger)\n"
   ]
  },
  {
   "cell_type": "markdown",
   "metadata": {},
   "source": [
    "## Key Configuration Settings\n",
    "\n",
    "Before we proceed with discretization, let's review the key configuration settings:\n",
    "\n",
    "- DOMAIN_DISCRETIZATION: Specifies the discretization method (e.g., 'GRUs', 'elevation', 'soilclass', 'landclass', 'radiation', 'combined')\n",
    "- ELEVATION_BAND_SIZE: Size of elevation bands (for elevation-based discretization)\n",
    "- MIN_HRU_SIZE: Minimum size of HRUs in km² (for merging small HRUs)\n",
    "- RADIATION_CLASS_NUMBER: Number of radiation classes (for radiation-based discretization)\n",
    "- CATCHMENT_SHP_HRUID: Column name for HRU ID in the catchment shapefile\n",
    "- CATCHMENT_SHP_GRUID: Column name for GRU ID in the catchment shapefile\n",
    "\n",
    "Ensure these settings are correctly defined in your config_active.yaml file.\n",
    "\n",
    "## Discretization Methods\n",
    "\n",
    "CONFLUENCE supports several discretization methods. Let's explore each of them:\n",
    "\n",
    "## 1. Using GRUs as HRUs\n",
    "\n",
    "This method uses Grouped Response Units (GRUs) as Hydrologic Response Units (HRUs) without further discretization.\n",
    "\n",
    "To use this method, set in config:\n",
    "\n",
    "- DOMAIN_DISCRETIZATION: GRUs"
   ]
  },
  {
   "cell_type": "code",
   "execution_count": 60,
   "metadata": {},
   "outputs": [],
   "source": [
    "def use_grus_as_hrus():\n",
    "    hru_shapefile = discretizer._use_grus_as_hrus()\n",
    "    if hru_shapefile:\n",
    "        logger.info(f\"GRUs used as HRUs. Shapefile created at: {hru_shapefile}\")\n",
    "    else:\n",
    "        logger.error(\"Failed to create HRUs from GRUs\")"
   ]
  },
  {
   "cell_type": "markdown",
   "metadata": {},
   "source": [
    "## 2. Elevation-based Discretization\n",
    "\n",
    "This method creates HRUs based on elevation bands. Currently this is the only subdiscretization that seems to work for glaciers.\n",
    "\n",
    "To use this method, set in config:\n",
    "\n",
    "- DOMAIN_DISCRETIZATION: elevation\n",
    "- ELEVATION_BAND_SIZE: 100 #example value in meters"
   ]
  },
  {
   "cell_type": "code",
   "execution_count": 61,
   "metadata": {},
   "outputs": [],
   "source": [
    "def discretize_by_elevation():\n",
    "    hru_shapefile = discretizer._discretize_by_elevation()\n",
    "    if hru_shapefile:\n",
    "        logger.info(f\"Elevation-based HRUs created. Shapefile at: {hru_shapefile}\")\n",
    "    else:\n",
    "        logger.error(\"Failed to create elevation-based HRUs\")"
   ]
  },
  {
   "cell_type": "markdown",
   "metadata": {},
   "source": [
    "## 3. Soil Class-based Discretization\n",
    "This method creates HRUs based on soil classifications.\n",
    "\n",
    "To use this method, set in config: \n",
    "- 'DOMAIN_DISCRETIZATION: soilclass"
   ]
  },
  {
   "cell_type": "code",
   "execution_count": 62,
   "metadata": {},
   "outputs": [],
   "source": [
    "def discretize_by_soil_class():\n",
    "    hru_shapefile = discretizer._discretize_by_soil_class()\n",
    "    if hru_shapefile:\n",
    "        logger.info(f\"Soil class-based HRUs created. Shapefile at: {hru_shapefile}\")\n",
    "    else:\n",
    "        logger.error(\"Failed to create soil class-based HRUs\")"
   ]
  },
  {
   "cell_type": "markdown",
   "metadata": {},
   "source": [
    "## 4. Land Class-based Discretization\n",
    "\n",
    "This method creates HRUs based on land cover classifications.\n",
    "\n",
    "To use this method, set in config: \n",
    "\n",
    "- DOMAIN_DISCRETIZATION: landclass"
   ]
  },
  {
   "cell_type": "code",
   "execution_count": 63,
   "metadata": {},
   "outputs": [],
   "source": [
    "def discretize_by_land_class():\n",
    "    hru_shapefile = discretizer._discretize_by_land_class()\n",
    "    if hru_shapefile:\n",
    "        logger.info(f\"Land class-based HRUs created. Shapefile at: {hru_shapefile}\")\n",
    "    else:\n",
    "        logger.error(\"Failed to create land class-based HRUs\")"
   ]
  },
  {
   "cell_type": "markdown",
   "metadata": {},
   "source": [
    "## 5. Radiation-based Discretization\n",
    "\n",
    "This method creates HRUs based on radiation properties.\n",
    "\n",
    "To use this method, set in config: \n",
    "\n",
    "- DOMAIN_DISCRETIZATION: radiation\n",
    "- RADIATION_CLASS_NUMBER: 5  # Example value"
   ]
  },
  {
   "cell_type": "code",
   "execution_count": 64,
   "metadata": {},
   "outputs": [],
   "source": [
    "def discretize_by_radiation():\n",
    "    hru_shapefile = discretizer._discretize_by_radiation()\n",
    "    if hru_shapefile:\n",
    "        logger.info(f\"Radiation-based HRUs created. Shapefile at: {hru_shapefile}\")\n",
    "    else:\n",
    "        logger.error(\"Failed to create radiation-based HRUs\")"
   ]
  },
  {
   "cell_type": "markdown",
   "metadata": {},
   "source": [
    "## 6. Combined Discretization\n",
    "### Note: Yet to be implemented as of 14/09/2024\n",
    "\n",
    "This method creates HRUs based on a combination of geospatial attributes. \n",
    "\n",
    "- DOMAIN_DISCRETIZATION: combined\n",
    "- COMBINED_DISCRETIZATION_METHODS: radiation, elevation #example combinations"
   ]
  },
  {
   "cell_type": "code",
   "execution_count": 65,
   "metadata": {},
   "outputs": [],
   "source": [
    "def discretize_combined():\n",
    "    hru_shapefile = discretizer._discretize_combined()\n",
    "    if hru_shapefile:\n",
    "        logger.info(f\"Combined HRUs created. Shapefile at: {hru_shapefile}\")\n",
    "    else:\n",
    "        logger.error(\"Failed to create combined HRUs\")"
   ]
  },
  {
   "cell_type": "markdown",
   "metadata": {},
   "source": [
    "Running the Discretization\n",
    "Here's how you can run the domain discretization based on the configuration:"
   ]
  },
  {
   "cell_type": "code",
   "execution_count": 66,
   "metadata": {},
   "outputs": [
    {
     "name": "stderr",
     "output_type": "stream",
     "text": [
      "2025-03-13 22:45:37,226 - INFO - Starting domain discretization using method: grus\n",
      "2025-03-13 22:45:37,227 - INFO - Step 1/2: Running discretization method\n",
      "2025-03-13 22:45:37,228 - INFO - config domain name Gulkana\n",
      "2025-03-13 22:45:37,232 - INFO - Calculating mean elevation for each HRU\n",
      "2025-03-13 22:45:37,227 - INFO - Step 1/2: Running discretization method\n",
      "2025-03-13 22:45:37,228 - INFO - config domain name Gulkana\n",
      "2025-03-13 22:45:37,232 - INFO - Calculating mean elevation for each HRU\n",
      "/Users/amedin/Research/Confluence/CONFLUENCE/utils/geospatial_utils/discretization_utils.py:196: UserWarning: Geometry is in a geographic CRS. Results from 'centroid' are likely incorrect. Use 'GeoSeries.to_crs()' to re-project geometries to a projected CRS before this operation.\n",
      "\n",
      "  centroids_utm = gru_gdf.geometry.centroid\n",
      "2025-03-13 22:45:37,257 - INFO - Created 1 records\n",
      "2025-03-13 22:45:37,258 - INFO - GRUs saved as HRUs to /Users/amedin/Research/Confluence/CONFLUENCE_data/domain_Gulkana/shapefiles/catchment/Gulkana_HRUs_GRUs.shp\n",
      "2025-03-13 22:45:37,656 - INFO - HRU plot saved to /Users/amedin/Research/Confluence/CONFLUENCE_data/domain_Gulkana/plots/catchment/Gulkana_HRUs_as_GRUs.png\n",
      "2025-03-13 22:45:37,657 - INFO - Step 2/2: Sorting catchment shape\n",
      "2025-03-13 22:45:37,657 - INFO - Sorting catchment shape\n",
      "2025-03-13 22:45:37,663 - INFO - Created 1 records\n",
      "2025-03-13 22:45:37,664 - INFO - Catchment shape sorted and saved to /Users/amedin/Research/Confluence/CONFLUENCE_data/domain_Gulkana/shapefiles/catchment/Gulkana_HRUs_GRUs.shp\n",
      "2025-03-13 22:45:37,664 - INFO - Domain discretization completed in 0.44 seconds\n"
     ]
    }
   ],
   "source": [
    "# Run the domain discretization\n",
    "discretizer.discretize_domain()\n"
   ]
  },
  {
   "cell_type": "markdown",
   "metadata": {},
   "source": [
    "## Post-discretization Steps\n",
    "After discretization, CONFLUENCE performs some additional steps:\n",
    "\n",
    "1. Merging small HRUs: HRUs smaller than MIN_HRU_SIZE are merged with neighboring HRUs.\n",
    "2. Cleaning and preparing HRU data: This includes calculating mean elevation, ensuring valid geometries, and preparing data for SUMMA.\n",
    "\n",
    "These steps are handled automatically by the DomainDiscretizer class."
   ]
  },
  {
   "cell_type": "markdown",
   "metadata": {},
   "source": [
    "## Conclusion\n",
    "\n",
    "We've explored the various methods for domain discretization in CONFLUENCE, including using GRUs as HRUs, and discretization based on elevation, soil class, land class, radiation, and combined attributes. Each method offers different advantages depending on your modeling needs and data availability.\n",
    "\n",
    "Remember to set the appropriate discretization method and related parameters in your configuration file before running the discretization process. In the next notebook, we'll look at how to use our discretised domain files for hydrological modelling."
   ]
  }
 ],
 "metadata": {
  "kernelspec": {
   "display_name": "confluence",
   "language": "python",
   "name": "python3"
  },
  "language_info": {
   "codemirror_mode": {
    "name": "ipython",
    "version": 3
   },
   "file_extension": ".py",
   "mimetype": "text/x-python",
   "name": "python",
   "nbconvert_exporter": "python",
   "pygments_lexer": "ipython3",
   "version": "3.13.2"
  }
 },
 "nbformat": 4,
 "nbformat_minor": 4
}
