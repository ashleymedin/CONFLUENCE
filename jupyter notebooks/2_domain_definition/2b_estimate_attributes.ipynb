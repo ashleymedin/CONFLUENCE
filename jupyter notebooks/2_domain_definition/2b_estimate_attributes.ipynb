{
 "cells": [
  {
   "cell_type": "markdown",
   "metadata": {},
   "source": [
    "# Acquiring neccessary geospatial domain data for CONFLUENCE\n",
    "\n",
    "## Types of geospatial data\n",
    "To build and develop our hydrological models we need information about the geospatial attributes of our domain. These data include:\n",
    "\n",
    "1. Elevation data (Digital Elevation Model, DEM)\n",
    "2. Land cover classifications\n",
    "3. Soil type classifications\n",
    "\n",
    "## Methods of acquiring geospatial data\n",
    "There are several ways of acquiring geospatial data for our domain in CONFLUENCE, depending on the resources we have access to:\n",
    "\n",
    "1. Subsetting from full domain datasets stored on HPC. If you have access to appropriate HPC infrastructure we can use the gistool (https://github.com/CH-Earth/gistool)\n",
    "2. Download data directly from provider\n",
    "3. User supplied data. If you want to use your own geospatial data, e.g. with datasets not currently integrated in CONFLUENCE these can be defined in the CONFLUENCE configuration file\n",
    "\n",
    "In this notebook we will cover using methods 1 and 2 for aqcuiring the pertinent geospatial data for our models"
   ]
  },
  {
   "cell_type": "markdown",
   "metadata": {},
   "source": [
    "# 1. Subsetting data from HPC storage\n",
    "## Key Configuration Settings\n",
    "\n",
    "Let's begin by reviewing the key parts of the `config_active.yaml` file that are essential for initializing a new project:\n",
    "\n",
    "1. `CONFLUENCE_DATA_DIR`: The root directory where all CONFLUENCE data will be stored.\n",
    "2. `CONFLUENCE_CODE_DIR`: The directory containing the CONFLUENCE code.\n",
    "3. `DOMAIN_NAME`: The name of your study area or project domain.\n",
    "4. `BOUNDING_BOX_COORDS`: Coordinates of the domain bounding box\n",
    "5. `GISTOOL_DATASET_ROOT`: Path to gistool datasets root directory\n",
    "6. `TOOL_ACCOUNT`: HPC account for running datatool"
   ]
  },
  {
   "cell_type": "code",
   "execution_count": 1,
   "metadata": {},
   "outputs": [],
   "source": [
    "import os\n",
    "os.environ['PYTHONPATH'] = ''  # Clear the existing PYTHONPATH\n",
    "\n",
    "import sys\n",
    "venv_site_packages = '/home/darri/code/confluence_env/lib/python3.11/site-packages'\n",
    "if venv_site_packages not in sys.path:\n",
    "    sys.path.insert(0, venv_site_packages)"
   ]
  },
  {
   "cell_type": "code",
   "execution_count": 2,
   "metadata": {},
   "outputs": [
    {
     "name": "stdout",
     "output_type": "stream",
     "text": [
      "All modules imported successfully\n"
     ]
    }
   ],
   "source": [
    "import sys\n",
    "from pathlib import Path\n",
    "import yaml # type: ignore\n",
    "import logging\n",
    "import rasterio\n",
    "import numpy as np\n",
    "from scipy import stats\n",
    "\n",
    "# Add the parent directory to sys.path\n",
    "current_dir = Path.cwd()\n",
    "parent_dir = current_dir.parent.parent\n",
    "sys.path.append(str(parent_dir))\n",
    "\n",
    "# Import required CONFLUENCE utility functions\n",
    "from utils.dataHandling_utils.data_acquisition_utils import gistoolRunner, meritDownloader, soilgridsDownloader, modisDownloader # type: ignore\n",
    "\n",
    "# Print if successfull\n",
    "print(\"All modules imported successfully\")"
   ]
  },
  {
   "cell_type": "code",
   "execution_count": 3,
   "metadata": {},
   "outputs": [
    {
     "name": "stdout",
     "output_type": "stream",
     "text": [
      "MPI Info:\n",
      "mpirun (Open MPI) 5.0.7\n",
      "\n",
      "Report bugs to https://www.open-mpi.org/community/help/\n",
      "\n"
     ]
    }
   ],
   "source": [
    "import os\n",
    "import subprocess\n",
    "print(\"MPI Info:\")\n",
    "try:\n",
    "    mpi_info = subprocess.check_output(['mpirun', '--version'], text=True)\n",
    "    print(mpi_info)\n",
    "except Exception as e:\n",
    "    print(f\"Error getting MPI version: {e}\")"
   ]
  },
  {
   "cell_type": "code",
   "execution_count": 4,
   "metadata": {},
   "outputs": [
    {
     "name": "stdout",
     "output_type": "stream",
     "text": [
      "\n",
      "Package versions:\n",
      "netCDF4: 1.7.2\n",
      "mpi4py: Not installed\n"
     ]
    },
    {
     "name": "stderr",
     "output_type": "stream",
     "text": [
      "/var/folders/vg/2cv5b92d4216qkxz87hgmv7r0000kp/T/ipykernel_10613/823055922.py:1: DeprecationWarning: pkg_resources is deprecated as an API. See https://setuptools.pypa.io/en/latest/pkg_resources.html\n",
      "  import pkg_resources\n"
     ]
    }
   ],
   "source": [
    "import pkg_resources\n",
    "print(\"\\nPackage versions:\")\n",
    "for package in ['netCDF4', 'mpi4py']:\n",
    "    try:\n",
    "        version = pkg_resources.get_distribution(package).version\n",
    "        print(f\"{package}: {version}\")\n",
    "    except pkg_resources.DistributionNotFound:\n",
    "        print(f\"{package}: Not installed\")"
   ]
  },
  {
   "cell_type": "markdown",
   "metadata": {},
   "source": [
    "## Check configurations\n",
    "\n",
    "Now we should print our configuration settings and make sure that we have defined all the settings we need. "
   ]
  },
  {
   "cell_type": "code",
   "execution_count": 5,
   "metadata": {},
   "outputs": [
    {
     "name": "stdout",
     "output_type": "stream",
     "text": [
      "CONFLUENCE_DATA_DIR: /Users/amedin/Research/Confluence/CONFLUENCE_data\n",
      "CONFLUENCE_CODE_DIR: /Users/amedin/Research/Confluence/CONFLUENCE\n",
      "DOMAIN_NAME: Wolverine\n",
      "BOUNDING_BOX_COORDS: 60.44/-148.97/60.36/-148.85\n",
      "GISTOOL_DATASET_ROOT: /project/rrg-mclark/data/geospatial-data/\n",
      "TOOL_ACCOUNT: def-mclark-ab\n"
     ]
    }
   ],
   "source": [
    "config_path = Path('../../0_config_files/config_active.yaml')\n",
    "with open(config_path, 'r') as config_file:\n",
    "    config = yaml.safe_load(config_file)\n",
    "    \n",
    "    # Display key configuration settings\\n\",\n",
    "    print(f\"CONFLUENCE_DATA_DIR: {config['CONFLUENCE_DATA_DIR']}\")\n",
    "    print(f\"CONFLUENCE_CODE_DIR: {config['CONFLUENCE_CODE_DIR']}\")\n",
    "    print(f\"DOMAIN_NAME: {config['DOMAIN_NAME']}\")\n",
    "    print(f\"BOUNDING_BOX_COORDS: {config['BOUNDING_BOX_COORDS']}\")\n",
    "    print(f\"GISTOOL_DATASET_ROOT: {config['GISTOOL_DATASET_ROOT']}\")\n",
    "    print(f\"TOOL_ACCOUNT: {config['TOOL_ACCOUNT']}\")"
   ]
  },
  {
   "cell_type": "markdown",
   "metadata": {},
   "source": [
    "## Define default paths\n",
    "\n",
    "Now let's define the paths to the attribute data before we run the acquisition scripts and create the containing directories"
   ]
  },
  {
   "cell_type": "code",
   "execution_count": 6,
   "metadata": {},
   "outputs": [],
   "source": [
    "# Main project directory\n",
    "data_dir = config['CONFLUENCE_DATA_DIR']\n",
    "project_dir = Path(data_dir) / f\"domain_{config['DOMAIN_NAME']}\"\n",
    "\n",
    "# Attribute directories\n",
    "dem_dir = project_dir / 'attributes' / 'elevation' / 'dem'\n",
    "soilclass_dir = project_dir / 'attributes' / 'soilclass'\n",
    "landclass_dir = project_dir / 'attributes' / 'landclass'\n",
    "\n",
    "for dir in [dem_dir, soilclass_dir, landclass_dir]: dir.mkdir(parents = True, exist_ok = True)"
   ]
  },
  {
   "cell_type": "markdown",
   "metadata": {},
   "source": [
    "# 1. Running gistool\n",
    "Now that we have our configuration loaded, let's run the gistool to get data we need. This process involves initializing the gistoolRunner with the appropriate settings for each of the datasets we want to extract."
   ]
  },
  {
   "cell_type": "markdown",
   "metadata": {},
   "source": [
    "## A. Elevation data.\n",
    "\n",
    "Currently gistool has support for the MERIT hydro digital elevation model"
   ]
  },
  {
   "cell_type": "code",
   "execution_count": null,
   "metadata": {},
   "outputs": [],
   "source": [
    "# Set up \n",
    "logging.basicConfig(level=logging.INFO, format='%(asctime)s - %(levelname)s - %(message)s')\n",
    "logger = logging.getLogger(__name__)\n",
    "\n",
    "# Initialize gistoolRunner class\n",
    "gr = gistoolRunner(config, logger)\n",
    "\n",
    "# Get lat and lon lims\n",
    "bbox = config['BOUNDING_BOX_COORDS'].split('/')\n",
    "latlims = f\"{bbox[2]},{bbox[0]}\"\n",
    "lonlims = f\"{bbox[1]},{bbox[3]}\"\n",
    "\n",
    "# Create the gistool command\n",
    "gistool_command = gr.create_gistool_command(dataset = 'MERIT-Hydro', output_dir = dem_dir, lat_lims = latlims, lon_lims = lonlims, variables = 'elv')\n",
    "gr.execute_gistool_command(gistool_command)\n"
   ]
  },
  {
   "cell_type": "markdown",
   "metadata": {},
   "source": [
    "## B. Landcover Data\n",
    "\n",
    "Currently the gistool supports the MODIS (MOD12Q1) and Landsat (NALCMS) land cover classification data"
   ]
  },
  {
   "cell_type": "code",
   "execution_count": null,
   "metadata": {},
   "outputs": [],
   "source": [
    "#First we define which years we should acquire the Landcover data for\n",
    "start_year = 2001\n",
    "end_year = 2020\n",
    "\n",
    "#Select which MODIS dataset to use\n",
    "modis_var = \"MCD12Q1.061\"\n",
    "\n",
    "# Create the gistool command\n",
    "gistool_command = gr.create_gistool_command(dataset = 'MODIS', output_dir = landclass_dir, lat_lims = latlims, lon_lims = lonlims, variables = modis_var, start_date=f\"{start_year}-01-01\", end_date=f\"{end_year}-01-01\")\n",
    "gr.execute_gistool_command(gistool_command)"
   ]
  },
  {
   "cell_type": "code",
   "execution_count": null,
   "metadata": {},
   "outputs": [],
   "source": [
    "# If we selected a range of years we need to calculate the mode of the timeseries\n",
    "def calculate_landcover_mode(input_dir, output_file, start_year, end_year):\n",
    "    # List all the geotiff files for the years we're interested in\n",
    "    geotiff_files = [input_dir / f\"domain_{config['DOMAIN_NAME']}{year}.tif\" for year in range(start_year, end_year + 1)]\n",
    "    \n",
    "    # Read the first file to get metadata\n",
    "    with rasterio.open(geotiff_files[0]) as src:\n",
    "        meta = src.meta\n",
    "        shape = src.shape\n",
    "    \n",
    "    # Initialize an array to store all the data\n",
    "    all_data = np.zeros((len(geotiff_files), *shape), dtype=np.int16)\n",
    "    \n",
    "    # Read all the geotiffs into the array\n",
    "    for i, file in enumerate(geotiff_files):\n",
    "        with rasterio.open(file) as src:\n",
    "            all_data[i] = src.read(1)\n",
    "    \n",
    "    # Calculate the mode along the time axis\n",
    "    mode_data, _ = stats.mode(all_data, axis=0)\n",
    "    mode_data = mode_data.astype(np.int16).squeeze()\n",
    "    \n",
    "    # Update metadata for output\n",
    "    meta.update(count=1, dtype='int16')\n",
    "    \n",
    "    # Write the result\n",
    "    with rasterio.open(output_file, 'w', **meta) as dst:\n",
    "        dst.write(mode_data, 1)\n",
    "    \n",
    "    print(f\"Mode calculation complete. Result saved to {output_file}\")\n",
    "\n",
    "if start_year != end_year:\n",
    "    input_dir = landclass_dir / modis_var\n",
    "    output_file = landclass_dir / f\"domain_Bow_at_Banff_landcover.tif\"\n",
    "    \n",
    "    calculate_landcover_mode(input_dir, output_file, start_year, end_year)"
   ]
  },
  {
   "cell_type": "markdown",
   "metadata": {},
   "source": [
    "## C. Soil classification data\n",
    "\n",
    "Currently the gistool supports i. Soil Grids (v1), ii. USDA Soil Class and iii. Global Soil Dataset for Earth System Modelling (GSDE)"
   ]
  },
  {
   "cell_type": "code",
   "execution_count": null,
   "metadata": {},
   "outputs": [],
   "source": [
    "# Create the gistool command\n",
    "gistool_command = gr.create_gistool_command(dataset = 'soil_class', output_dir = soilclass_dir, lat_lims = latlims, lon_lims = lonlims, variables = 'soil_classes')\n",
    "gr.execute_gistool_command(gistool_command)"
   ]
  },
  {
   "cell_type": "markdown",
   "metadata": {},
   "source": [
    "# 2. Download data from provider\n",
    "\n",
    "In case don't have access gistool supported HPC infrastructure data can be downloaded from the original data provider. CONFLUENCE currently supports direct downloads of the following datasets:\n",
    "\n",
    "1. Elevation (MERIT hydro)\n",
    "2. Soil classifications (SOILGRIDS)\n",
    "3. Landcover classifications (MODIS12Q1)\n",
    "\n",
    "These scripts are adapted from the CWARHM workflows by Knoben et al., 2021. The user can also develop their own download scripts here. If you do so, please consider contributing them to the CONFLUENCE repository."
   ]
  },
  {
   "cell_type": "markdown",
   "metadata": {},
   "source": [
    "## 1. Download elevation data from MERIT Hydro"
   ]
  },
  {
   "cell_type": "code",
   "execution_count": null,
   "metadata": {},
   "outputs": [],
   "source": [
    "# 1. Download MERIT HYDRO elevation data\n",
    "# Set up \n",
    "logging.basicConfig(level=logging.INFO, format='%(asctime)s - %(levelname)s - %(message)s')\n",
    "logger = logging.getLogger(__name__)\n",
    "\n",
    "# Initialize meritDownloader class\n",
    "md = meritDownloader(config, logger)\n",
    "\n",
    "# Run MERIT downloads\n",
    "md.run_download()\n",
    "\n",
    "logger.info(\"MERIT data processing completed\")"
   ]
  },
  {
   "cell_type": "markdown",
   "metadata": {},
   "source": [
    "## 2. Download soil classification data from SOILGRIDS"
   ]
  },
  {
   "cell_type": "code",
   "execution_count": null,
   "metadata": {},
   "outputs": [],
   "source": [
    "# Set up \n",
    "logging.basicConfig(level=logging.INFO, format='%(asctime)s - %(levelname)s - %(message)s')\n",
    "logger = logging.getLogger(__name__)\n",
    "\n",
    "# Initialize soilgridsDownloader class\n",
    "sd = soilgridsDownloader(config, logger)\n",
    "\n",
    "# Run SOILGRIDS downloads and processing\n",
    "sd.process_soilgrids_data()\n",
    "\n",
    "logger.info(\"SOILGRIDS data processing completed\")"
   ]
  },
  {
   "cell_type": "markdown",
   "metadata": {},
   "source": [
    "## 3. Download landcover classifications from MODIS (MOD12Q1)"
   ]
  },
  {
   "cell_type": "code",
   "execution_count": null,
   "metadata": {},
   "outputs": [],
   "source": [
    "# Set up \n",
    "logging.basicConfig(level=logging.INFO, format='%(asctime)s - %(levelname)s - %(message)s')\n",
    "logger = logging.getLogger(__name__)\n",
    "\n",
    "# Initialize modisDownloader class\n",
    "md = modisDownloader(config, logger)\n",
    "\n",
    "# Run MODIS downloads and processing\n",
    "md.run_modis_workflow()\n",
    "\n",
    "logger.info(\"MODIS data processing completed\")"
   ]
  },
  {
   "cell_type": "markdown",
   "metadata": {},
   "source": [
    "## 4. Download Glacier domain data \n",
    "Process data to make various input data tiff files."
   ]
  },
  {
   "cell_type": "code",
   "execution_count": 56,
   "metadata": {},
   "outputs": [],
   "source": [
    "import pandas as pd\n",
    "import geopandas as gpd\n",
    "import matplotlib.pyplot as plt\n",
    "import shutil\n",
    "from shapely.geometry import box, shape, Point, LineString\n",
    "from shapely.ops import unary_union\n",
    "from shapely.affinity import rotate\n",
    "import numpy as np\n",
    "from rasterio.mask import mask\n",
    "from rasterio.features import shapes\n",
    "from rasterio.merge import merge\n",
    "from rasterio.features import geometry_mask\n",
    "from rasterio.warp import calculate_default_transform, reproject, Resampling\n",
    "from rasterio.transform import from_bounds\n",
    "from scipy.interpolate import griddata\n",
    "from matplotlib.colors import LinearSegmentedColormap, Normalize\n",
    "from matplotlib.colors import ListedColormap, BoundaryNorm\n",
    "from mpl_toolkits.axes_grid1 import make_axes_locatable\n",
    "\n",
    "# select the glacier region and minimum glacier size to consider for ice movement\n",
    "RGI6_region = \"01Alaska\" # 01Alaska, 02WesternCanadaUS, 03ArcticCanadaNorth, 04ArcticCanadaSouth, 05Greenland, 06Iceland, 07Svalbard, 08Scandinavia, 09RussianArctic, 10NorthAsia, 11CentralEurope, 12CaucasusMiddleEast, 13CentralAsia, 14SouthAsiaWest, 15SouthAsiaEast, 16LowLatitudes, 17SouthernAndes, 18NewZealand, 19AntarcticSubantarctic\n",
    "RGI6_region_num = RGI6_region[:2]\n",
    "RGI6_region_name = RGI6_region[2:]\n",
    "\n",
    "# only need for flowlines, if using\n",
    "# RGI7_region = \"01_alaska\" # 01_alaska, 02_western_canada_usa, 03_arctic_canada_north, 04_arctic_canada_south, 05_greenland_periphery, 06_iceland, 07_svalbard_jan_mayen, 08_scandinavia, 09_russian_arctic, 10_north_asia, 11_central_europe, 12_caucasus_middle_east, 13_central_asia, 14_south_asia_west, 15_south_asia_east, 16_low_latitudes, 17_southern_andes, 18_new_zealand, 19_subantarctic_antarctic_islands\n",
    "\n",
    "# Define the UTM zone for the area (example: UTM zone 6N for Alaska)\n",
    "utm_crs = \"EPSG:32606\"\n",
    "\n",
    "# make directories\n",
    "glacier_dir = project_dir / 'attributes' / 'glaciers'\n",
    "glacier_dir.mkdir(parents = True, exist_ok = True)\n",
    "plots_dir = project_dir / 'plots' / 'catchment'\n",
    "plots_dir.mkdir(parents = True, exist_ok = True)"
   ]
  },
  {
   "cell_type": "markdown",
   "metadata": {},
   "source": [
    "### a. DEM, previously processed\n",
    "This will be used to make initilization ablation area if glacier ablation area product does not exist."
   ]
  },
  {
   "cell_type": "code",
   "execution_count": 57,
   "metadata": {},
   "outputs": [],
   "source": [
    "# get glacier surface elevation and bedrock elevation -- assuming there's only one file in the directory and it covers the entire bounding box\n",
    "dem_path = project_dir / 'attributes' / 'elevation' / 'dem' / f\"domain_{config['DOMAIN_NAME']}_elv.tif\"\n",
    "src = rasterio.open(dem_path)\n",
    "dem_data = src.read(1)  # Read the first band (elevation values)\n",
    "dem_transform = src.transform\n",
    "dem_crs = src.crs\n",
    "meta = src.meta.copy()  # Copy the metadata\n",
    "target_crs = dem_crs\n",
    "\n",
    "# Function to create a single polygon where DEM elevation is less than higher or lower than Z\n",
    "def create_elevation_polygon(src, geometry, dem_data, dem_transform, Z, highlow):\n",
    "    out_image, out_transform = mask(src, [geometry], crop=True)\n",
    "    out_image = out_image[0]  # Get the first band\n",
    "    if highlow == 'high':\n",
    "        if Z > max(out_image[out_image > 0]): # make sure has at least 1 pixel or decrease Z\n",
    "            Z = max(out_image[out_image > 0])\n",
    "        elevation_mask = (out_image > Z) & (out_image > 0)\n",
    "    elif highlow == 'low':\n",
    "        if Z < min(out_image[out_image > 0]): # make sure has at least 1 pixel or increase Z\n",
    "            Z = min(out_image[out_image > 0])\n",
    "        elevation_mask = (out_image < Z) & (out_image > 0)\n",
    "    elevation_shapes = shapes(elevation_mask.astype(np.int16), transform=out_transform)\n",
    "    elevation_polygons = [shape(geom) for geom, value in elevation_shapes if value == 1]\n",
    "    if elevation_polygons:\n",
    "        return unary_union(elevation_polygons)\n",
    "    else:\n",
    "        return None"
   ]
  },
  {
   "cell_type": "markdown",
   "metadata": {},
   "source": [
    "### b. RGI data for all glaciers in area\n",
    "May need to download 2 versions (file per region):\n",
    "1. RGI 6.0: the debris products are associated with this version.\n",
    "2. RGI 7.0: if we want flowlines for the glacier, we will need RGI 7.0-L ."
   ]
  },
  {
   "cell_type": "code",
   "execution_count": 58,
   "metadata": {},
   "outputs": [
    {
     "name": "stdout",
     "output_type": "stream",
     "text": [
      "         RGIId              Name   Area  Zmed\n",
      "RGI60-01.09076              None  0.073  1327\n",
      "RGI60-01.09092              None  0.066  1408\n",
      "RGI60-01.09162 Wolverine Glacier 16.749  1267\n"
     ]
    }
   ],
   "source": [
    "# https://daacdata.apps.nsidc.org/pub/DATASETS/nsidc0770_rgi_v7/regional_files/RGI2000-v7.0-L/\n",
    "# RGI2000-v7.0-L-${RGI7_region}/RGI2000-v7.0-L-${RGI7_region}.shp might want to add these flowlines to the stream network\n",
    "\n",
    "# https://daacdata.apps.nsidc.org/pub/DATASETS/nsidc0770_rgi_v6/\n",
    "# should go get this, but for now just use the one downloaded from the website\n",
    "downloaded_rgi_dir = Path('/Users/amedin/Research/USask/RGI_data')\n",
    "rgi_shapefile = downloaded_rgi_dir / f\"nsidc0770_{RGI6_region_num}.rgi60.{RGI6_region_name}\" / f\"{RGI6_region_num}_rgi60_{RGI6_region_name}.shp\"\n",
    "\n",
    "# read in the shapefile\n",
    "rgi_gdf = gpd.read_file(rgi_shapefile)\n",
    "rgi_gdf = rgi_gdf.to_crs(target_crs)\n",
    "\n",
    "# extract all glaciers in the lat long region of interest\n",
    "bbox = config['BOUNDING_BOX_COORDS'].split('/')\n",
    "bbox = [float(coord) for coord in bbox]  # Convert coordinates to float\n",
    "\n",
    "# Create a bounding box geometry and extract glaciers within the bounding box\n",
    "bbox_geom = box(bbox[1], bbox[0], bbox[3], bbox[2])  # (minx, miny, maxx, maxy)\n",
    "rgi = rgi_gdf[rgi_gdf.geometry.within(bbox_geom)]\n",
    "print(rgi[['RGIId','Name', 'Area', 'Zmed']].to_string(index=False))"
   ]
  },
  {
   "cell_type": "markdown",
   "metadata": {},
   "source": [
    "### c. Debris and ablation zone extent data from Herreid and Pellicciotti, Nature Geoscience, 2020\n",
    "Data was computed from a 255 image library of Landsat satellite imagery wiwth minimum cloud and seasonal snow cover at the most recent date possible to 2016. Authors made a first iteration global debris cover map which defined the shape of all non-bare-ice area within the RGI. Next they manually differentiated these shapes between true positive debris cover, land that is not glacier (RGI false positive) and topographically shaded area.\n",
    "\n",
    "We will use data S1, for each RGI region get (all files are in ArcGIS format .shp): \n",
    "1. Debris map (glacier area >1 km2 version or glacier area >2 km2 version) where debris shapes are cut by source satellite image edges and assigned the satellite image acquisition date.\n",
    "2. Ablation zone area (glacier area >2 km2).\n",
    "3. Glacier map (glacier area >1 km2 version) that is corrected from RGI 6.0 and agrees with 1. and 2."
   ]
  },
  {
   "cell_type": "code",
   "execution_count": 59,
   "metadata": {},
   "outputs": [],
   "source": [
    "# https://zenodo.org/records/3866466/files/SupplementaryInformation.zip, folder /S1/ \n",
    "# should go get this, but for now just use the one downloaded from the website\n",
    "downloaded_deb_dir = Path('/Users/amedin/Research/USask/Debris_data')\n",
    "\n",
    "# select the correct shapefiles based on the minimum glacier size for debris, for now just use 1km2\n",
    "min_glacier_size_str = \"1\"\n",
    "#min_glacier_size_str = \"2\"\n",
    "deb_shapefile = downloaded_deb_dir / f\"S1/{RGI6_region}/{RGI6_region}_minGl{min_glacier_size_str}km2_debrisCover.shp\"\n",
    "abl_shapefile = downloaded_deb_dir / f\"S1/{RGI6_region}/{RGI6_region}_ablationZone.shp\"\n",
    "glc_shapefile = downloaded_deb_dir / f\"S1/{RGI6_region}/{RGI6_region}_minGl1km2.shp\"\n",
    "\n",
    "# read in the shapefiles\n",
    "deb_gdf = gpd.read_file(deb_shapefile)\n",
    "deb_gdf = deb_gdf.to_crs(target_crs)\n",
    "abl_gdf = gpd.read_file(abl_shapefile)\n",
    "abl_gdf = abl_gdf.to_crs(target_crs)\n",
    "glc_gdf = gpd.read_file(glc_shapefile)\n",
    "glc_gdf = glc_gdf.to_crs(target_crs)\n",
    "\n",
    "# extract all polygons in the bounding box\n",
    "deb = deb_gdf[deb_gdf.geometry.within(bbox_geom)]\n",
    "abl = abl_gdf[abl_gdf.geometry.within(bbox_geom)]\n",
    "glc = glc_gdf[glc_gdf.geometry.within(bbox_geom)]\n",
    "\n",
    "# Rename glacier RGIId entries to RGI60 since improperly named\n",
    "glc.loc[:, 'RGIId'] = glc['RGIId'].apply(lambda x: x.replace('RGI50', 'RGI60'))\n",
    "\n",
    "# glacier map for glaciers >1km2 area is more accurate than RGI, so if glacier RGI ID exists in glacier map use that geometry\n",
    "for i, glacier in rgi.iterrows():\n",
    "    if glacier['RGIId'] in glc['RGIId'].values:\n",
    "        rgi.at[i, 'geometry'] = glc[glc['RGIId'] == glacier['RGIId']]['geometry'].values[0]\n",
    "        \n",
    "# remove debris and ablation data with no corresponding glacier in bounding box\n",
    "deb = gpd.overlay(deb, rgi, how='intersection')\n",
    "abl = gpd.overlay(abl, rgi, how='intersection')"
   ]
  },
  {
   "cell_type": "code",
   "execution_count": 60,
   "metadata": {},
   "outputs": [],
   "source": [
    "# ablation zone sometimes does not reach to the glacier edge, so extend it out 50m\n",
    "abl_utm = abl.to_crs(utm_crs) # convert the ablation zone geometries to the UTM coordinate system\n",
    "abl_utm['geometry'] = abl_utm['geometry'].buffer(50)\n",
    "\n",
    "# Convert the geometries back to the original geographic coordinate system\n",
    "abl = abl_utm.to_crs(target_crs)\n",
    "\n",
    "# ablation zone sometimes contains polygons that are not glaciers, remove these\n",
    "abl = gpd.overlay(abl, glc, how='intersection')"
   ]
  },
  {
   "cell_type": "code",
   "execution_count": 61,
   "metadata": {},
   "outputs": [],
   "source": [
    "# if a glacier has no ablation zone in the shapefile, then use Zmed as equilibrium line altitude (means accumulation area ratio is 0.5)\n",
    "# need to create a polygon for the ablation zone from the DEM data\n",
    "# may be better to do all glaciers like this, but for now just do the ones that don't have ablation zones\n",
    "low_elevation_gdf = gpd.GeoDataFrame(columns=['geometry', 'RGIId'], crs=dem_crs)\n",
    "for i, glacier in rgi.iterrows():\n",
    "    if glacier['RGIId'] not in abl['RGIId_1'].values: # note, the area is from RGI, may not agree with modification from debris cover maps\n",
    "        # use Zmed as ELA, or could input a value here if knew\n",
    "        Zmed = glacier['Zmed']\n",
    "        low_elevation_polygon = create_elevation_polygon(src, glacier.geometry, dem_data, dem_transform, Zmed,'low')\n",
    "        if low_elevation_polygon:\n",
    "            glacier_properties = glacier.to_dict()\n",
    "            glacier_properties['geometry'] = low_elevation_polygon\n",
    "            new_row = gpd.GeoDataFrame([glacier_properties], columns=rgi_gdf.columns, crs=dem_crs)\n",
    "            low_elevation_gdf = pd.concat([low_elevation_gdf, new_row], ignore_index=True)\n",
    "\n",
    "# Convert the CRS of low_elevation_gdf to EPSG:4326\n",
    "low_elevation_gdf = low_elevation_gdf.to_crs(target_crs)\n",
    "\n",
    "# add the low elevation polygons to the ablation zone polygons\n",
    "abl = pd.concat([abl, low_elevation_gdf], ignore_index=True)\n",
    "\n",
    "# finalize the accumulation polygons\n",
    "acc = gpd.overlay(rgi, abl, how='difference') # remove ablation zone from glaciers for accumulation zone\n",
    "deb = gpd.overlay(deb, acc, how='difference') # no debris allowed in accumulation zone"
   ]
  },
  {
   "cell_type": "code",
   "execution_count": 62,
   "metadata": {},
   "outputs": [
    {
     "data": {
      "image/png": "[encoded data removed]",
      "text/plain": [
       "<Figure size 500x500 with 1 Axes>"
      ]
     },
     "metadata": {},
     "output_type": "display_data"
    }
   ],
   "source": [
    "# Plot the shapefiles of each glacier type\n",
    "# Note, the calculated ablation cells from the raster DEM will make some accumulation cells appear in the ablation zone\n",
    "#  but since the resulting tiff will be on the resolution of the DEM, this will not be an issue in the final product\n",
    "fig, ax = plt.subplots(figsize=(5, 5))\n",
    "ax.set_facecolor('gray')  # Set the background color to gray\n",
    "rgi.plot(ax=ax, color='purple')\n",
    "acc.plot(ax=ax, color='cyan')\n",
    "abl.plot(ax=ax, color='blue')\n",
    "deb.plot(ax=ax, color='orange')\n",
    "ax.set_title('Glacier Shapefiles')\n",
    "plt.show()"
   ]
  },
  {
   "cell_type": "markdown",
   "metadata": {},
   "source": [
    "### Deviation into lateral moraine width calculations\n",
    "Use to get a better estimate of this but it is not necessary for the model"
   ]
  },
  {
   "cell_type": "code",
   "execution_count": 63,
   "metadata": {},
   "outputs": [],
   "source": [
    "def calculate_thinnest_width(polygon):\n",
    "    \"\"\"\n",
    "    Calculate the thinnest width of a polygon (minimum distance across the polygon).\n",
    "\n",
    "    Parameters:\n",
    "    - polygon: A Shapely Polygon or MultiPolygon object.\n",
    "\n",
    "    Returns:\n",
    "    - min_width: The minimum width of the polygon.\n",
    "    - point1, point2: The two points defining the thinnest width on the polygon.\n",
    "    \"\"\"\n",
    "    # If the input is a MultiPolygon, select the largest polygon by area\n",
    "    if polygon.geom_type == 'MultiPolygon':\n",
    "        polygon = max(polygon.geoms, key=lambda p: p.area)\n",
    "\n",
    "    # Get the convex hull of the polygon (simplifies the shape for width calculation)\n",
    "    convex_hull = polygon.convex_hull\n",
    "\n",
    "    # Get the coordinates of the convex hull\n",
    "    coords = np.array(convex_hull.exterior.coords)\n",
    "\n",
    "    # Initialize the minimum width to a large value\n",
    "    min_width = float('inf')\n",
    "    point1, point2 = None, None\n",
    "\n",
    "    # Loop through each edge of the convex hull\n",
    "    for i in range(len(coords) - 1):\n",
    "        # Get the current edge\n",
    "        p1, p2 = coords[i], coords[i + 1]\n",
    "\n",
    "        # Calculate the angle of the edge\n",
    "        edge_angle = np.arctan2(p2[1] - p1[1], p2[0] - p1[0])\n",
    "\n",
    "        # Rotate the polygon so that the edge is aligned with the x-axis\n",
    "        rotated_polygon = rotate(convex_hull, -np.degrees(edge_angle), origin=(0, 0))\n",
    "\n",
    "        # Get the bounds of the rotated polygon\n",
    "        bounds = rotated_polygon.bounds\n",
    "        width = bounds[3] - bounds[1]  # Difference in y-coordinates\n",
    "\n",
    "        # Update the minimum width and points\n",
    "        if width < min_width:\n",
    "            min_width = width \n",
    "            \n",
    "            # Transform the width points back to the original CRS\n",
    "            point1_rotated = ((bounds[0]+bounds[2])/2, bounds[1])\n",
    "            point2_rotated = ((bounds[0]+bounds[2])/2, bounds[3])\n",
    "\n",
    "            # Reverse the rotation to get the points in the original CRS\n",
    "            point1 = rotate(Point(point1_rotated), np.degrees(edge_angle), origin=(0, 0)).coords[0]\n",
    "            point2 = rotate(Point(point2_rotated), np.degrees(edge_angle), origin=(0, 0)).coords[0]\n",
    "\n",
    "    return min_width, point1, point2, coords\n",
    "\n",
    "    return min_width, point1, point2, coords"
   ]
  },
  {
   "cell_type": "code",
   "execution_count": 64,
   "metadata": {},
   "outputs": [
    {
     "name": "stderr",
     "output_type": "stream",
     "text": [
      "/var/folders/vg/2cv5b92d4216qkxz87hgmv7r0000kp/T/ipykernel_10613/1127840460.py:42: FutureWarning: The behavior of DataFrame concatenation with empty or all-NA entries is deprecated. In a future version, this will no longer exclude empty or all-NA columns when determining the result dtypes. To retain the old behavior, exclude the relevant entries before the concat operation.\n",
      "  moraine_gdf = pd.concat(\n"
     ]
    },
    {
     "data": {
      "text/html": [
       "<div>\n",
       "<style scoped>\n",
       "    .dataframe tbody tr th:only-of-type {\n",
       "        vertical-align: middle;\n",
       "    }\n",
       "\n",
       "    .dataframe tbody tr th {\n",
       "        vertical-align: top;\n",
       "    }\n",
       "\n",
       "    .dataframe thead th {\n",
       "        text-align: right;\n",
       "    }\n",
       "</style>\n",
       "<table border=\"1\" class=\"dataframe\">\n",
       "  <thead>\n",
       "    <tr style=\"text-align: right;\">\n",
       "      <th></th>\n",
       "      <th>RGIId</th>\n",
       "      <th>width</th>\n",
       "      <th>area</th>\n",
       "    </tr>\n",
       "  </thead>\n",
       "  <tbody>\n",
       "    <tr>\n",
       "      <th>0</th>\n",
       "      <td>RGI60-01.09162</td>\n",
       "      <td>77.634906</td>\n",
       "      <td>11336.225281</td>\n",
       "    </tr>\n",
       "    <tr>\n",
       "      <th>1</th>\n",
       "      <td>RGI60-01.09162</td>\n",
       "      <td>75.964533</td>\n",
       "      <td>16407.641347</td>\n",
       "    </tr>\n",
       "  </tbody>\n",
       "</table>\n",
       "</div>"
      ],
      "text/plain": [
       "            RGIId      width          area\n",
       "0  RGI60-01.09162  77.634906  11336.225281\n",
       "1  RGI60-01.09162  75.964533  16407.641347"
      ]
     },
     "execution_count": 64,
     "metadata": {},
     "output_type": "execute_result"
    }
   ],
   "source": [
    "# Reproject to a projected CRS (e.g., UTM)\n",
    "projected_deb = deb.to_crs(utm_crs)\n",
    "\n",
    "# Create a GeoDataFrame for lateral moraines\n",
    "moraine_gdf = gpd.GeoDataFrame(columns=['geometry', 'RGIId', 'width'], crs=utm_crs)\n",
    "\n",
    "# Loop through each glacier and calculate the average width of the debris polygons\n",
    "for i, glacier in rgi.iterrows():\n",
    "    # Get all debris polygons for the current glacier\n",
    "    debris_polygons = projected_deb[projected_deb['RGIId'] == glacier['RGIId']].geometry\n",
    "    \n",
    "    # Filter out invalid or empty polygons\n",
    "    debris_polygons = debris_polygons[debris_polygons.is_valid & ~debris_polygons.is_empty]\n",
    "\n",
    "    # Initialize variables to store results\n",
    "    moraine_properties_list = []\n",
    "\n",
    "    for polygon in debris_polygons:\n",
    "        \n",
    "        # Calculate the thinnest width for the clipped polygon\n",
    "        width, point1, point2, coords = calculate_thinnest_width(polygon)\n",
    "        if width is not None:\n",
    "            # Save the geometry and properties for this polygon\n",
    "            moraine_properties = {\n",
    "                'geometry': polygon,\n",
    "                'RGIId': glacier['RGIId'],\n",
    "                'width': width,\n",
    "                'point1': point1,\n",
    "                'point2': point2,\n",
    "                'area': polygon.area,\n",
    "                'coords': coords\n",
    "            }\n",
    "        moraine_properties_list.append(moraine_properties)\n",
    "\n",
    "    # Add these widths to moraine_gdf if the area is not small\n",
    "    if moraine_properties_list:\n",
    "        # Filter entries with area > 1e4\n",
    "        valid_entries = [entry for entry in moraine_properties_list if entry['geometry'].area > 1e4]\n",
    "        \n",
    "        # If there are valid entries, add them to moraine_gdf\n",
    "        if valid_entries:\n",
    "            moraine_gdf = pd.concat(\n",
    "                [moraine_gdf, gpd.GeoDataFrame(valid_entries, crs=projected_deb.crs)], \n",
    "                ignore_index=True\n",
    "            )\n",
    "\n",
    "# Convert the CRS of moraine_gdf to EPSG:4326 for final output\n",
    "moraine_gdf = moraine_gdf.to_crs(target_crs)\n",
    "moraine_gdf[['RGIId', 'width','area']]"
   ]
  },
  {
   "cell_type": "code",
   "execution_count": 65,
   "metadata": {},
   "outputs": [
    {
     "data": {
      "image/png": "[encoded data removed]",
      "text/plain": [
       "<Figure size 500x500 with 1 Axes>"
      ]
     },
     "metadata": {},
     "output_type": "display_data"
    }
   ],
   "source": [
    "# Plot the debris polygons and their thinnest widths\n",
    "# Reproject the polygons to UTM\n",
    "moraine_gdf2 = moraine_gdf.to_crs(utm_crs)\n",
    "\n",
    "# Plot the debris polygons and their thinnest widths in 2 suplots, one rotated one not\n",
    "fig, ax = plt.subplots(figsize=(5, 5))\n",
    "\n",
    "# Plot each polygon and its thinnest width\n",
    "for _, row in moraine_gdf2.iterrows():\n",
    "    geometry = row['geometry']\n",
    "\n",
    "    # Handle MultiPolygon by selecting the largest polygon\n",
    "    if geometry.geom_type == 'MultiPolygon':\n",
    "        geometry = max(geometry.geoms, key=lambda p: p.area)\n",
    "\n",
    "    # Plot the polygon\n",
    "    if geometry.geom_type == 'Polygon':  # Ensure it's a Polygon\n",
    "        x, y = geometry.exterior.xy\n",
    "        ax.plot(x, y, color='blue', label='Debris Polygon')\n",
    "\n",
    "    # Plot the thinnest width as a line\n",
    "    point1 = row['point1']\n",
    "    point2 = row['point2']\n",
    "    if point1 and point2:\n",
    "        line = LineString([point1, point2])\n",
    "        x, y = line.xy\n",
    "        ax.plot(x, y, color='red', linestyle='--', label='Thinnest Width')\n",
    "    \n",
    "    # plot the convex hull\n",
    "    coords = row['coords']\n",
    "    x, y = zip(*coords)\n",
    "    ax.plot(x, y, color='green', linestyle='-', label='Convex Hull')\n",
    "\n",
    "# Set plot properties\n",
    "ax.set_title(\"Debris Polygons and Thinnest Widths\")\n",
    "ax.set_xlabel(\"X Coordinate\")\n",
    "ax.set_ylabel(\"Y Coordinate\")\n",
    "# plot legend, only use the last 3 labels\n",
    "handles, labels = ax.get_legend_handles_labels()\n",
    "by_label = dict(zip(labels, handles))\n",
    "ax.legend(by_label.values(), by_label.keys())\n",
    "plt.show()"
   ]
  },
  {
   "cell_type": "markdown",
   "metadata": {},
   "source": [
    "### d. Make tiff file of domain type\n",
    "Types are:  \n",
    "1. upland.\n",
    "2. accumulation zone.\n",
    "3. clean ablation zone.\n",
    "4. debris ablation zone.\n",
    "5. reserved for wetland, not yet implemented."
   ]
  },
  {
   "cell_type": "code",
   "execution_count": 66,
   "metadata": {},
   "outputs": [],
   "source": [
    "# Define the glacier type array\n",
    "domain_type = np.ones(dem_data.shape, dtype=np.int16)  # default upland\n",
    "\n",
    "# If have zones, overwrite with zones\n",
    "for i, glacier in acc.iterrows():\n",
    "    mask_array = geometry_mask([glacier.geometry], transform=dem_transform, invert=True, out_shape=dem_data.shape)\n",
    "    domain_type[mask_array] = 2\n",
    "for i, glacier in abl.iterrows():\n",
    "    mask_array = geometry_mask([glacier.geometry], transform=dem_transform, invert=True, out_shape=dem_data.shape)\n",
    "    domain_type[mask_array] = 3\n",
    "for i, glacier in deb.iterrows():\n",
    "    mask_array = geometry_mask([glacier.geometry], transform=dem_transform, invert=True, out_shape=dem_data.shape)\n",
    "    domain_type[mask_array] = 4\n",
    "\n",
    "# make sure each glacier has at least one accumulation cell (all will have ablation from the previous step)\n",
    "#   if not, then add one accumulation cell at highest elevation\n",
    "high_elevation_gdf = gpd.GeoDataFrame(columns=['geometry', 'RGIId'], crs=dem_crs)\n",
    "for i, glacier in rgi.iterrows():\n",
    "    mask_array = geometry_mask([glacier.geometry], transform=dem_transform, invert=True, out_shape=dem_data.shape)\n",
    "    if not np.any(domain_type[mask_array] == 2):\n",
    "        # add one accumulation cell at highest elevation\n",
    "        Zmax = glacier['Zmax']\n",
    "        high_elevation_polygon = create_elevation_polygon(src, glacier.geometry, dem_data, dem_transform, Zmax,'high')\n",
    "        if high_elevation_polygon:\n",
    "            glacier_properties = glacier.to_dict()\n",
    "            glacier_properties['geometry'] = high_elevation_polygon\n",
    "            new_row = gpd.GeoDataFrame([glacier_properties], columns=rgi_gdf.columns, crs=dem_crs)\n",
    "            high_elevation_gdf = pd.concat([high_elevation_gdf, new_row], ignore_index=True)\n",
    "\n",
    "# Convert the CRS of high_elevation_gdf to EPSG:4326\n",
    "high_elevation_gdf = high_elevation_gdf.to_crs(target_crs)\n",
    "\n",
    "# add the high elevation polygons to the accumulation zone polygons\n",
    "acc = pd.concat([acc, high_elevation_gdf], ignore_index=True)\n",
    "\n",
    "# Overwrite for all accumulation zones\n",
    "for i, glacier in acc.iterrows():\n",
    "    mask_array = geometry_mask([glacier.geometry], transform=dem_transform, invert=True, out_shape=dem_data.shape)\n",
    "    domain_type[mask_array] = 2\n",
    "\n",
    "# Write the glacier type to a tiff file\n",
    "output_file = glacier_dir / f\"domain_{config['DOMAIN_NAME']}_domain_type.tif\"\n",
    "meta.update(count=1, dtype='int16')\n",
    "with rasterio.open(output_file, 'w', **meta) as dst:\n",
    "    dst.write(domain_type, 1)"
   ]
  },
  {
   "cell_type": "code",
   "execution_count": 67,
   "metadata": {},
   "outputs": [
    {
     "data": {
      "image/png": "[encoded data removed]",
      "text/plain": [
       "<Figure size 800x800 with 2 Axes>"
      ]
     },
     "metadata": {},
     "output_type": "display_data"
    }
   ],
   "source": [
    "# plot the domain types\n",
    "colors = ['gray', 'cyan', 'blue', 'orange', 'green', 'purple']\n",
    "cmap = ListedColormap(colors)\n",
    "\n",
    "fig, ax = plt.subplots(figsize=(8, 8))\n",
    "im = ax.imshow(domain_type, cmap=cmap)\n",
    "divider = make_axes_locatable(ax)\n",
    "cax = divider.append_axes(\"right\", size=\"5%\", pad=0.1)\n",
    "cbar = plt.colorbar(im, cax=cax)\n",
    "cbar.ax.tick_params(labelsize=10)\n",
    "ax.set_title('Domain Types')\n",
    "cbar.set_label('type', fontsize=10)\n",
    "plt.show()\n",
    "# save\n",
    "output_file = plots_dir / f\"{config['DOMAIN_NAME']}_domain_type.png\"\n",
    "fig.savefig(output_file, dpi=300, bbox_inches='tight')"
   ]
  },
  {
   "cell_type": "markdown",
   "metadata": {},
   "source": [
    "### e. Make tiff file of RGI ID\n",
    "ID will be RGI 6.0 ID, as a number (region number * 100000) + 5 digit ID (starts at 1 for each region). ID of 0 is no glacier.\n",
    "This file will be used to make an initial glacier surface (from DEM) and glacier basal topography file for each glacier to use in flow calculations for area change. "
   ]
  },
  {
   "cell_type": "code",
   "execution_count": 68,
   "metadata": {},
   "outputs": [],
   "source": [
    "# RGI ID\n",
    "rgi_id = np.zeros(dem_data.shape, dtype=np.int32) # default to 0 (no glacier), glacier IDs start at 1\n",
    "col_id = np.zeros(1+len(rgi), dtype=np.int32)\n",
    "j = 0\n",
    "for i, glacier in rgi.iterrows():\n",
    "    mask_array = geometry_mask([glacier.geometry], transform=dem_transform, invert=True, out_shape=dem_data.shape)\n",
    "    id = int(glacier['RGIId'][9:]) + int(glacier['RGIId'][6:8]) * 100000\n",
    "    rgi_id[mask_array] = id\n",
    "    j += 1\n",
    "    col_id[j] = id\n",
    "\n",
    "# Write the RGI ID to a tiff file\n",
    "output_file = glacier_dir / f\"domain_{config['DOMAIN_NAME']}_rgi_id.tif\"\n",
    "meta.update(count=1, dtype='int32')\n",
    "with rasterio.open(output_file, 'w', **meta) as dst:\n",
    "    dst.write(rgi_id, 1)"
   ]
  },
  {
   "cell_type": "code",
   "execution_count": 69,
   "metadata": {},
   "outputs": [
    {
     "data": {
      "image/png": "[encoded data removed]",
      "text/plain": [
       "<Figure size 800x800 with 2 Axes>"
      ]
     },
     "metadata": {},
     "output_type": "display_data"
    }
   ],
   "source": [
    "# plot the RGI ID\n",
    "# NOTE: currently, the glacier is the filling the entire RGI ID array\n",
    "#   We allow glacier to extend beyond the current extent by extending the RGI ID array downstream in the delineation step\n",
    "colors = plt.get_cmap('tab20', len(col_id)).colors\n",
    "cmap = ListedColormap(colors)\n",
    "norm = BoundaryNorm(boundaries=np.append(col_id, col_id[-1] + 1), ncolors=len(col_id))\n",
    "\n",
    "fig, ax = plt.subplots(figsize=(8, 8))\n",
    "im = ax.imshow(rgi_id, cmap=cmap, norm=norm)\n",
    "divider = make_axes_locatable(ax)\n",
    "cax = divider.append_axes(\"right\", size=\"5%\", pad=0.1)\n",
    "cbar = plt.colorbar(im, cax=cax, ticks=col_id)\n",
    "cbar.ax.tick_params(labelsize=10)\n",
    "ax.set_title('Glacier ID')\n",
    "cbar.set_label('RGI ID', fontsize=10)\n",
    "plt.show()\n",
    "# save\n",
    "output_file = plots_dir / f\"{config['DOMAIN_NAME']}_rgi_id.png\"\n",
    "fig.savefig(output_file, dpi=300, bbox_inches='tight')"
   ]
  },
  {
   "cell_type": "markdown",
   "metadata": {},
   "source": [
    "### f. Debris thickness data from Rounce et al., Geophysical Research Letters, 2021\n",
    "Debris thickness in meters for all debris covered glaciers in RGI 6.0, one file per glacier. Debris was estimated by the authors with sub-debris melt and surface temperature estimates, as follows.\n",
    "\n",
    "For glaciers with area >2 km2 a glacier sub-debris melt was estimated, assuming melt under debris is equivalent to the annual\n",
    "climatic mass balance. The annual climatic mass balance was estimated from 2000-2018 by setting it equal to the elevation change plus the flux divergence. Elevation change was estimated with ASTER data (in relation to a DEM). Flux\n",
    "divergence was estimated from surface velocity data from 1985 to 2018 (Gardner et al., 2019) and ice thickness\n",
    "estimates (Farinotti et al., 2019), assuming only internal deformation and thus a ratio of column-average ice\n",
    "velocity to surface velocity of 0.8. Then, an inversion for debri thickness from mass balance was performed over near-stagnant (<7.5 m yr−1) debris-covered areas.\n",
    "\n",
    "Next, the distributed debris thickness was estimated for each debris-covered glacier grid cell from an inversion of surface\n",
    "temperature, based on modeled surface temperatures and Landsat-8 surface temperature data. Each glacier with area >2 km2 had its inversion coefficients calibrated with the debris thickness estimates from its sub-debris melt inversion method. For the remaining debris-covered glaciers, the surface temperature inversion coefficients were calibrated with the nearest (>2 km2) glaciers' coefficients. \n",
    "\n",
    "The data footprint of the non-zero debris thickness of Rounce et al. is much smaller than the debris existance map of Herreid and Pellicciotti used to define domain type. A study by Herreid, Frontiers in Earth Science, 2021, showed the debris thickness method returned 0 cm for an area of measured thickness values of 4 cm. Furthermore, a previous study by Rounce et al., JGR Earth Surface, 2018, used any thickness below 2 cm as equivalent in an energy model to clean ice. Thus, we map all areas of thickness <4 cm to 4 cm so that all domain type debris areas will have a non-zero debris thickness after delineation.  "
   ]
  },
  {
   "cell_type": "code",
   "execution_count": 70,
   "metadata": {},
   "outputs": [],
   "source": [
    "# https://n5eil01u.ecs.nsidc.org/HMA/HMA_DTE.001/2000.01.01/ \n",
    "# should go get this, but for now just use the ones downloaded from the website for the region\n",
    "downloaded_dtk_dir = Path('/Users/amedin/Research/USask/Debris_thick')\n",
    "min_thickness = 0.04 # minimum thickness of debris used in the model (m), low values are increased to this value\n",
    "\n",
    "# ID specific files, first check if the file exists, then reproject it\n",
    "tiff_dir = glacier_dir / 'dtk_temp' # temporary directory for reprojected files\n",
    "tiff_dir.mkdir(parents = True, exist_ok = True)\n",
    "reprojected_files = []\n",
    "for j, glacier in rgi.iterrows():\n",
    "    dtk_tif_calib = downloaded_dtk_dir / f\"region{str(int(RGI6_region[:2]))}/HMA_DTE_{str(int(RGI6_region[:2]))}.{glacier['RGIId'][9:]}_hdts_m.tif\"\n",
    "    dtk_tif_extrp = downloaded_dtk_dir / f\"region{str(int(RGI6_region[:2]))}/HMA_DTE_{str(int(RGI6_region[:2]))}.{glacier['RGIId'][9:]}_hdts_m_extrap.tif\"\n",
    "    if dtk_tif_calib.exists():\n",
    "        dtk_tif = dtk_tif_calib\n",
    "    elif dtk_tif_extrp.exists():\n",
    "        dtk_tif = dtk_tif_extrp\n",
    "    else:\n",
    "        continue\n",
    "    with rasterio.open(dtk_tif) as src:\n",
    "        transform, width, height = calculate_default_transform(\n",
    "            src.crs, target_crs, src.width, src.height, *src.bounds)\n",
    "        kwargs = src.meta.copy()\n",
    "        kwargs.update({\n",
    "            'crs': target_crs,\n",
    "            'transform': transform,\n",
    "            'width': width,\n",
    "            'height': height\n",
    "        })\n",
    "        reprojected_file = os.path.join(tiff_dir, f'reprojected_{glacier['RGIId']}.tif')\n",
    "        with rasterio.open(reprojected_file, 'w', **kwargs) as dst:\n",
    "            for i in range(1, src.count + 1):\n",
    "                reproject(\n",
    "                    source=rasterio.band(src, i),\n",
    "                    destination=rasterio.band(dst, i),\n",
    "                    src_transform=src.transform,\n",
    "                    src_crs=src.crs,\n",
    "                    dst_transform=transform,\n",
    "                    dst_crs=target_crs,\n",
    "                    resampling=Resampling.nearest)\n",
    "        reprojected_files.append(reprojected_file)\n",
    "\n",
    "# open the reprojected files and merge them\n",
    "src_files_to_mosaic = []\n",
    "for reprojected_file in reprojected_files:\n",
    "    src = rasterio.open(reprojected_file)\n",
    "    src_files_to_mosaic.append(src)\n",
    "mosaic, out_trans = merge(src_files_to_mosaic)\n",
    "\n",
    "# set 1.e20 to 0 (no data value)\n",
    "mosaic[mosaic == 1.e20] = 0\n",
    "# set low values to min_thickness (minimum value)\n",
    "mosaic[mosaic <= min_thickness] = min_thickness\n",
    "\n",
    "# Update the metadata\n",
    "out_meta = src.meta.copy()\n",
    "out_meta.update({\n",
    "    \"driver\": \"GTiff\",\n",
    "    \"height\": mosaic.shape[1],\n",
    "    \"width\": mosaic.shape[2],\n",
    "    \"transform\": out_trans,\n",
    "    \"crs\": target_crs\n",
    "})\n",
    "\n",
    "# Close all the source files\n",
    "for src in src_files_to_mosaic:\n",
    "    src.close()\n",
    "\n",
    "# Remove temporary directory\n",
    "shutil.rmtree(tiff_dir, ignore_errors=True)"
   ]
  },
  {
   "cell_type": "code",
   "execution_count": 71,
   "metadata": {},
   "outputs": [],
   "source": [
    "# Subset the debris thickness mosaic to the bounding box of dem_data\n",
    "dem_bounds = rasterio.transform.array_bounds(dem_data.shape[0], dem_data.shape[1], dem_transform)\n",
    "bbox = box(*dem_bounds)\n",
    "\n",
    "# Calculate the bounding box in the mosaic's coordinate system\n",
    "mosaic_bounds = rasterio.transform.array_bounds(mosaic.shape[1], mosaic.shape[2], out_trans)\n",
    "mosaic_bbox = box(*mosaic_bounds)\n",
    "\n",
    "# Calculate the intersection of the bounding boxes\n",
    "intersection = bbox.intersection(mosaic_bbox)\n",
    "\n",
    "# Calculate the indices for the subset\n",
    "minx, miny, maxx, maxy = intersection.bounds\n",
    "row_start, col_start = ~out_trans * (minx, maxy)\n",
    "row_stop, col_stop = ~out_trans * (maxx, miny)\n",
    "row_start, row_stop = int(row_start), int(row_stop)\n",
    "col_start, col_stop = int(col_start), int(col_stop)\n",
    "\n",
    "# Subset the mosaic\n",
    "mosaic_subset = mosaic[0][col_start:col_stop,row_start:row_stop]\n",
    "\n",
    "# Create a new transform for the subset\n",
    "mosaic_transform = from_bounds(minx, miny, maxx, maxy, mosaic_subset.shape[1], mosaic_subset.shape[0])"
   ]
  },
  {
   "cell_type": "code",
   "execution_count": 72,
   "metadata": {},
   "outputs": [],
   "source": [
    "# Interpolate the debris thickness to the dem data resolution and keep a value if domain_type is 4\n",
    "deb_thickness = np.zeros(dem_data.shape, dtype=np.float32)  # default to 0 (no debris domain)\n",
    "rows, cols = np.indices(dem_data.shape)\n",
    "x_coords, y_coords = rasterio.transform.xy(dem_transform, rows, cols)\n",
    "x_coords = np.array(x_coords).flatten()\n",
    "y_coords = np.array(y_coords).flatten()\n",
    "\n",
    "# Get the coordinates in the source raster's coordinate system\n",
    "src_rows, src_cols = np.indices(mosaic_subset.shape)\n",
    "src_x_coords, src_y_coords = rasterio.transform.xy(mosaic_transform, src_rows, src_cols)\n",
    "src_x_coords = np.array(src_x_coords).flatten()\n",
    "src_y_coords = np.array(src_y_coords).flatten()\n",
    "\n",
    "# Create the points and values arrays for griddata\n",
    "points = np.vstack([src_x_coords, src_y_coords]).T\n",
    "values = mosaic_subset.flatten()\n",
    "\n",
    "# Now interpolate the debris thickness to the dem data resolution\n",
    "grid_x, grid_y = np.meshgrid(np.arange(dem_data.shape[1]), np.arange(dem_data.shape[0]))\n",
    "interpolated_values = griddata(points, values, (x_coords, y_coords), method='nearest').reshape(dem_data.shape)\n",
    "deb_thickness[domain_type == 4] = interpolated_values[domain_type == 4]"
   ]
  },
  {
   "cell_type": "markdown",
   "metadata": {},
   "source": [
    "### g. Make tiff file of debris thickness data\n",
    "This is non-zero if and only if the glacier type raster is debris. The raster data later be interpolated to the debri shape by HRU."
   ]
  },
  {
   "cell_type": "code",
   "execution_count": 73,
   "metadata": {},
   "outputs": [],
   "source": [
    "# Write the debris thickness to a tiff file\n",
    "output_file = glacier_dir / f\"domain_{config['DOMAIN_NAME']}_debris_thickness.tif\"\n",
    "meta.update(count=1, dtype='float32')\n",
    "with rasterio.open(output_file, 'w', **meta) as dst:\n",
    "    dst.write(deb_thickness, 1)"
   ]
  },
  {
   "cell_type": "code",
   "execution_count": 74,
   "metadata": {},
   "outputs": [
    {
     "data": {
      "image/png": "[encoded data removed]",
      "text/plain": [
       "<Figure size 800x800 with 2 Axes>"
      ]
     },
     "metadata": {},
     "output_type": "display_data"
    }
   ],
   "source": [
    "# plot the debris thickness mosaic\n",
    "viridis = plt.get_cmap('viridis')\n",
    "viridis_r = viridis.reversed()\n",
    "\n",
    "# Create a new colormap with 0 values set to white\n",
    "colors = viridis_r(np.linspace(0, 1, 256))\n",
    "colors[0] = [1, 1, 1, 1]  # Set the first color (0 value) to white\n",
    "custom_cmap = LinearSegmentedColormap.from_list('custom_viridis_r', colors)\n",
    "\n",
    "fig, ax = plt.subplots(figsize=(8, 8))\n",
    "im = ax.imshow(deb_thickness, cmap=custom_cmap, norm=Normalize(vmin=0, vmax=np.max(deb_thickness)))\n",
    "divider = make_axes_locatable(ax)\n",
    "cax = divider.append_axes(\"right\", size=\"5%\", pad=0.1)\n",
    "cbar = plt.colorbar(im, cax=cax)\n",
    "cbar.ax.tick_params(labelsize=10)\n",
    "ax.set_title('Debris Thickness')\n",
    "cbar.set_label('meters', fontsize=10)  # Add label to colorbar\n",
    "plt.show()\n",
    "# save\n",
    "output_file = plots_dir / f\"{config['DOMAIN_NAME']}_debris_thickness.png\"\n",
    "fig.savefig(output_file, dpi=300, bbox_inches='tight')"
   ]
  },
  {
   "cell_type": "markdown",
   "metadata": {},
   "source": [
    "### h. Basal topography data from Milan, Nature Geoscience, 2022.\n",
    "Glacier thickness in meters for all glaciers identified in RGI 6.0, in 5 tiff files. First, the authors used pairs of images of LANDSAT 8, Sentinel-1, and Sentinel-2 to map global glacier surface flow velocity in 2017 and 2018. Then, they computed the ice thickness on the basis of the glacier surface motion and slopes using the shallow-ice approximation (SIA). Since basal velocity is needed in the SIA and is unknown, basal velocity was estimated as a fraction of the surface velocity. The fraction value was based on the surface slope from a DEM. Parameters in the SIA were estimated regionally from measured thicknesses."
   ]
  },
  {
   "cell_type": "code",
   "execution_count": 75,
   "metadata": {},
   "outputs": [],
   "source": [
    "# https://www.sedoo.fr/theia-publication-products/?uuid=55acbdd5-3982-4eac-89b2-46703557938c\n",
    "# should go get this, but for now just use the ones downloaded from the website for the region\n",
    "downloaded_thick_dir = Path('/Users/amedin/Research/USask/Thickness_data')\n",
    "\n",
    "# combine the thickness files for the region into one tiff file\n",
    "tiff_dir = glacier_dir / 'tk_temp' # temporary directory for reprojected files\n",
    "tiff_dir.mkdir(parents = True, exist_ok = True)\n",
    "\n",
    "tk_tifs = []\n",
    "# get all the thickness files for the region in the folder\n",
    "files = downloaded_thick_dir.glob(f\"RGI-{str(int(RGI6_region[:2]))}/THICKNESS_RGI-{str(int(RGI6_region[:2]))}.*tif\")\n",
    "for file in files:\n",
    "    tk_tifs.append(file)\n",
    "\n",
    "reprojected_files = []\n",
    "for j, tk_tif in enumerate(tk_tifs):\n",
    "    with rasterio.open(tk_tif) as src:\n",
    "        transform, width, height = calculate_default_transform(\n",
    "            src.crs, target_crs, src.width, src.height, *src.bounds)\n",
    "        kwargs = src.meta.copy()\n",
    "        kwargs.update({\n",
    "            'crs': target_crs,\n",
    "            'transform': transform,\n",
    "            'width': width,\n",
    "            'height': height\n",
    "        })\n",
    "        reprojected_file = os.path.join(tiff_dir, f'reprojected_{j}.tif')\n",
    "        with rasterio.open(reprojected_file, 'w', **kwargs) as dst:\n",
    "            for i in range(1, src.count + 1):\n",
    "                reproject(\n",
    "                    source=rasterio.band(src, i),\n",
    "                    destination=rasterio.band(dst, i),\n",
    "                    src_transform=src.transform,\n",
    "                    src_crs=src.crs,\n",
    "                    dst_transform=transform,\n",
    "                    dst_crs=target_crs,\n",
    "                    resampling=Resampling.nearest)\n",
    "        reprojected_files.append(reprojected_file)\n",
    "\n",
    "# open the reprojected files and merge them\n",
    "src_files_to_mosaic = []\n",
    "for reprojected_file in reprojected_files:\n",
    "    src = rasterio.open(reprojected_file)\n",
    "    src_files_to_mosaic.append(src)\n",
    "mosaic, out_trans = merge(src_files_to_mosaic)\n",
    "\n",
    "# Update the metadata\n",
    "out_meta = src.meta.copy()\n",
    "out_meta.update({\n",
    "    \"driver\": \"GTiff\",\n",
    "    \"height\": mosaic.shape[1],\n",
    "    \"width\": mosaic.shape[2],\n",
    "    \"transform\": out_trans,\n",
    "    \"crs\": target_crs\n",
    "})\n",
    "\n",
    "# Close all the source files\n",
    "for src in src_files_to_mosaic:\n",
    "    src.close()\n",
    "\n",
    "# Remove temporary directory\n",
    "shutil.rmtree(tiff_dir, ignore_errors=True)"
   ]
  },
  {
   "cell_type": "code",
   "execution_count": 76,
   "metadata": {},
   "outputs": [],
   "source": [
    "# Subset the thickness mosaic to the bounding box of dem_data\n",
    "dem_bounds = rasterio.transform.array_bounds(dem_data.shape[0], dem_data.shape[1], dem_transform)\n",
    "bbox = box(*dem_bounds)\n",
    "\n",
    "# Calculate the bounding box in the mosaic's coordinate system\n",
    "mosaic_bounds = rasterio.transform.array_bounds(mosaic.shape[1], mosaic.shape[2], out_trans)\n",
    "mosaic_bbox = box(*mosaic_bounds)\n",
    "\n",
    "# Calculate the intersection of the bounding boxes\n",
    "intersection = bbox.intersection(mosaic_bbox)\n",
    "\n",
    "# Calculate the indices for the subset\n",
    "minx, miny, maxx, maxy = intersection.bounds\n",
    "row_start, col_start = ~out_trans * (minx, maxy)\n",
    "row_stop, col_stop = ~out_trans * (maxx, miny)\n",
    "row_start, row_stop = int(row_start), int(row_stop)\n",
    "col_start, col_stop = int(col_start), int(col_stop)\n",
    "\n",
    "# Subset the mosaic\n",
    "mosaic_subset = mosaic[0][col_start:col_stop,row_start:row_stop]\n",
    "\n",
    "# Create a new transform for the subset\n",
    "mosaic_transform = from_bounds(minx, miny, maxx, maxy, mosaic_subset.shape[1], mosaic_subset.shape[0])"
   ]
  },
  {
   "cell_type": "code",
   "execution_count": 77,
   "metadata": {},
   "outputs": [],
   "source": [
    "# Interpolate the glacier thickness to the dem data resolution\n",
    "rows, cols = np.indices(dem_data.shape)\n",
    "x_coords, y_coords = rasterio.transform.xy(dem_transform, rows, cols)\n",
    "x_coords = np.array(x_coords).flatten()\n",
    "y_coords = np.array(y_coords).flatten()\n",
    "\n",
    "# Get the coordinates in the source raster's coordinate system\n",
    "src_rows, src_cols = np.indices(mosaic_subset.shape)\n",
    "src_x_coords, src_y_coords = rasterio.transform.xy(mosaic_transform, src_rows, src_cols)\n",
    "src_x_coords = np.array(src_x_coords).flatten()\n",
    "src_y_coords = np.array(src_y_coords).flatten()\n",
    "\n",
    "# Create the points and values arrays for griddata\n",
    "points = np.vstack([src_x_coords, src_y_coords]).T\n",
    "values = mosaic_subset.flatten()\n",
    "\n",
    "# Now interpolate the glacier thickness to the dem data resolution\n",
    "grid_x, grid_y = np.meshgrid(np.arange(dem_data.shape[1]), np.arange(dem_data.shape[0]))\n",
    "interpolated_values = griddata(points, values, (x_coords, y_coords), method='nearest').reshape(dem_data.shape)"
   ]
  },
  {
   "cell_type": "markdown",
   "metadata": {},
   "source": [
    "### i. Make tiff file of bottom elevation data\n",
    "This raster will be used as the grid for each glacier for area change and for delineation of the catchment."
   ]
  },
  {
   "cell_type": "code",
   "execution_count": 78,
   "metadata": {},
   "outputs": [],
   "source": [
    "# Write the bedrock elevation to a tiff file\n",
    "bedrock_elevation = dem_data - interpolated_values\n",
    "bedrock_elevation[bedrock_elevation < 0] = 0  # Set negative values to 0\n",
    "output_file = dem_dir / f\"domain_{config['DOMAIN_NAME']}_bedrock_elv.tif\"\n",
    "meta.update(count=1, dtype='float32')\n",
    "with rasterio.open(output_file, 'w', **meta) as dst:\n",
    "    dst.write(bedrock_elevation, 1)"
   ]
  },
  {
   "cell_type": "code",
   "execution_count": 79,
   "metadata": {},
   "outputs": [
    {
     "data": {
      "image/png": "[encoded data removed]",
      "text/plain": [
       "<Figure size 800x800 with 2 Axes>"
      ]
     },
     "metadata": {},
     "output_type": "display_data"
    },
    {
     "data": {
      "image/png": "[encoded data removed]",
      "text/plain": [
       "<Figure size 800x800 with 2 Axes>"
      ]
     },
     "metadata": {},
     "output_type": "display_data"
    }
   ],
   "source": [
    "# plot the surface elevations and bedrock elevations (glacier bottom) for comparison\n",
    "# We will delineate the basin off the bedrock elevation, so it's good to see how it compares to the surface elevation\n",
    "fig, ax = plt.subplots(figsize=(8, 8))\n",
    "im = ax.imshow(dem_data, cmap='viridis')\n",
    "divider = make_axes_locatable(ax)\n",
    "cax = divider.append_axes(\"right\", size=\"5%\", pad=0.1)\n",
    "cbar = plt.colorbar(im, cax=cax)\n",
    "cbar.ax.tick_params(labelsize=10)\n",
    "ax.set_title('Surface Elevation')\n",
    "cbar.set_label('meters', fontsize=10)\n",
    "plt.show()\n",
    "# save\n",
    "output_file = plots_dir / f\"{config['DOMAIN_NAME']}_elv.png\"\n",
    "fig.savefig(output_file, dpi=300, bbox_inches='tight')\n",
    "\n",
    "\n",
    "fig, ax = plt.subplots(figsize=(8, 8))\n",
    "im = ax.imshow(bedrock_elevation, cmap='viridis')\n",
    "divider = make_axes_locatable(ax)\n",
    "cax = divider.append_axes(\"right\", size=\"5%\", pad=0.1)\n",
    "cbar = plt.colorbar(im, cax=cax)\n",
    "cbar.ax.tick_params(labelsize=10)\n",
    "ax.set_title('Bedrock Elevation')\n",
    "cbar.set_label('meters', fontsize=10)\n",
    "plt.show()\n",
    "# save\n",
    "output_file = plots_dir / f\"{config['DOMAIN_NAME']}_bedrock_elv.png\"\n",
    "fig.savefig(output_file, dpi=300, bbox_inches='tight')"
   ]
  },
  {
   "cell_type": "markdown",
   "metadata": {},
   "source": [
    "## Conclusion\n",
    "Congratulations! You have successfully acquired the geospatial data we need to define our modelling domain and to estimate our model attributes."
   ]
  }
 ],
 "metadata": {
  "kernelspec": {
   "display_name": "confluence",
   "language": "python",
   "name": "python3"
  },
  "language_info": {
   "codemirror_mode": {
    "name": "ipython",
    "version": 3
   },
   "file_extension": ".py",
   "mimetype": "text/x-python",
   "name": "python",
   "nbconvert_exporter": "python",
   "pygments_lexer": "ipython3",
   "version": "3.13.2"
  }
 },
 "nbformat": 4,
 "nbformat_minor": 4
}
