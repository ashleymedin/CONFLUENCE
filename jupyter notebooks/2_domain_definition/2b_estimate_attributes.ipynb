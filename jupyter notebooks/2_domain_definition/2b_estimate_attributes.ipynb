{
 "cells": [
  {
   "cell_type": "markdown",
   "metadata": {},
   "source": [
    "# Acquiring neccessary geospatial domain data for CONFLUENCE\n",
    "\n",
    "## Types of geospatial data\n",
    "To build and develop our hydrological models we need information about the geospatial attributes of our domain. These data include:\n",
    "\n",
    "1. Elevation data (Digital Elevation Model, DEM)\n",
    "2. Land cover classifications\n",
    "3. Soil type classifications\n",
    "\n",
    "## Methods of acquiring geospatial data\n",
    "There are several ways of acquiring geospatial data for our domain in CONFLUENCE, depending on the resources we have access to:\n",
    "\n",
    "1. Subsetting from full domain datasets stored on HPC. If you have access to appropriate HPC infrastructure we can use the gistool (https://github.com/CH-Earth/gistool)\n",
    "2. Download data directly from provider\n",
    "3. User supplied data. If you want to use your own geospatial data, e.g. with datasets not currently integrated in CONFLUENCE these can be defined in the CONFLUENCE configuration file\n",
    "\n",
    "In this notebook we will cover using methods 1 and 2 for aqcuiring the pertinent geospatial data for our models"
   ]
  },
  {
   "cell_type": "markdown",
   "metadata": {},
   "source": [
    "# 1. Subsetting data from HPC storage\n",
    "## Key Configuration Settings\n",
    "\n",
    "Let's begin by reviewing the key parts of the `config_active.yaml` file that are essential for initializing a new project:\n",
    "\n",
    "1. `CONFLUENCE_DATA_DIR`: The root directory where all CONFLUENCE data will be stored.\n",
    "2. `CONFLUENCE_CODE_DIR`: The directory containing the CONFLUENCE code.\n",
    "3. `DOMAIN_NAME`: The name of your study area or project domain.\n",
    "4. `BOUNDING_BOX_COORDS`: Coordinates of the domain bounding box\n",
    "5. `GISTOOL_DATASET_ROOT`: Path to gistool datasets root directory\n",
    "6. `TOOL_ACCOUNT`: HPC account for running datatool"
   ]
  },
  {
   "cell_type": "code",
   "execution_count": 3,
   "metadata": {},
   "outputs": [],
   "source": [
    "import os\n",
    "os.environ['PYTHONPATH'] = ''  # Clear the existing PYTHONPATH\n",
    "\n",
    "import sys\n",
    "venv_site_packages = '/home/darri/code/confluence_env/lib/python3.11/site-packages'\n",
    "if venv_site_packages not in sys.path:\n",
    "    sys.path.insert(0, venv_site_packages)"
   ]
  },
  {
   "cell_type": "code",
   "execution_count": 4,
   "metadata": {},
   "outputs": [
    {
     "name": "stdout",
     "output_type": "stream",
     "text": [
      "All modules imported successfully\n"
     ]
    }
   ],
   "source": [
    "import sys\n",
    "from pathlib import Path\n",
    "import yaml # type: ignore\n",
    "import logging\n",
    "import rasterio\n",
    "import numpy as np\n",
    "from pathlib import Path\n",
    "from scipy import stats\n",
    "\n",
    "# Add the parent directory to sys.path\n",
    "current_dir = Path.cwd()\n",
    "parent_dir = current_dir.parent.parent\n",
    "sys.path.append(str(parent_dir))\n",
    "\n",
    "# Import required CONFLUENCE utility functions\n",
    "from utils.dataHandling_utils.data_acquisition_utils import gistoolRunner, meritDownloader, soilgridsDownloader, modisDownloader # type: ignore\n",
    "\n",
    "# Print if successfull\n",
    "print(\"All modules imported successfully\")"
   ]
  },
  {
   "cell_type": "code",
   "execution_count": 5,
   "metadata": {},
   "outputs": [
    {
     "name": "stdout",
     "output_type": "stream",
     "text": [
      "MPI Info:\n",
      "Error getting MPI version: [Errno 2] No such file or directory: 'mpirun'\n"
     ]
    }
   ],
   "source": [
    "import os\n",
    "import subprocess\n",
    "print(\"MPI Info:\")\n",
    "try:\n",
    "    mpi_info = subprocess.check_output(['mpirun', '--version'], text=True)\n",
    "    print(mpi_info)\n",
    "except Exception as e:\n",
    "    print(f\"Error getting MPI version: {e}\")"
   ]
  },
  {
   "cell_type": "code",
   "execution_count": 6,
   "metadata": {},
   "outputs": [
    {
     "name": "stdout",
     "output_type": "stream",
     "text": [
      "\n",
      "Package versions:\n",
      "netCDF4: 1.7.2\n",
      "mpi4py: Not installed\n"
     ]
    },
    {
     "name": "stderr",
     "output_type": "stream",
     "text": [
      "/var/folders/vg/2cv5b92d4216qkxz87hgmv7r0000kp/T/ipykernel_2765/823055922.py:1: DeprecationWarning: pkg_resources is deprecated as an API. See https://setuptools.pypa.io/en/latest/pkg_resources.html\n",
      "  import pkg_resources\n"
     ]
    }
   ],
   "source": [
    "import pkg_resources\n",
    "print(\"\\nPackage versions:\")\n",
    "for package in ['netCDF4', 'mpi4py']:\n",
    "    try:\n",
    "        version = pkg_resources.get_distribution(package).version\n",
    "        print(f\"{package}: {version}\")\n",
    "    except pkg_resources.DistributionNotFound:\n",
    "        print(f\"{package}: Not installed\")"
   ]
  },
  {
   "cell_type": "markdown",
   "metadata": {},
   "source": [
    "## Check configurations\n",
    "\n",
    "Now we should print our configuration settings and make sure that we have defined all the settings we need. "
   ]
  },
  {
   "cell_type": "code",
   "execution_count": 7,
   "metadata": {},
   "outputs": [
    {
     "name": "stdout",
     "output_type": "stream",
     "text": [
      "CONFLUENCE_DATA_DIR: /Users/amedin/Research/Confluence/CONFLUENCE_data\n",
      "CONFLUENCE_CODE_DIR: /Users/amedin/Research/Confluence/CONFLUENCE\n",
      "DOMAIN_NAME: Gulkana\n",
      "BOUNDING_BOX_COORDS: 63.31/-145.54/63.23/-145.32\n",
      "GISTOOL_DATASET_ROOT: /project/rrg-mclark/data/geospatial-data/\n",
      "TOOL_ACCOUNT: def-mclark-ab\n"
     ]
    }
   ],
   "source": [
    "config_path = Path('../../0_config_files/config_active.yaml')\n",
    "with open(config_path, 'r') as config_file:\n",
    "    config = yaml.safe_load(config_file)\n",
    "    \n",
    "    # Display key configuration settings\\n\",\n",
    "    print(f\"CONFLUENCE_DATA_DIR: {config['CONFLUENCE_DATA_DIR']}\")\n",
    "    print(f\"CONFLUENCE_CODE_DIR: {config['CONFLUENCE_CODE_DIR']}\")\n",
    "    print(f\"DOMAIN_NAME: {config['DOMAIN_NAME']}\")\n",
    "    print(f\"BOUNDING_BOX_COORDS: {config['BOUNDING_BOX_COORDS']}\")\n",
    "    print(f\"GISTOOL_DATASET_ROOT: {config['GISTOOL_DATASET_ROOT']}\")\n",
    "    print(f\"TOOL_ACCOUNT: {config['TOOL_ACCOUNT']}\")"
   ]
  },
  {
   "cell_type": "markdown",
   "metadata": {},
   "source": [
    "## Define default paths\n",
    "\n",
    "Now let's define the paths to the attribute data before we run the acquisition scripts and create the containing directories"
   ]
  },
  {
   "cell_type": "code",
   "execution_count": 8,
   "metadata": {},
   "outputs": [],
   "source": [
    "# Main project directory\n",
    "data_dir = config['CONFLUENCE_DATA_DIR']\n",
    "project_dir = Path(data_dir) / f\"domain_{config['DOMAIN_NAME']}\"\n",
    "\n",
    "# Attribute directories\n",
    "dem_dir = project_dir / 'attributes' / 'elevation' / 'dem'\n",
    "soilclass_dir = project_dir / 'attributes' / 'soilclass'\n",
    "landclass_dir = project_dir / 'attributes' / 'landclass'\n",
    "\n",
    "for dir in [dem_dir, soilclass_dir, landclass_dir]: dir.mkdir(parents = True, exist_ok = True)"
   ]
  },
  {
   "cell_type": "markdown",
   "metadata": {},
   "source": [
    "# 1. Running gistool\n",
    "Now that we have our configuration loaded, let's run the gistool to get data we need. This process involves initializing the gistoolRunner with the appropriate settings for each of the datasets we want to extract."
   ]
  },
  {
   "cell_type": "markdown",
   "metadata": {},
   "source": [
    "## A. Elevation data.\n",
    "\n",
    "Currently gistool has support for the MERIT hydro digital elevation model"
   ]
  },
  {
   "cell_type": "code",
   "execution_count": null,
   "metadata": {},
   "outputs": [
    {
     "name": "stdout",
     "output_type": "stream",
     "text": [
      "['/Users/amedin/Research/Confluence/CONFLUENCE_data/installs/gistool/extract-gis.sh', '--dataset=MERIT-Hydro', '--dataset-dir=/project/rrg-mclark/data/geospatial-data/MERIT-Hydro', '--output-dir=/Users/amedin/Research/Confluence/CONFLUENCE_data/domain_Gulkana/attributes/elevation/dem', '--lat-lims=63.23,63.31', '--lon-lims=-145.54,-145.32', '--variable=elv', '--prefix=domain_Gulkana_', '--lib-path=/project/rrg-mclark/lib/--submit-job', '--print-geotiff=true', '--cache=$HOME/cache_dir/', '--account=def-mclark-ab']\n"
     ]
    },
    {
     "ename": "FileNotFoundError",
     "evalue": "[Errno 2] No such file or directory: '/Users/amedin/Research/Confluence/CONFLUENCE_data/installs/gistool/extract-gis.sh'",
     "output_type": "error",
     "traceback": [
      "\u001b[0;31m---------------------------------------------------------------------------\u001b[0m",
      "\u001b[0;31mFileNotFoundError\u001b[0m                         Traceback (most recent call last)",
      "Cell \u001b[0;32mIn[10], line 15\u001b[0m\n\u001b[1;32m     13\u001b[0m \u001b[38;5;66;03m# Create the gistool command\u001b[39;00m\n\u001b[1;32m     14\u001b[0m gistool_command \u001b[38;5;241m=\u001b[39m gr\u001b[38;5;241m.\u001b[39mcreate_gistool_command(dataset \u001b[38;5;241m=\u001b[39m \u001b[38;5;124m'\u001b[39m\u001b[38;5;124mMERIT-Hydro\u001b[39m\u001b[38;5;124m'\u001b[39m, output_dir \u001b[38;5;241m=\u001b[39m dem_dir, lat_lims \u001b[38;5;241m=\u001b[39m latlims, lon_lims \u001b[38;5;241m=\u001b[39m lonlims, variables \u001b[38;5;241m=\u001b[39m \u001b[38;5;124m'\u001b[39m\u001b[38;5;124melv\u001b[39m\u001b[38;5;124m'\u001b[39m)\n\u001b[0;32m---> 15\u001b[0m \u001b[43mgr\u001b[49m\u001b[38;5;241;43m.\u001b[39;49m\u001b[43mexecute_gistool_command\u001b[49m\u001b[43m(\u001b[49m\u001b[43mgistool_command\u001b[49m\u001b[43m)\u001b[49m\n",
      "File \u001b[0;32m~/Research/Confluence/CONFLUENCE/utils/dataHandling_utils/data_acquisition_utils.py:75\u001b[0m, in \u001b[0;36mgistoolRunner.execute_gistool_command\u001b[0;34m(self, gistool_command)\u001b[0m\n\u001b[1;32m     71\u001b[0m \u001b[38;5;28;01mdef\u001b[39;00m\u001b[38;5;250m \u001b[39m\u001b[38;5;21mexecute_gistool_command\u001b[39m(\u001b[38;5;28mself\u001b[39m, gistool_command):\n\u001b[1;32m     72\u001b[0m     \n\u001b[1;32m     73\u001b[0m     \u001b[38;5;66;03m#Run the gistool command\u001b[39;00m\n\u001b[1;32m     74\u001b[0m     \u001b[38;5;28;01mtry\u001b[39;00m:\n\u001b[0;32m---> 75\u001b[0m         \u001b[43msubprocess\u001b[49m\u001b[38;5;241;43m.\u001b[39;49m\u001b[43mrun\u001b[49m\u001b[43m(\u001b[49m\u001b[43mgistool_command\u001b[49m\u001b[43m,\u001b[49m\u001b[43m \u001b[49m\u001b[43mcheck\u001b[49m\u001b[38;5;241;43m=\u001b[39;49m\u001b[38;5;28;43;01mTrue\u001b[39;49;00m\u001b[43m)\u001b[49m\n\u001b[1;32m     76\u001b[0m         \u001b[38;5;28mself\u001b[39m\u001b[38;5;241m.\u001b[39mlogger\u001b[38;5;241m.\u001b[39minfo(\u001b[38;5;124m\"\u001b[39m\u001b[38;5;124mgistool completed successfully.\u001b[39m\u001b[38;5;124m\"\u001b[39m)\n\u001b[1;32m     77\u001b[0m     \u001b[38;5;28;01mexcept\u001b[39;00m subprocess\u001b[38;5;241m.\u001b[39mCalledProcessError \u001b[38;5;28;01mas\u001b[39;00m e:\n",
      "File \u001b[0;32m~/opt/anaconda3/envs/confluence/lib/python3.13/subprocess.py:556\u001b[0m, in \u001b[0;36mrun\u001b[0;34m(input, capture_output, timeout, check, *popenargs, **kwargs)\u001b[0m\n\u001b[1;32m    553\u001b[0m     kwargs[\u001b[38;5;124m'\u001b[39m\u001b[38;5;124mstdout\u001b[39m\u001b[38;5;124m'\u001b[39m] \u001b[38;5;241m=\u001b[39m PIPE\n\u001b[1;32m    554\u001b[0m     kwargs[\u001b[38;5;124m'\u001b[39m\u001b[38;5;124mstderr\u001b[39m\u001b[38;5;124m'\u001b[39m] \u001b[38;5;241m=\u001b[39m PIPE\n\u001b[0;32m--> 556\u001b[0m \u001b[38;5;28;01mwith\u001b[39;00m \u001b[43mPopen\u001b[49m\u001b[43m(\u001b[49m\u001b[38;5;241;43m*\u001b[39;49m\u001b[43mpopenargs\u001b[49m\u001b[43m,\u001b[49m\u001b[43m \u001b[49m\u001b[38;5;241;43m*\u001b[39;49m\u001b[38;5;241;43m*\u001b[39;49m\u001b[43mkwargs\u001b[49m\u001b[43m)\u001b[49m \u001b[38;5;28;01mas\u001b[39;00m process:\n\u001b[1;32m    557\u001b[0m     \u001b[38;5;28;01mtry\u001b[39;00m:\n\u001b[1;32m    558\u001b[0m         stdout, stderr \u001b[38;5;241m=\u001b[39m process\u001b[38;5;241m.\u001b[39mcommunicate(\u001b[38;5;28minput\u001b[39m, timeout\u001b[38;5;241m=\u001b[39mtimeout)\n",
      "File \u001b[0;32m~/opt/anaconda3/envs/confluence/lib/python3.13/subprocess.py:1038\u001b[0m, in \u001b[0;36mPopen.__init__\u001b[0;34m(self, args, bufsize, executable, stdin, stdout, stderr, preexec_fn, close_fds, shell, cwd, env, universal_newlines, startupinfo, creationflags, restore_signals, start_new_session, pass_fds, user, group, extra_groups, encoding, errors, text, umask, pipesize, process_group)\u001b[0m\n\u001b[1;32m   1034\u001b[0m         \u001b[38;5;28;01mif\u001b[39;00m \u001b[38;5;28mself\u001b[39m\u001b[38;5;241m.\u001b[39mtext_mode:\n\u001b[1;32m   1035\u001b[0m             \u001b[38;5;28mself\u001b[39m\u001b[38;5;241m.\u001b[39mstderr \u001b[38;5;241m=\u001b[39m io\u001b[38;5;241m.\u001b[39mTextIOWrapper(\u001b[38;5;28mself\u001b[39m\u001b[38;5;241m.\u001b[39mstderr,\n\u001b[1;32m   1036\u001b[0m                     encoding\u001b[38;5;241m=\u001b[39mencoding, errors\u001b[38;5;241m=\u001b[39merrors)\n\u001b[0;32m-> 1038\u001b[0m     \u001b[38;5;28;43mself\u001b[39;49m\u001b[38;5;241;43m.\u001b[39;49m\u001b[43m_execute_child\u001b[49m\u001b[43m(\u001b[49m\u001b[43margs\u001b[49m\u001b[43m,\u001b[49m\u001b[43m \u001b[49m\u001b[43mexecutable\u001b[49m\u001b[43m,\u001b[49m\u001b[43m \u001b[49m\u001b[43mpreexec_fn\u001b[49m\u001b[43m,\u001b[49m\u001b[43m \u001b[49m\u001b[43mclose_fds\u001b[49m\u001b[43m,\u001b[49m\n\u001b[1;32m   1039\u001b[0m \u001b[43m                        \u001b[49m\u001b[43mpass_fds\u001b[49m\u001b[43m,\u001b[49m\u001b[43m \u001b[49m\u001b[43mcwd\u001b[49m\u001b[43m,\u001b[49m\u001b[43m \u001b[49m\u001b[43menv\u001b[49m\u001b[43m,\u001b[49m\n\u001b[1;32m   1040\u001b[0m \u001b[43m                        \u001b[49m\u001b[43mstartupinfo\u001b[49m\u001b[43m,\u001b[49m\u001b[43m \u001b[49m\u001b[43mcreationflags\u001b[49m\u001b[43m,\u001b[49m\u001b[43m \u001b[49m\u001b[43mshell\u001b[49m\u001b[43m,\u001b[49m\n\u001b[1;32m   1041\u001b[0m \u001b[43m                        \u001b[49m\u001b[43mp2cread\u001b[49m\u001b[43m,\u001b[49m\u001b[43m \u001b[49m\u001b[43mp2cwrite\u001b[49m\u001b[43m,\u001b[49m\n\u001b[1;32m   1042\u001b[0m \u001b[43m                        \u001b[49m\u001b[43mc2pread\u001b[49m\u001b[43m,\u001b[49m\u001b[43m \u001b[49m\u001b[43mc2pwrite\u001b[49m\u001b[43m,\u001b[49m\n\u001b[1;32m   1043\u001b[0m \u001b[43m                        \u001b[49m\u001b[43merrread\u001b[49m\u001b[43m,\u001b[49m\u001b[43m \u001b[49m\u001b[43merrwrite\u001b[49m\u001b[43m,\u001b[49m\n\u001b[1;32m   1044\u001b[0m \u001b[43m                        \u001b[49m\u001b[43mrestore_signals\u001b[49m\u001b[43m,\u001b[49m\n\u001b[1;32m   1045\u001b[0m \u001b[43m                        \u001b[49m\u001b[43mgid\u001b[49m\u001b[43m,\u001b[49m\u001b[43m \u001b[49m\u001b[43mgids\u001b[49m\u001b[43m,\u001b[49m\u001b[43m \u001b[49m\u001b[43muid\u001b[49m\u001b[43m,\u001b[49m\u001b[43m \u001b[49m\u001b[43mumask\u001b[49m\u001b[43m,\u001b[49m\n\u001b[1;32m   1046\u001b[0m \u001b[43m                        \u001b[49m\u001b[43mstart_new_session\u001b[49m\u001b[43m,\u001b[49m\u001b[43m \u001b[49m\u001b[43mprocess_group\u001b[49m\u001b[43m)\u001b[49m\n\u001b[1;32m   1047\u001b[0m \u001b[38;5;28;01mexcept\u001b[39;00m:\n\u001b[1;32m   1048\u001b[0m     \u001b[38;5;66;03m# Cleanup if the child failed starting.\u001b[39;00m\n\u001b[1;32m   1049\u001b[0m     \u001b[38;5;28;01mfor\u001b[39;00m f \u001b[38;5;129;01min\u001b[39;00m \u001b[38;5;28mfilter\u001b[39m(\u001b[38;5;28;01mNone\u001b[39;00m, (\u001b[38;5;28mself\u001b[39m\u001b[38;5;241m.\u001b[39mstdin, \u001b[38;5;28mself\u001b[39m\u001b[38;5;241m.\u001b[39mstdout, \u001b[38;5;28mself\u001b[39m\u001b[38;5;241m.\u001b[39mstderr)):\n",
      "File \u001b[0;32m~/opt/anaconda3/envs/confluence/lib/python3.13/subprocess.py:1974\u001b[0m, in \u001b[0;36mPopen._execute_child\u001b[0;34m(self, args, executable, preexec_fn, close_fds, pass_fds, cwd, env, startupinfo, creationflags, shell, p2cread, p2cwrite, c2pread, c2pwrite, errread, errwrite, restore_signals, gid, gids, uid, umask, start_new_session, process_group)\u001b[0m\n\u001b[1;32m   1972\u001b[0m     err_msg \u001b[38;5;241m=\u001b[39m os\u001b[38;5;241m.\u001b[39mstrerror(errno_num)\n\u001b[1;32m   1973\u001b[0m \u001b[38;5;28;01mif\u001b[39;00m err_filename \u001b[38;5;129;01mis\u001b[39;00m \u001b[38;5;129;01mnot\u001b[39;00m \u001b[38;5;28;01mNone\u001b[39;00m:\n\u001b[0;32m-> 1974\u001b[0m     \u001b[38;5;28;01mraise\u001b[39;00m child_exception_type(errno_num, err_msg, err_filename)\n\u001b[1;32m   1975\u001b[0m \u001b[38;5;28;01melse\u001b[39;00m:\n\u001b[1;32m   1976\u001b[0m     \u001b[38;5;28;01mraise\u001b[39;00m child_exception_type(errno_num, err_msg)\n",
      "\u001b[0;31mFileNotFoundError\u001b[0m: [Errno 2] No such file or directory: '/Users/amedin/Research/Confluence/CONFLUENCE_data/installs/gistool/extract-gis.sh'"
     ]
    }
   ],
   "source": [
    "# Set up \n",
    "logging.basicConfig(level=logging.INFO, format='%(asctime)s - %(levelname)s - %(message)s')\n",
    "logger = logging.getLogger(__name__)\n",
    "\n",
    "# Initialize gistoolRunner class\n",
    "gr = gistoolRunner(config, logger)\n",
    "\n",
    "# Get lat and lon lims\n",
    "bbox = config['BOUNDING_BOX_COORDS'].split('/')\n",
    "latlims = f\"{bbox[2]},{bbox[0]}\"\n",
    "lonlims = f\"{bbox[1]},{bbox[3]}\"\n",
    "\n",
    "# Create the gistool command\n",
    "gistool_command = gr.create_gistool_command(dataset = 'MERIT-Hydro', output_dir = dem_dir, lat_lims = latlims, lon_lims = lonlims, variables = 'elv')\n",
    "gr.execute_gistool_command(gistool_command)\n"
   ]
  },
  {
   "cell_type": "markdown",
   "metadata": {},
   "source": [
    "## B. Landcover Data\n",
    "\n",
    "Currently the gistool supports the MODIS (MOD12Q1) and Landsat (NALCMS) land cover classification data"
   ]
  },
  {
   "cell_type": "code",
   "execution_count": null,
   "metadata": {},
   "outputs": [],
   "source": [
    "#First we define which years we should acquire the Landcover data for\n",
    "start_year = 2001\n",
    "end_year = 2020\n",
    "\n",
    "#Select which MODIS dataset to use\n",
    "modis_var = \"MCD12Q1.061\"\n",
    "\n",
    "# Create the gistool command\n",
    "gistool_command = gr.create_gistool_command(dataset = 'MODIS', output_dir = landclass_dir, lat_lims = latlims, lon_lims = lonlims, variables = modis_var, start_date=f\"{start_year}-01-01\", end_date=f\"{end_year}-01-01\")\n",
    "gr.execute_gistool_command(gistool_command)\n",
    "\n",
    "\n"
   ]
  },
  {
   "cell_type": "code",
   "execution_count": null,
   "metadata": {},
   "outputs": [],
   "source": [
    "# If we selected a range of years we need to calculate the mode of the timeseries\n",
    "def calculate_landcover_mode(input_dir, output_file, start_year, end_year):\n",
    "    # List all the geotiff files for the years we're interested in\n",
    "    geotiff_files = [input_dir / f\"domain_{config['DOMAIN_NAME']}{year}.tif\" for year in range(start_year, end_year + 1)]\n",
    "    \n",
    "    # Read the first file to get metadata\n",
    "    with rasterio.open(geotiff_files[0]) as src:\n",
    "        meta = src.meta\n",
    "        shape = src.shape\n",
    "    \n",
    "    # Initialize an array to store all the data\n",
    "    all_data = np.zeros((len(geotiff_files), *shape), dtype=np.int16)\n",
    "    \n",
    "    # Read all the geotiffs into the array\n",
    "    for i, file in enumerate(geotiff_files):\n",
    "        with rasterio.open(file) as src:\n",
    "            all_data[i] = src.read(1)\n",
    "    \n",
    "    # Calculate the mode along the time axis\n",
    "    mode_data, _ = stats.mode(all_data, axis=0)\n",
    "    mode_data = mode_data.astype(np.int16).squeeze()\n",
    "    \n",
    "    # Update metadata for output\n",
    "    meta.update(count=1, dtype='int16')\n",
    "    \n",
    "    # Write the result\n",
    "    with rasterio.open(output_file, 'w', **meta) as dst:\n",
    "        dst.write(mode_data, 1)\n",
    "    \n",
    "    print(f\"Mode calculation complete. Result saved to {output_file}\")\n",
    "\n",
    "if start_year != end_year:\n",
    "    input_dir = landclass_dir / modis_var\n",
    "    output_file = landclass_dir / f\"domain_Bow_at_Banff_landcover.tif\"\n",
    "    \n",
    "    calculate_landcover_mode(input_dir, output_file, start_year, end_year)"
   ]
  },
  {
   "cell_type": "markdown",
   "metadata": {},
   "source": [
    "## C. Soil classification data\n",
    "\n",
    "Currently the gistool supports i. Soil Grids (v1), ii. USDA Soil Class and iii. Global Soil Dataset for Earth System Modelling (GSDE)"
   ]
  },
  {
   "cell_type": "code",
   "execution_count": null,
   "metadata": {},
   "outputs": [],
   "source": [
    "# Create the gistool command\n",
    "gistool_command = gr.create_gistool_command(dataset = 'soil_class', output_dir = soilclass_dir, lat_lims = latlims, lon_lims = lonlims, variables = 'soil_classes')\n",
    "gr.execute_gistool_command(gistool_command)\n"
   ]
  },
  {
   "cell_type": "markdown",
   "metadata": {},
   "source": [
    "# 2. Download data from provider\n",
    "\n",
    "In case don't have access gistool supported HPC infrastructure data can be downloaded from the original data provider. CONFLUENCE currently supports direct downloads of the following datasets:\n",
    "\n",
    "1. Elevation (MERIT hydro)\n",
    "2. Soil classifications (SOILGRIDS)\n",
    "3. Landcover classifications (MODIS12Q1)\n",
    "\n",
    "These scripts are adapted from the CWARHM workflows by Knoben et al., 2021. The user can also develop their own download scripts here. If you do so, please consider contributing them to the CONFLUENCE repository."
   ]
  },
  {
   "cell_type": "markdown",
   "metadata": {},
   "source": [
    "## 1. Download elevation data from MERIT Hydro"
   ]
  },
  {
   "cell_type": "code",
   "execution_count": null,
   "metadata": {},
   "outputs": [],
   "source": [
    "# 1. Download MERIT HYDRO elevation data\n",
    "# Set up \n",
    "logging.basicConfig(level=logging.INFO, format='%(asctime)s - %(levelname)s - %(message)s')\n",
    "logger = logging.getLogger(__name__)\n",
    "\n",
    "# Initialize meritDownloader class\n",
    "md = meritDownloader(config, logger)\n",
    "\n",
    "# Run MERIT downloads\n",
    "md.run_download()\n",
    "\n",
    "logger.info(\"MERIT data processing completed\")"
   ]
  },
  {
   "cell_type": "markdown",
   "metadata": {},
   "source": [
    "## 2. Download soil classification data from SOILGRIDS"
   ]
  },
  {
   "cell_type": "code",
   "execution_count": 11,
   "metadata": {},
   "outputs": [
    {
     "ename": "FileNotFoundError",
     "evalue": "[Errno 2] No such file or directory: '/Users/amedin/.hydroshare'",
     "output_type": "error",
     "traceback": [
      "\u001b[0;31m---------------------------------------------------------------------------\u001b[0m",
      "\u001b[0;31mFileNotFoundError\u001b[0m                         Traceback (most recent call last)",
      "Cell \u001b[0;32mIn[11], line 9\u001b[0m\n\u001b[1;32m      6\u001b[0m sd \u001b[38;5;241m=\u001b[39m soilgridsDownloader(config, logger)\n\u001b[1;32m      8\u001b[0m \u001b[38;5;66;03m# Run SOILGRIDS downloads and processing\u001b[39;00m\n\u001b[0;32m----> 9\u001b[0m \u001b[43msd\u001b[49m\u001b[38;5;241;43m.\u001b[39;49m\u001b[43mprocess_soilgrids_data\u001b[49m\u001b[43m(\u001b[49m\u001b[43m)\u001b[49m\n\u001b[1;32m     11\u001b[0m logger\u001b[38;5;241m.\u001b[39minfo(\u001b[38;5;124m\"\u001b[39m\u001b[38;5;124mSOILGRIDS data processing completed\u001b[39m\u001b[38;5;124m\"\u001b[39m)\n",
      "File \u001b[0;32m~/Research/Confluence/CONFLUENCE/utils/dataHandling_utils/data_acquisition_utils.py:590\u001b[0m, in \u001b[0;36msoilgridsDownloader.process_soilgrids_data\u001b[0;34m(self)\u001b[0m\n\u001b[1;32m    589\u001b[0m \u001b[38;5;28;01mdef\u001b[39;00m\u001b[38;5;250m \u001b[39m\u001b[38;5;21mprocess_soilgrids_data\u001b[39m(\u001b[38;5;28mself\u001b[39m):\n\u001b[0;32m--> 590\u001b[0m     \u001b[38;5;28;43mself\u001b[39;49m\u001b[38;5;241;43m.\u001b[39;49m\u001b[43mdownload_soilgrids_data\u001b[49m\u001b[43m(\u001b[49m\u001b[43m)\u001b[49m\n\u001b[1;32m    591\u001b[0m     \u001b[38;5;28mself\u001b[39m\u001b[38;5;241m.\u001b[39mextract_domain()\n\u001b[1;32m    592\u001b[0m     \u001b[38;5;28mself\u001b[39m\u001b[38;5;241m.\u001b[39mcleanup()\n",
      "File \u001b[0;32m~/Research/Confluence/CONFLUENCE/utils/dataHandling_utils/data_acquisition_utils.py:544\u001b[0m, in \u001b[0;36msoilgridsDownloader.download_soilgrids_data\u001b[0;34m(self)\u001b[0m\n\u001b[1;32m    541\u001b[0m \u001b[38;5;28mself\u001b[39m\u001b[38;5;241m.\u001b[39msoil_raw_path\u001b[38;5;241m.\u001b[39mmkdir(parents\u001b[38;5;241m=\u001b[39m\u001b[38;5;28;01mTrue\u001b[39;00m, exist_ok\u001b[38;5;241m=\u001b[39m\u001b[38;5;28;01mTrue\u001b[39;00m)\n\u001b[1;32m    543\u001b[0m hydroshare_login \u001b[38;5;241m=\u001b[39m {}\n\u001b[0;32m--> 544\u001b[0m \u001b[38;5;28;01mwith\u001b[39;00m \u001b[38;5;28;43mopen\u001b[39;49m\u001b[43m(\u001b[49m\u001b[43mos\u001b[49m\u001b[38;5;241;43m.\u001b[39;49m\u001b[43mpath\u001b[49m\u001b[38;5;241;43m.\u001b[39;49m\u001b[43mexpanduser\u001b[49m\u001b[43m(\u001b[49m\u001b[38;5;124;43m\"\u001b[39;49m\u001b[38;5;124;43m~/.hydroshare\u001b[39;49m\u001b[38;5;124;43m\"\u001b[39;49m\u001b[43m)\u001b[49m\u001b[43m)\u001b[49m \u001b[38;5;28;01mas\u001b[39;00m file:\n\u001b[1;32m    545\u001b[0m     \u001b[38;5;28;01mfor\u001b[39;00m line \u001b[38;5;129;01min\u001b[39;00m file:\n\u001b[1;32m    546\u001b[0m         key, val \u001b[38;5;241m=\u001b[39m line\u001b[38;5;241m.\u001b[39msplit(\u001b[38;5;124m'\u001b[39m\u001b[38;5;124m:\u001b[39m\u001b[38;5;124m'\u001b[39m)\n",
      "\u001b[0;31mFileNotFoundError\u001b[0m: [Errno 2] No such file or directory: '/Users/amedin/.hydroshare'"
     ]
    }
   ],
   "source": [
    "# Set up \n",
    "logging.basicConfig(level=logging.INFO, format='%(asctime)s - %(levelname)s - %(message)s')\n",
    "logger = logging.getLogger(__name__)\n",
    "\n",
    "# Initialize soilgridsDownloader class\n",
    "sd = soilgridsDownloader(config, logger)\n",
    "\n",
    "# Run SOILGRIDS downloads and processing\n",
    "sd.process_soilgrids_data()\n",
    "\n",
    "logger.info(\"SOILGRIDS data processing completed\")"
   ]
  },
  {
   "cell_type": "markdown",
   "metadata": {},
   "source": [
    "## 3. Download landcover classifications from MODIS (MOD12Q1)"
   ]
  },
  {
   "cell_type": "code",
   "execution_count": 26,
   "metadata": {},
   "outputs": [
    {
     "ename": "TypeError",
     "evalue": "argument should be a str or an os.PathLike object where __fspath__ returns a str, not 'NoneType'",
     "output_type": "error",
     "traceback": [
      "\u001b[0;31m---------------------------------------------------------------------------\u001b[0m",
      "\u001b[0;31mTypeError\u001b[0m                                 Traceback (most recent call last)",
      "Cell \u001b[0;32mIn[26], line 6\u001b[0m\n\u001b[1;32m      3\u001b[0m logger \u001b[38;5;241m=\u001b[39m logging\u001b[38;5;241m.\u001b[39mgetLogger(\u001b[38;5;18m__name__\u001b[39m)\n\u001b[1;32m      5\u001b[0m \u001b[38;5;66;03m# Initialize modisDownloader class\u001b[39;00m\n\u001b[0;32m----> 6\u001b[0m md \u001b[38;5;241m=\u001b[39m \u001b[43mmodisDownloader\u001b[49m\u001b[43m(\u001b[49m\u001b[43mconfig\u001b[49m\u001b[43m,\u001b[49m\u001b[43m \u001b[49m\u001b[43mlogger\u001b[49m\u001b[43m)\u001b[49m\n\u001b[1;32m      8\u001b[0m \u001b[38;5;66;03m# Run MODIS downloads and processing\u001b[39;00m\n\u001b[1;32m      9\u001b[0m md\u001b[38;5;241m.\u001b[39mrun_modis_workflow()\n",
      "File \u001b[0;32m~/Research/Confluence/CONFLUENCE/utils/dataHandling_utils/data_acquisition_utils.py:603\u001b[0m, in \u001b[0;36mmodisDownloader.__init__\u001b[0;34m(self, config, logger)\u001b[0m\n\u001b[1;32m    600\u001b[0m \u001b[38;5;28mself\u001b[39m\u001b[38;5;241m.\u001b[39mdomain_name \u001b[38;5;241m=\u001b[39m \u001b[38;5;28mself\u001b[39m\u001b[38;5;241m.\u001b[39mconfig\u001b[38;5;241m.\u001b[39mget(\u001b[38;5;124m'\u001b[39m\u001b[38;5;124mDOMAIN_NAME\u001b[39m\u001b[38;5;124m'\u001b[39m)\n\u001b[1;32m    601\u001b[0m \u001b[38;5;28mself\u001b[39m\u001b[38;5;241m.\u001b[39mproject_dir \u001b[38;5;241m=\u001b[39m \u001b[38;5;28mself\u001b[39m\u001b[38;5;241m.\u001b[39mdata_dir \u001b[38;5;241m/\u001b[39m \u001b[38;5;124mf\u001b[39m\u001b[38;5;124m\"\u001b[39m\u001b[38;5;124mdomain_\u001b[39m\u001b[38;5;132;01m{\u001b[39;00m\u001b[38;5;28mself\u001b[39m\u001b[38;5;241m.\u001b[39mdomain_name\u001b[38;5;132;01m}\u001b[39;00m\u001b[38;5;124m\"\u001b[39m\n\u001b[0;32m--> 603\u001b[0m \u001b[38;5;28mself\u001b[39m\u001b[38;5;241m.\u001b[39mlinks_path \u001b[38;5;241m=\u001b[39m \u001b[38;5;28;43mself\u001b[39;49m\u001b[38;5;241;43m.\u001b[39;49m\u001b[43m_get_links_path\u001b[49m\u001b[43m(\u001b[49m\u001b[43m)\u001b[49m\n\u001b[1;32m    604\u001b[0m \u001b[38;5;28mself\u001b[39m\u001b[38;5;241m.\u001b[39mlinks_file \u001b[38;5;241m=\u001b[39m \u001b[38;5;28mself\u001b[39m\u001b[38;5;241m.\u001b[39mconfig\u001b[38;5;241m.\u001b[39mget(\u001b[38;5;124m'\u001b[39m\u001b[38;5;124mPARAMETER_LAND_LIST_NAME\u001b[39m\u001b[38;5;124m'\u001b[39m)\n\u001b[1;32m    605\u001b[0m \u001b[38;5;28mself\u001b[39m\u001b[38;5;241m.\u001b[39mmodis_raw_path \u001b[38;5;241m=\u001b[39m \u001b[38;5;28mself\u001b[39m\u001b[38;5;241m.\u001b[39m_get_modis_raw_path()\n",
      "File \u001b[0;32m~/Research/Confluence/CONFLUENCE/utils/dataHandling_utils/data_acquisition_utils.py:616\u001b[0m, in \u001b[0;36mmodisDownloader._get_links_path\u001b[0;34m(self)\u001b[0m\n\u001b[1;32m    614\u001b[0m \u001b[38;5;28;01mdef\u001b[39;00m\u001b[38;5;250m \u001b[39m\u001b[38;5;21m_get_links_path\u001b[39m(\u001b[38;5;28mself\u001b[39m):\n\u001b[1;32m    615\u001b[0m     links_path \u001b[38;5;241m=\u001b[39m \u001b[38;5;28mself\u001b[39m\u001b[38;5;241m.\u001b[39mconfig\u001b[38;5;241m.\u001b[39mget(\u001b[38;5;124m'\u001b[39m\u001b[38;5;124mPARAMETER_LAND_LIST_PATH\u001b[39m\u001b[38;5;124m'\u001b[39m)\n\u001b[0;32m--> 616\u001b[0m     \u001b[38;5;28;01mreturn\u001b[39;00m Path(\u001b[38;5;124m'\u001b[39m\u001b[38;5;124m./\u001b[39m\u001b[38;5;124m'\u001b[39m) \u001b[38;5;28;01mif\u001b[39;00m links_path \u001b[38;5;241m==\u001b[39m \u001b[38;5;124m'\u001b[39m\u001b[38;5;124mdefault\u001b[39m\u001b[38;5;124m'\u001b[39m \u001b[38;5;28;01melse\u001b[39;00m \u001b[43mPath\u001b[49m\u001b[43m(\u001b[49m\u001b[43mlinks_path\u001b[49m\u001b[43m)\u001b[49m\n",
      "File \u001b[0;32m~/opt/anaconda3/envs/confluence/lib/python3.13/pathlib/_local.py:503\u001b[0m, in \u001b[0;36mPath.__init__\u001b[0;34m(self, *args, **kwargs)\u001b[0m\n\u001b[1;32m    500\u001b[0m     msg \u001b[38;5;241m=\u001b[39m (\u001b[38;5;124m\"\u001b[39m\u001b[38;5;124msupport for supplying keyword arguments to pathlib.PurePath \u001b[39m\u001b[38;5;124m\"\u001b[39m\n\u001b[1;32m    501\u001b[0m            \u001b[38;5;124m\"\u001b[39m\u001b[38;5;124mis deprecated and scheduled for removal in Python \u001b[39m\u001b[38;5;132;01m{remove}\u001b[39;00m\u001b[38;5;124m\"\u001b[39m)\n\u001b[1;32m    502\u001b[0m     warnings\u001b[38;5;241m.\u001b[39m_deprecated(\u001b[38;5;124m\"\u001b[39m\u001b[38;5;124mpathlib.PurePath(**kwargs)\u001b[39m\u001b[38;5;124m\"\u001b[39m, msg, remove\u001b[38;5;241m=\u001b[39m(\u001b[38;5;241m3\u001b[39m, \u001b[38;5;241m14\u001b[39m))\n\u001b[0;32m--> 503\u001b[0m \u001b[38;5;28;43msuper\u001b[39;49m\u001b[43m(\u001b[49m\u001b[43m)\u001b[49m\u001b[38;5;241;43m.\u001b[39;49m\u001b[38;5;21;43m__init__\u001b[39;49m\u001b[43m(\u001b[49m\u001b[38;5;241;43m*\u001b[39;49m\u001b[43margs\u001b[49m\u001b[43m)\u001b[49m\n",
      "File \u001b[0;32m~/opt/anaconda3/envs/confluence/lib/python3.13/pathlib/_local.py:132\u001b[0m, in \u001b[0;36mPurePath.__init__\u001b[0;34m(self, *args)\u001b[0m\n\u001b[1;32m    130\u001b[0m             path \u001b[38;5;241m=\u001b[39m arg\n\u001b[1;32m    131\u001b[0m         \u001b[38;5;28;01mif\u001b[39;00m \u001b[38;5;129;01mnot\u001b[39;00m \u001b[38;5;28misinstance\u001b[39m(path, \u001b[38;5;28mstr\u001b[39m):\n\u001b[0;32m--> 132\u001b[0m             \u001b[38;5;28;01mraise\u001b[39;00m \u001b[38;5;167;01mTypeError\u001b[39;00m(\n\u001b[1;32m    133\u001b[0m                 \u001b[38;5;124m\"\u001b[39m\u001b[38;5;124margument should be a str or an os.PathLike \u001b[39m\u001b[38;5;124m\"\u001b[39m\n\u001b[1;32m    134\u001b[0m                 \u001b[38;5;124m\"\u001b[39m\u001b[38;5;124mobject where __fspath__ returns a str, \u001b[39m\u001b[38;5;124m\"\u001b[39m\n\u001b[1;32m    135\u001b[0m                 \u001b[38;5;124mf\u001b[39m\u001b[38;5;124m\"\u001b[39m\u001b[38;5;124mnot \u001b[39m\u001b[38;5;132;01m{\u001b[39;00m\u001b[38;5;28mtype\u001b[39m(path)\u001b[38;5;241m.\u001b[39m\u001b[38;5;18m__name__\u001b[39m\u001b[38;5;132;01m!r}\u001b[39;00m\u001b[38;5;124m\"\u001b[39m)\n\u001b[1;32m    136\u001b[0m         paths\u001b[38;5;241m.\u001b[39mappend(path)\n\u001b[1;32m    137\u001b[0m \u001b[38;5;66;03m# Avoid calling super().__init__, as an optimisation\u001b[39;00m\n",
      "\u001b[0;31mTypeError\u001b[0m: argument should be a str or an os.PathLike object where __fspath__ returns a str, not 'NoneType'"
     ]
    }
   ],
   "source": [
    "# Set up \n",
    "logging.basicConfig(level=logging.INFO, format='%(asctime)s - %(levelname)s - %(message)s')\n",
    "logger = logging.getLogger(__name__)\n",
    "\n",
    "# Initialize modisDownloader class\n",
    "md = modisDownloader(config, logger)\n",
    "\n",
    "# Run MODIS downloads and processing\n",
    "md.run_modis_workflow()\n",
    "\n",
    "logger.info(\"MODIS data processing completed\")"
   ]
  },
  {
   "cell_type": "markdown",
   "metadata": {},
   "source": [
    "## 4. Download Glacier domain data "
   ]
  },
  {
   "cell_type": "code",
   "execution_count": 372,
   "metadata": {},
   "outputs": [],
   "source": [
    "import numpy as np\n",
    "import pandas as pd\n",
    "import geopandas as gpd\n",
    "import rasterio\n",
    "import matplotlib.pyplot as plt\n",
    "from shapely.geometry import box, shape\n",
    "from shapely.geometry import mapping\n",
    "from shapely.ops import unary_union\n",
    "from rasterio.mask import mask\n",
    "from rasterio.features import shapes\n",
    "from rasterio.features import geometry_mask\n",
    "from matplotlib.colors import ListedColormap\n",
    "from mpl_toolkits.axes_grid1 import make_axes_locatable\n",
    "from pathlib import Path\n",
    "\n",
    "# select the glacier region and minimum glacier size to consider for ice movement\n",
    "RGI6_region = \"01Alaska\" # 01Alaska, 02WesternCanadaUS, 03ArcticCanadaNorth, 04ArcticCanadaSouth, 05Greenland, 06Iceland, 07Svalbard, 08Scandinavia, 09RussianArctic, 10NorthAsia, 11CentralEurope, 12CaucasusMiddleEast, 13CentralAsia, 14SouthAsiaWest, 15SouthAsiaEast, 16LowLatitudes, 17SouthernAndes, 18NewZealand, 19AntarcticSubantarctic\n",
    "min_glacier_size = 0.1 #km2, glaciers smaller than this will be considered glacierets (no ice movement modelled)\n",
    "RGI6_region_num = RGI6_region[:2]\n",
    "RGI6_region_name = RGI6_region[2:]\n",
    "\n",
    "# only need for flowlines, if using\n",
    "# RGI7_region = \"01_alaska\" # 01_alaska, 02_western_canada_usa, 03_arctic_canada_north, 04_arctic_canada_south, 05_greenland_periphery, 06_iceland, 07_svalbard_jan_mayen, 08_scandinavia, 09_russian_arctic, 10_north_asia, 11_central_europe, 12_caucasus_middle_east, 13_central_asia, 14_south_asia_west, 15_south_asia_east, 16_low_latitudes, 17_southern_andes, 18_new_zealand, 19_subantarctic_antarctic_islands\n",
    "\n",
    "# make directories\n",
    "glacier_dir = project_dir / 'attributes' / 'glaciers'\n",
    "glacier_dir.mkdir(parents = True, exist_ok = True)"
   ]
  },
  {
   "cell_type": "markdown",
   "metadata": {},
   "source": [
    "### a. DEM, previously processed\n",
    "Will use to make initilization ablation area if glacier ablation area product does not exist"
   ]
  },
  {
   "cell_type": "code",
   "execution_count": 406,
   "metadata": {},
   "outputs": [],
   "source": [
    "# get glacier surface elevation and bedrock elevation -- assuming there's only one file in the directory and it covers the entire bounding box\n",
    "dem_file = list(dem_dir.glob('*.tif'))[0]\n",
    "src = rasterio.open(dem_file)\n",
    "dem_data = src.read(1)  # Read the first band (elevation values)\n",
    "dem_transform = src.transform\n",
    "dem_crs = src.crs\n",
    "meta = src.meta.copy()  # Copy the metadata\n",
    "\n",
    "# Function to create a single polygon where DEM elevation is less than Zmed\n",
    "def create_low_elevation_polygon(src, geometry, dem_data, dem_transform, Zmed):\n",
    "    out_image, out_transform = mask(src, [geometry], crop=True)\n",
    "    out_image = out_image[0]  # Get the first band\n",
    "    low_elevation_mask = (out_image < Zmed) & (out_image > 0)\n",
    "    low_elevation_shapes = shapes(low_elevation_mask.astype(np.int16), transform=out_transform)\n",
    "    low_elevation_polygons = [shape(geom) for geom, value in low_elevation_shapes if value == 1]\n",
    "    if low_elevation_polygons:\n",
    "        return unary_union(low_elevation_polygons)\n",
    "    else:\n",
    "        return None"
   ]
  },
  {
   "cell_type": "markdown",
   "metadata": {},
   "source": [
    "### b. RGI data for all glaciers in area\n",
    "May need to download 2 versions (file per region)\n",
    "1. RGI 6.0: the debris products are associated with this version\n",
    "2. RGI 7.0: if we want flowlines for the glacier, we will need RGI 7.0-L"
   ]
  },
  {
   "cell_type": "code",
   "execution_count": 407,
   "metadata": {},
   "outputs": [
    {
     "name": "stdout",
     "output_type": "stream",
     "text": [
      "         RGIId                 Name   Area  Zmed\n",
      "RGI60-01.00326      College Glacier  4.246  1756\n",
      "RGI60-01.00327                 None  0.084  2041\n",
      "RGI60-01.00328                 None  0.086  1730\n",
      "RGI60-01.00329                 None  0.049  1740\n",
      "RGI60-01.00330                 None  0.504  1871\n",
      "RGI60-01.00331                 None  0.031  1895\n",
      "RGI60-01.00332                 None  0.106  1736\n",
      "RGI60-01.00333                 None  0.183  1885\n",
      "RGI60-01.00334    Pegmatite Glacier  0.219  1830\n",
      "RGI60-01.00380                 None  0.152  1744\n",
      "RGI60-01.00389                 None  0.084  1867\n",
      "RGI60-01.00390 West Gulkana Glacier  2.160  1768\n",
      "RGI60-01.00570      Gulkana Glacier 17.567  1858\n",
      "RGI60-01.22903                 None  0.442  1841\n",
      "RGI60-01.22904                 None  0.110  1791\n",
      "RGI60-01.24168                 None  0.485  1889\n",
      "RGI60-01.24169                 None  0.074  1972\n",
      "RGI60-01.24170                 None  0.239  1905\n",
      "RGI60-01.24171                 None  0.142  1877\n",
      "RGI60-01.24177                 None  0.298  2088\n",
      "RGI60-01.26750                 None  0.083  1799\n"
     ]
    }
   ],
   "source": [
    "# https://daacdata.apps.nsidc.org/pub/DATASETS/nsidc0770_rgi_v7/regional_files/RGI2000-v7.0-L/\n",
    "# RGI2000-v7.0-L-${RGI7_region}/RGI2000-v7.0-L-${RGI7_region}.shp might want to add these flowlines to the stream network\n",
    "\n",
    "# https://daacdata.apps.nsidc.org/pub/DATASETS/nsidc0770_rgi_v6/\n",
    "# should go get this, but for now just use the one downloaded from the website\n",
    "downloaded_rgi_dir = Path('/Users/amedin/Research/USask/RGI_data')\n",
    "rgi_shapefile = downloaded_rgi_dir / f\"nsidc0770_{RGI6_region_num}.rgi60.{RGI6_region_name}\" / f\"{RGI6_region_num}_rgi60_{RGI6_region_name}.shp\"\n",
    "\n",
    "# read in the shapefile\n",
    "rgi_gdf = gpd.read_file(rgi_shapefile)\n",
    "rgi_gdf = rgi_gdf.to_crs(dem_crs)\n",
    "rgi_gdf = rgi_gdf.to_crs(\"EPSG:4326\")\n",
    "\n",
    "# Define the UTM zone for the area (example: UTM zone 6N for Alaska)\n",
    "utm_crs = \"EPSG:32606\"\n",
    "\n",
    "# extract all glaciers in the lat long region of interest\n",
    "bbox = config['BOUNDING_BOX_COORDS'].split('/')\n",
    "bbox = [float(coord) for coord in bbox]  # Convert coordinates to float\n",
    "\n",
    "# Create a bounding box geometry and extract glaciers within the bounding box\n",
    "bbox_geom = box(bbox[1], bbox[0], bbox[3], bbox[2])  # (minx, miny, maxx, maxy)\n",
    "rgi = rgi_gdf[rgi_gdf.geometry.within(bbox_geom)]\n",
    "print(rgi[['RGIId','Name', 'Area', 'Zmed']].to_string(index=False))\n"
   ]
  },
  {
   "cell_type": "markdown",
   "metadata": {},
   "source": [
    "### c. Debris and ablation zone data from Herreid and Pellicciotti, Nature Geoscience, 2020\n",
    "Data S1:  \n",
    "For each RGI region get (all files are in ArcGIS format .shp): \n",
    "1. Debris map (glacier area >1 km2 version or glacier area >2 km2 version) where debris shapes are cut by source satellite image edges and assigned the satellite image acquisition date.\n",
    "2. Ablation zone area (glacier area >2 km2)\n",
    "3. Glacier map (glacier area >1 km2 version) that is corrected from RGI 6.0 and agrees with 1. and 2."
   ]
  },
  {
   "cell_type": "code",
   "execution_count": null,
   "metadata": {},
   "outputs": [],
   "source": [
    "# https://zenodo.org/records/3866466/files/SupplementaryInformation.zip, folder /S1/ \n",
    "# should go get this, but for now just use the one downloaded from the website\n",
    "downloaded_deb_dir = Path('/Users/amedin/Research/USask/Debris_data')\n",
    "\n",
    "# select the correct shapefiles based on the minimum glacier size\n",
    "if min_glacier_size < 2:\n",
    "    min_glacier_size_str = \"1\"\n",
    "else:\n",
    "    min_glacier_size_str = \"2\"\n",
    "deb_shapefile = downloaded_deb_dir / f\"S1/{RGI6_region}/{RGI6_region}_minGl{min_glacier_size_str}km2_debrisCover.shp\"\n",
    "abl_shapefile = downloaded_deb_dir / f\"S1/{RGI6_region}/{RGI6_region}_ablationZone.shp\"\n",
    "glc_shapefile = downloaded_deb_dir / f\"S1/{RGI6_region}/{RGI6_region}_minGl1km2.shp\"\n",
    "\n",
    "# read in the shapefiles\n",
    "deb_gdf = gpd.read_file(deb_shapefile)\n",
    "deb_gdf = deb_gdf.to_crs(\"EPSG:4326\")\n",
    "abl_gdf = gpd.read_file(abl_shapefile)\n",
    "abl_gdf = abl_gdf.to_crs(\"EPSG:4326\")\n",
    "glc_gdf = gpd.read_file(glc_shapefile)\n",
    "glc_gdf = glc_gdf.to_crs(\"EPSG:4326\")\n",
    "\n",
    "# extract all polygons in the bounding box\n",
    "deb = deb_gdf[deb_gdf.geometry.within(bbox_geom)]\n",
    "abl = abl_gdf[abl_gdf.geometry.within(bbox_geom)]\n",
    "glc = glc_gdf[glc_gdf.geometry.within(bbox_geom)]\n",
    "\n",
    "# Rename glacier RGIId entries to RGI60 since improperly named\n",
    "glc.loc[:, 'RGIId'] = glc['RGIId'].apply(lambda x: x.replace('RGI50', 'RGI60'))\n",
    "\n",
    "# glacier map for glaciers >1km2 area is more accurate than RGI, so if glacier RGI ID exists in glacier map use that geometry\n",
    "for i, row in rgi.iterrows():\n",
    "    if row['RGIId'] in glc['RGIId'].values:\n",
    "        rgi.at[i, 'geometry'] = glc[glc['RGIId'] == row['RGIId']]['geometry'].values[0]\n",
    "        \n",
    "# remove debris and ablation data with no corresponding glacier in bounding box\n",
    "deb = gpd.overlay(deb, rgi, how='intersection')\n",
    "abl = gpd.overlay(abl, rgi, how='intersection')"
   ]
  },
  {
   "cell_type": "code",
   "execution_count": 409,
   "metadata": {},
   "outputs": [],
   "source": [
    "# ablation zone sometimes does not reach to the glacier edge, so extend it out 50m\n",
    "abl_utm = abl.to_crs(utm_crs) # convert the ablation zone geometries to the UTM coordinate system\n",
    "abl_utm['geometry'] = abl_utm['geometry'].buffer(50)\n",
    "\n",
    "# Convert the geometries back to the original geographic coordinate system\n",
    "abl = abl_utm.to_crs(\"EPSG:4326\")\n",
    "\n",
    "# ablation zone sometimes contains polygons that are not glaciers, remove these\n",
    "abl = gpd.overlay(abl, glc, how='intersection')"
   ]
  },
  {
   "cell_type": "code",
   "execution_count": 411,
   "metadata": {},
   "outputs": [],
   "source": [
    "# if a glacier has no ablation zone in the shapefile, then use Zmed as equilibrium line altitude (means accumulation area ratio is 0.5)\n",
    "# need to create a polygon for the ablation zone from the DEM data\n",
    "# may be better to do all glaciers like this, but for now just do the ones that don't have ablation zones\n",
    "low_elevation_gdf = gpd.GeoDataFrame(columns=['geometry', 'RGIId'], crs=dem_crs)\n",
    "big = rgi[rgi['Area'] >= min_glacier_size] # separate out glaciers from glacierets\n",
    "for i, glacier in big.iterrows():\n",
    "    if glacier['RGIId'] not in abl['RGIId_1'].values: # note, the area is from RGI, may not agree with modification from debris cover maps\n",
    "        # use Zmed as ELA, or could input a value here if knew\n",
    "        Zmed = glacier['Zmed']\n",
    "        low_elevation_polygon = create_low_elevation_polygon(src, glacier.geometry, dem_data, dem_transform, Zmed)\n",
    "        if low_elevation_polygon:\n",
    "            glacier_properties = glacier.to_dict()\n",
    "            glacier_properties['geometry'] = low_elevation_polygon\n",
    "            new_row = gpd.GeoDataFrame([glacier_properties], columns=rgi_gdf.columns, crs=dem_crs)\n",
    "            low_elevation_gdf = pd.concat([low_elevation_gdf, new_row], ignore_index=True)\n",
    "\n",
    "# Convert the CRS of low_elevation_gdf to EPSG:4326\n",
    "low_elevation_gdf = low_elevation_gdf.to_crs(\"EPSG:4326\")\n",
    "\n",
    "# add the low elevation polygons to the ablation zone polygons\n",
    "abl = pd.concat([abl, low_elevation_gdf], ignore_index=True)\n",
    "\n",
    "# finalize the accumulation polygons\n",
    "acc = gpd.overlay(big, abl, how='difference') # remove ablation zone from glaciers for accumulation zone\n",
    "deb = gpd.overlay(deb, acc, how='difference') # no debris allowed in accumulation zone"
   ]
  },
  {
   "cell_type": "code",
   "execution_count": 412,
   "metadata": {},
   "outputs": [
    {
     "data": {
      "image/png": "[encoded data removed]",
      "text/plain": [
       "<Figure size 500x500 with 1 Axes>"
      ]
     },
     "metadata": {},
     "output_type": "display_data"
    }
   ],
   "source": [
    "# Plot the shapefiles of each glacier type\n",
    "fig, ax = plt.subplots(figsize=(5, 5))\n",
    "ax.set_facecolor('gray')  # Set the background color to gray\n",
    "rgi.plot(ax=ax, color='purple')\n",
    "acc.plot(ax=ax, color='cyan')\n",
    "abl.plot(ax=ax, color='blue')\n",
    "deb.plot(ax=ax, color='orange')\n",
    "ax.set_title('Glacier Shapefiles')\n",
    "plt.show()"
   ]
  },
  {
   "cell_type": "markdown",
   "metadata": {},
   "source": [
    "### d. Make tif file of domain type\n",
    "Types are:  \n",
    "1. upland\n",
    "2. accumulation zone\n",
    "3. clean ablation zone\n",
    "4. debris ablation zone\n",
    "5. reserved for wetland, not yet implemented\n",
    "6. glacieret (may have debris may not)"
   ]
  },
  {
   "cell_type": "code",
   "execution_count": 413,
   "metadata": {},
   "outputs": [],
   "source": [
    "# Define the glacier type array\n",
    "glacier_type = np.ones(dem_data.shape, dtype=np.int16)  # default upland\n",
    "\n",
    "# Overwrite for all glaciers\n",
    "for i, glacier in rgi.iterrows():\n",
    "    mask_array = geometry_mask([glacier.geometry], transform=dem_transform, invert=True, out_shape=dem_data.shape)\n",
    "    glacier_type[mask_array] = 6\n",
    "\n",
    "# If have zones, overwrite with zones (not glacieret)\n",
    "for i, glacier in acc.iterrows():\n",
    "    mask_array = geometry_mask([glacier.geometry], transform=dem_transform, invert=True, out_shape=dem_data.shape)\n",
    "    glacier_type[mask_array] = 2\n",
    "for i, glacier in abl.iterrows():\n",
    "    mask_array = geometry_mask([glacier.geometry], transform=dem_transform, invert=True, out_shape=dem_data.shape)\n",
    "    glacier_type[mask_array] = 3\n",
    "for i, glacier in deb.iterrows():\n",
    "    mask_array = geometry_mask([glacier.geometry], transform=dem_transform, invert=True, out_shape=dem_data.shape)\n",
    "    glacier_type[mask_array] = 4\n",
    "\n",
    "# Write the glacier type to a tif file\n",
    "output_file = glacier_dir / f\"domain_{config['DOMAIN_NAME']}_glacier_type.tif\"\n",
    "meta.update(count=1, dtype='int16')\n",
    "with rasterio.open(output_file, 'w', **meta) as dst:\n",
    "    dst.write(glacier_type, 1)"
   ]
  },
  {
   "cell_type": "code",
   "execution_count": 414,
   "metadata": {},
   "outputs": [
    {
     "data": {
      "image/png": "[encoded data removed]",
      "text/plain": [
       "<Figure size 800x800 with 2 Axes>"
      ]
     },
     "metadata": {},
     "output_type": "display_data"
    }
   ],
   "source": [
    "# plot the domain types\n",
    "colors = ['gray', 'cyan', 'blue', 'orange', 'green', 'purple']\n",
    "cmap = ListedColormap(colors)\n",
    "\n",
    "fig, ax = plt.subplots(figsize=(8, 8))\n",
    "im = ax.imshow(glacier_type, cmap=cmap)\n",
    "divider = make_axes_locatable(ax)\n",
    "cax = divider.append_axes(\"right\", size=\"5%\", pad=0.1)\n",
    "cbar = plt.colorbar(im, cax=cax)\n",
    "cbar.ax.tick_params(labelsize=10)\n",
    "ax.set_title('Domain Types')\n",
    "plt.show()"
   ]
  },
  {
   "cell_type": "code",
   "execution_count": null,
   "metadata": {},
   "outputs": [],
   "source": [
    "# make a tiff of glacier ID (for all glaciers? or just those that are >X km2)"
   ]
  },
  {
   "cell_type": "code",
   "execution_count": null,
   "metadata": {},
   "outputs": [],
   "source": [
    "# https://n5eil01u.ecs.nsidc.org/HMA/HMA_DTE.001/2000.01.01/ \n",
    "# Debris thickness in meters is provided either in a file  \"HME_DTE_${RGI6_region_#}.${RGI6_id}_hdts_m.tif\" or \"_hdts_m_extrap.tif\".\n",
    "# Glacier thickness data in tif files for all debris covered glaciers in RGIV6.0\n",
    "# download the data for the region # of interest and extract the data for the glaciers in the region of interest\n",
    "# combine for one tif file for the region of interest\n",
    "# if glacier <1 km2 then use this as debris cover area too\n",
    "\n",
    "# make a tif of debris thickness if >= min_glacier_size"
   ]
  },
  {
   "cell_type": "code",
   "execution_count": null,
   "metadata": {},
   "outputs": [],
   "source": [
    "# https://www.sedoo.fr/theia-publication-products/?uuid=55acbdd5-3982-4eac-89b2-46703557938c\n",
    "# THICKNESS_RGI-1.*_2021*.tif where the first * is a subregion number and the second * is a month\n",
    "# make a tif of glacier thickness if >= min_glacier_size"
   ]
  },
  {
   "cell_type": "markdown",
   "metadata": {},
   "source": [
    "## Conclusion\n",
    "Congratulations! You have successfully acquired the geospatial data we need to define our modelling domain and to estimate our model attributes."
   ]
  }
 ],
 "metadata": {
  "kernelspec": {
   "display_name": "confluence",
   "language": "python",
   "name": "python3"
  },
  "language_info": {
   "codemirror_mode": {
    "name": "ipython",
    "version": 3
   },
   "file_extension": ".py",
   "mimetype": "text/x-python",
   "name": "python",
   "nbconvert_exporter": "python",
   "pygments_lexer": "ipython3",
   "version": "3.13.2"
  }
 },
 "nbformat": 4,
 "nbformat_minor": 4
}
